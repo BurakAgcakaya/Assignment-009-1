{
  "nbformat": 4,
  "nbformat_minor": 0,
  "metadata": {
    "colab": {
      "name": "PythonSession-1.ipynb",
      "provenance": [],
      "collapsed_sections": [],
      "authorship_tag": "ABX9TyNv+P0k4JiTd60nznrzTyA8",
      "include_colab_link": true
    },
    "kernelspec": {
      "display_name": "Python 3",
      "name": "python3"
    },
    "language_info": {
      "name": "python"
    }
  },
  "cells": [
    {
      "cell_type": "markdown",
      "metadata": {
        "id": "view-in-github",
        "colab_type": "text"
      },
      "source": [
        "<a href=\"https://colab.research.google.com/github/BurakAgcakaya/Assignment-009-1/blob/master/PythonSession_1.ipynb\" target=\"_parent\"><img src=\"https://colab.research.google.com/assets/colab-badge.svg\" alt=\"Open In Colab\"/></a>"
      ]
    },
    {
      "cell_type": "code",
      "metadata": {
        "colab": {
          "base_uri": "https://localhost:8080/"
        },
        "id": "9EHHbrG_EsEq",
        "outputId": "2794ed02-60dd-4a8a-ab34-0a5234fc456a"
      },
      "source": [
        "print('Hello World!')\n",
        "print(\"C-9156 Burak\")"
      ],
      "execution_count": null,
      "outputs": [
        {
          "output_type": "stream",
          "text": [
            "Hello World!\n",
            "C-9156 Burak\n"
          ],
          "name": "stdout"
        }
      ]
    },
    {
      "cell_type": "code",
      "metadata": {
        "colab": {
          "base_uri": "https://localhost:8080/",
          "height": 131
        },
        "id": "jkHuR4RRJW5W",
        "outputId": "419cdc18-a594-40ae-b594-bb4221bd5807"
      },
      "source": [
        "print(\"Runaway')"
      ],
      "execution_count": null,
      "outputs": [
        {
          "output_type": "error",
          "ename": "SyntaxError",
          "evalue": "ignored",
          "traceback": [
            "\u001b[0;36m  File \u001b[0;32m\"<ipython-input-4-4d35aed01147>\"\u001b[0;36m, line \u001b[0;32m1\u001b[0m\n\u001b[0;31m    print(\"Runaway')\u001b[0m\n\u001b[0m                    ^\u001b[0m\n\u001b[0;31mSyntaxError\u001b[0m\u001b[0;31m:\u001b[0m EOL while scanning string literal\n"
          ]
        }
      ]
    },
    {
      "cell_type": "code",
      "metadata": {
        "colab": {
          "base_uri": "https://localhost:8080/"
        },
        "id": "0IwY-iKxLcAN",
        "outputId": "efde2c68-862a-4e1c-bde4-6d47de0bd05f"
      },
      "source": [
        "print(\"\"\"bu benim ilk dersim.\n",
        "çok heyecanlıyım\n",
        "karşımda pırlanta gibi insanlar var\n",
        "o yüzden çok iyi hissediyorum\"\"\")"
      ],
      "execution_count": null,
      "outputs": [
        {
          "output_type": "stream",
          "text": [
            "bu benim ilk dersim.\n",
            "çok heyecanlıyım\n",
            "karşımda pırlanta gibi insanlar var\n",
            "o yüzden çok iyi hissediyorum\n"
          ],
          "name": "stdout"
        }
      ]
    },
    {
      "cell_type": "code",
      "metadata": {
        "colab": {
          "base_uri": "https://localhost:8080/"
        },
        "id": "p7Jabf6cMF2u",
        "outputId": "38151dc4-2444-4f7e-f2f2-ba3efbdcec40"
      },
      "source": [
        "print('3.14')"
      ],
      "execution_count": null,
      "outputs": [
        {
          "output_type": "stream",
          "text": [
            "3.14\n"
          ],
          "name": "stdout"
        }
      ]
    },
    {
      "cell_type": "code",
      "metadata": {
        "colab": {
          "base_uri": "https://localhost:8080/"
        },
        "id": "Id5apb4zMV3d",
        "outputId": "e3dd1c94-3832-4a4b-8b52-62b018fa6432"
      },
      "source": [
        "print(3.14)"
      ],
      "execution_count": null,
      "outputs": [
        {
          "output_type": "stream",
          "text": [
            "3.14\n"
          ],
          "name": "stdout"
        }
      ]
    },
    {
      "cell_type": "code",
      "metadata": {
        "colab": {
          "base_uri": "https://localhost:8080/"
        },
        "id": "9oSvNPyMMYb9",
        "outputId": "68ce09db-17c0-413a-921d-9711a9c7ffcc"
      },
      "source": [
        "print(''''We should have enough time for our family\"''')"
      ],
      "execution_count": null,
      "outputs": [
        {
          "output_type": "stream",
          "text": [
            "'We should have enough time for our family\"\n"
          ],
          "name": "stdout"
        }
      ]
    },
    {
      "cell_type": "code",
      "metadata": {
        "colab": {
          "base_uri": "https://localhost:8080/",
          "height": 131
        },
        "id": "SRlbhL30NCcr",
        "outputId": "659e3aa0-fa15-44dd-8a90-304c61d39591"
      },
      "source": [
        "print('We should have enough time for our family\")"
      ],
      "execution_count": null,
      "outputs": [
        {
          "output_type": "error",
          "ename": "SyntaxError",
          "evalue": "ignored",
          "traceback": [
            "\u001b[0;36m  File \u001b[0;32m\"<ipython-input-12-f697129e4ecd>\"\u001b[0;36m, line \u001b[0;32m1\u001b[0m\n\u001b[0;31m    print('We should have enough time for our family\")\u001b[0m\n\u001b[0m                                                      ^\u001b[0m\n\u001b[0;31mSyntaxError\u001b[0m\u001b[0;31m:\u001b[0m EOL while scanning string literal\n"
          ]
        }
      ]
    },
    {
      "cell_type": "code",
      "metadata": {
        "colab": {
          "base_uri": "https://localhost:8080/"
        },
        "id": "Ru3tazXZNjyK",
        "outputId": "16dbcee2-a769-4b71-9e83-bb800f743708"
      },
      "source": [
        "print()"
      ],
      "execution_count": null,
      "outputs": [
        {
          "output_type": "stream",
          "text": [
            "\n"
          ],
          "name": "stdout"
        }
      ]
    },
    {
      "cell_type": "code",
      "metadata": {
        "colab": {
          "base_uri": "https://localhost:8080/"
        },
        "id": "j3zlHUGrOVNP",
        "outputId": "2ef95e41-7253-4ed4-bec6-d60359062412"
      },
      "source": [
        "print('')"
      ],
      "execution_count": null,
      "outputs": [
        {
          "output_type": "stream",
          "text": [
            "\n"
          ],
          "name": "stdout"
        }
      ]
    },
    {
      "cell_type": "code",
      "metadata": {
        "colab": {
          "base_uri": "https://localhost:8080/",
          "height": 131
        },
        "id": "kixpN8k0OWm2",
        "outputId": "1e72a669-06ae-4db5-9017-e239ed491553"
      },
      "source": [
        "print('''')"
      ],
      "execution_count": null,
      "outputs": [
        {
          "output_type": "error",
          "ename": "SyntaxError",
          "evalue": "ignored",
          "traceback": [
            "\u001b[0;36m  File \u001b[0;32m\"<ipython-input-15-4b777b03c816>\"\u001b[0;36m, line \u001b[0;32m1\u001b[0m\n\u001b[0;31m    print('''')\u001b[0m\n\u001b[0m               ^\u001b[0m\n\u001b[0;31mSyntaxError\u001b[0m\u001b[0;31m:\u001b[0m EOF while scanning triple-quoted string literal\n"
          ]
        }
      ]
    },
    {
      "cell_type": "code",
      "metadata": {
        "colab": {
          "base_uri": "https://localhost:8080/"
        },
        "id": "zCOrJwsgOoag",
        "outputId": "1ce79ef3-8c90-4fc8-cab0-b6355aff5469"
      },
      "source": [
        "print('''\"''')"
      ],
      "execution_count": null,
      "outputs": [
        {
          "output_type": "stream",
          "text": [
            "\"\n"
          ],
          "name": "stdout"
        }
      ]
    },
    {
      "cell_type": "code",
      "metadata": {
        "id": "z_ZJbW6fPcDG"
      },
      "source": [
        "x =                  7\n",
        "y =                  3\n",
        "erzurumlular = \"dadaş\""
      ],
      "execution_count": null,
      "outputs": []
    },
    {
      "cell_type": "code",
      "metadata": {
        "id": "zOZFQNI_SVQ8"
      },
      "source": [
        "clarusway = \"en iyi IT okulu\"  # bu bir in-line commenttir."
      ],
      "execution_count": null,
      "outputs": []
    },
    {
      "cell_type": "code",
      "metadata": {
        "colab": {
          "base_uri": "https://localhost:8080/"
        },
        "id": "uQFFhvsZZb4g",
        "outputId": "46106c4c-914b-4a95-b04b-0abfb2e7404b"
      },
      "source": [
        "print(\"çok önemli bir adım attınız.. başarının eşiğindesiniz. haydi gazanız mübarek olsun.\")\n",
        "#birinci satır comment.\n",
        "#ikinci satır comment\n",
        "#üçüncü satır comment\n"
      ],
      "execution_count": null,
      "outputs": [
        {
          "output_type": "stream",
          "text": [
            "çok önemli bir adım attınız.. başarının eşiğindesiniz. haydi gazanız mübarek olsun.\n"
          ],
          "name": "stdout"
        }
      ]
    },
    {
      "cell_type": "code",
      "metadata": {
        "id": "RhfcsSoGZ325"
      },
      "source": [
        "x = 31\n",
        "# burada \"x\" kullanıcının yaşıdır."
      ],
      "execution_count": null,
      "outputs": []
    },
    {
      "cell_type": "markdown",
      "metadata": {
        "id": "53dW433zbKV3"
      },
      "source": [
        ""
      ]
    },
    {
      "cell_type": "code",
      "metadata": {
        "colab": {
          "base_uri": "https://localhost:8080/"
        },
        "id": "_UacaSMJaO9I",
        "outputId": "81e3469c-8cb4-4c8d-daf6-c88da9421245"
      },
      "source": [
        "3 + 5"
      ],
      "execution_count": null,
      "outputs": [
        {
          "output_type": "execute_result",
          "data": {
            "text/plain": [
              "8"
            ]
          },
          "metadata": {
            "tags": []
          },
          "execution_count": 21
        }
      ]
    },
    {
      "cell_type": "code",
      "metadata": {
        "colab": {
          "base_uri": "https://localhost:8080/"
        },
        "id": "qM6xzjpNarMr",
        "outputId": "aba26ab7-4e2e-4a28-fddd-354072ca413a"
      },
      "source": [
        "my_age = 31\n",
        "your_age = 35\n",
        "my_age = your_age\n",
        "print(my_age)"
      ],
      "execution_count": null,
      "outputs": [
        {
          "output_type": "stream",
          "text": [
            "35\n"
          ],
          "name": "stdout"
        }
      ]
    },
    {
      "cell_type": "code",
      "metadata": {
        "colab": {
          "background_save": true
        },
        "id": "aimYIuN2fbnt",
        "outputId": "8f8f4d1f-f3f8-498a-e40a-4edab608f955"
      },
      "source": [
        "x = 5\n",
        "y = 2\n",
        "z = 4\n",
        "print(x)\n",
        "print(y)\n",
        "print(z)"
      ],
      "execution_count": null,
      "outputs": [
        {
          "output_type": "stream",
          "text": [
            "5\n",
            "2\n",
            "4\n"
          ],
          "name": "stdout"
        }
      ]
    },
    {
      "cell_type": "code",
      "metadata": {
        "id": "aB1tnCAwgCOI",
        "colab": {
          "base_uri": "https://localhost:8080/",
          "height": 131
        },
        "outputId": "eedf3fe4-8dbf-4f64-d875-116eee70e81d"
      },
      "source": [
        "False = \"Burak\""
      ],
      "execution_count": null,
      "outputs": [
        {
          "output_type": "error",
          "ename": "SyntaxError",
          "evalue": "ignored",
          "traceback": [
            "\u001b[0;36m  File \u001b[0;32m\"<ipython-input-1-7ffb53b68649>\"\u001b[0;36m, line \u001b[0;32m1\u001b[0m\n\u001b[0;31m    False = \"Burak\"\u001b[0m\n\u001b[0m                   ^\u001b[0m\n\u001b[0;31mSyntaxError\u001b[0m\u001b[0;31m:\u001b[0m can't assign to keyword\n"
          ]
        }
      ]
    },
    {
      "cell_type": "code",
      "metadata": {
        "id": "Q-O2g7Q5hRYh"
      },
      "source": [
        "false = \"sorunsuz çaloıstı\""
      ],
      "execution_count": null,
      "outputs": []
    },
    {
      "cell_type": "code",
      "metadata": {
        "id": "YiSQ451Ghx5I"
      },
      "source": [
        "students = ... #iyi yazım\n"
      ],
      "execution_count": null,
      "outputs": []
    },
    {
      "cell_type": "code",
      "metadata": {
        "colab": {
          "base_uri": "https://localhost:8080/",
          "height": 131
        },
        "id": "0IM7fDewi6yE",
        "outputId": "0bc2730d-b76a-4199-9fc1-c03ad5356b0c"
      },
      "source": [
        "st = ... or s = ... # kötü yazım"
      ],
      "execution_count": null,
      "outputs": [
        {
          "output_type": "error",
          "ename": "SyntaxError",
          "evalue": "ignored",
          "traceback": [
            "\u001b[0;36m  File \u001b[0;32m\"<ipython-input-4-6cbb6f87f0f8>\"\u001b[0;36m, line \u001b[0;32m1\u001b[0m\n\u001b[0;31m    st = ... or s = ... # kötü yazım\u001b[0m\n\u001b[0m        ^\u001b[0m\n\u001b[0;31mSyntaxError\u001b[0m\u001b[0;31m:\u001b[0m can't assign to operator\n"
          ]
        }
      ]
    },
    {
      "cell_type": "code",
      "metadata": {
        "colab": {
          "base_uri": "https://localhost:8080/",
          "height": 218
        },
        "id": "vA9BdBZbjWqT",
        "outputId": "90c3f93d-ea62-4151-f121-5d781368c2aa"
      },
      "source": [
        "x = y = z = same #tırnak koynayı unutma\n",
        "print(x)\n",
        "print(y)\n",
        "print(z)"
      ],
      "execution_count": null,
      "outputs": [
        {
          "output_type": "error",
          "ename": "NameError",
          "evalue": "ignored",
          "traceback": [
            "\u001b[0;31m---------------------------------------------------------------------------\u001b[0m",
            "\u001b[0;31mNameError\u001b[0m                                 Traceback (most recent call last)",
            "\u001b[0;32m<ipython-input-7-78a1f38b50f2>\u001b[0m in \u001b[0;36m<module>\u001b[0;34m()\u001b[0m\n\u001b[0;32m----> 1\u001b[0;31m \u001b[0mx\u001b[0m \u001b[0;34m=\u001b[0m \u001b[0my\u001b[0m \u001b[0;34m=\u001b[0m \u001b[0mz\u001b[0m \u001b[0;34m=\u001b[0m \u001b[0msame\u001b[0m\u001b[0;34m\u001b[0m\u001b[0;34m\u001b[0m\u001b[0m\n\u001b[0m\u001b[1;32m      2\u001b[0m \u001b[0mprint\u001b[0m\u001b[0;34m(\u001b[0m\u001b[0mx\u001b[0m\u001b[0;34m)\u001b[0m\u001b[0;34m\u001b[0m\u001b[0;34m\u001b[0m\u001b[0m\n\u001b[1;32m      3\u001b[0m \u001b[0mprint\u001b[0m\u001b[0;34m(\u001b[0m\u001b[0my\u001b[0m\u001b[0;34m)\u001b[0m\u001b[0;34m\u001b[0m\u001b[0;34m\u001b[0m\u001b[0m\n\u001b[1;32m      4\u001b[0m \u001b[0mprint\u001b[0m\u001b[0;34m(\u001b[0m\u001b[0mz\u001b[0m\u001b[0;34m)\u001b[0m\u001b[0;34m\u001b[0m\u001b[0;34m\u001b[0m\u001b[0m\n",
            "\u001b[0;31mNameError\u001b[0m: name 'same' is not defined"
          ]
        }
      ]
    },
    {
      "cell_type": "code",
      "metadata": {
        "colab": {
          "base_uri": "https://localhost:8080/"
        },
        "id": "BzDmKbuPlPzK",
        "outputId": "51cf9d80-fd83-4f2c-8c16-a87b93c2961e"
      },
      "source": [
        "x = y = z = \"same\"\n",
        "print(x)\n",
        "print(y)\n",
        "print(z)"
      ],
      "execution_count": null,
      "outputs": [
        {
          "output_type": "stream",
          "text": [
            "same\n",
            "same\n",
            "same\n"
          ],
          "name": "stdout"
        }
      ]
    },
    {
      "cell_type": "code",
      "metadata": {
        "colab": {
          "base_uri": "https://localhost:8080/"
        },
        "id": "oKY1v3xeljVU",
        "outputId": "e8c29c41-ac89-4773-efcb-e6684213b533"
      },
      "source": [
        "january = march = may = july = august = october = december = 31\n",
        "april = june = septmeber = november = 30\n",
        "february = 28\n",
        "print(january, march, may, july, august, october, december, april, june, septmeber, november, february)"
      ],
      "execution_count": null,
      "outputs": [
        {
          "output_type": "stream",
          "text": [
            "31 31 31 31 31 31 31 30 30 30 30 28\n"
          ],
          "name": "stdout"
        }
      ]
    },
    {
      "cell_type": "code",
      "metadata": {
        "colab": {
          "base_uri": "https://localhost:8080/"
        },
        "id": "r1udKGAAnv0g",
        "outputId": "eee1c006-5a7a-43d1-f286-b11827508695"
      },
      "source": [
        "website = \"apple.com\"\n",
        "print(website)"
      ],
      "execution_count": null,
      "outputs": [
        {
          "output_type": "stream",
          "text": [
            "apple.com\n"
          ],
          "name": "stdout"
        }
      ]
    },
    {
      "cell_type": "code",
      "metadata": {
        "colab": {
          "base_uri": "https://localhost:8080/"
        },
        "id": "7PIiKy5eoQtq",
        "outputId": "216b185a-8d02-4ca7-a394-ac4e22d81c30"
      },
      "source": [
        "website = \"clarusway\"\n",
        "print(website)"
      ],
      "execution_count": null,
      "outputs": [
        {
          "output_type": "stream",
          "text": [
            "clarusway\n"
          ],
          "name": "stdout"
        }
      ]
    },
    {
      "cell_type": "code",
      "metadata": {
        "id": "0ylp3qV6ouQA"
      },
      "source": [
        "x = \"Erzurum\"\n",
        "y = \"Türkiye\"\n",
        "z = x\n",
        "y = z\n",
        "x = \"Burak\""
      ],
      "execution_count": null,
      "outputs": []
    },
    {
      "cell_type": "code",
      "metadata": {
        "colab": {
          "base_uri": "https://localhost:8080/"
        },
        "id": "YP6gz5BjpL27",
        "outputId": "c0dd7875-cbd1-493f-a4c0-4b0cb1056866"
      },
      "source": [
        "print(x)\n",
        "print(y)\n",
        "print(z) #en son satırı baz alır"
      ],
      "execution_count": null,
      "outputs": [
        {
          "output_type": "stream",
          "text": [
            "Burak\n",
            "Erzurum\n",
            "Erzurum\n"
          ],
          "name": "stdout"
        }
      ]
    },
    {
      "cell_type": "code",
      "metadata": {
        "colab": {
          "base_uri": "https://localhost:8080/"
        },
        "id": "oS9vEt27pPCq",
        "outputId": "ea427ecc-7cc2-4765-e7d5-e3470e193110"
      },
      "source": [
        "first_number = \"100\"\n",
        "second_number = first_number\n",
        "print(second_number)"
      ],
      "execution_count": null,
      "outputs": [
        {
          "output_type": "stream",
          "text": [
            "100\n"
          ],
          "name": "stdout"
        }
      ]
    },
    {
      "cell_type": "code",
      "metadata": {
        "id": "LCzsIumUs8Rv"
      },
      "source": [
        "x = 15\n",
        "y = 33\n",
        "z = x\n",
        "x = y"
      ],
      "execution_count": null,
      "outputs": []
    },
    {
      "cell_type": "code",
      "metadata": {
        "colab": {
          "base_uri": "https://localhost:8080/"
        },
        "id": "qrgl9qnetS0_",
        "outputId": "b817c1fe-3542-4c6e-a208-c1cc9aefe21f"
      },
      "source": [
        "print(x)\n",
        "print(y)\n",
        "print(z)"
      ],
      "execution_count": null,
      "outputs": [
        {
          "output_type": "stream",
          "text": [
            "33\n",
            "33\n",
            "15\n"
          ],
          "name": "stdout"
        }
      ]
    },
    {
      "cell_type": "code",
      "metadata": {
        "id": "m7GeSCEZtWaf"
      },
      "source": [
        "a, b, c = 5, 3.2, \"Hello\""
      ],
      "execution_count": null,
      "outputs": []
    },
    {
      "cell_type": "code",
      "metadata": {
        "colab": {
          "base_uri": "https://localhost:8080/"
        },
        "id": "n6_20ezFt2eZ",
        "outputId": "09a85f59-1195-4001-9284-f366af93ca34"
      },
      "source": [
        "print(a)\n",
        "print(b)\n",
        "print(c)"
      ],
      "execution_count": null,
      "outputs": [
        {
          "output_type": "stream",
          "text": [
            "5\n",
            "3.2\n",
            "Hello\n"
          ],
          "name": "stdout"
        }
      ]
    },
    {
      "cell_type": "code",
      "metadata": {
        "id": "Wv7d9pL1t5sx"
      },
      "source": [
        "man = \"andrew\"\n",
        "color = \"green\"\n",
        "age = 32\n",
        "pi = 3.14\n",
        "color = \"yellow\"\n",
        "age = 44\n",
        "man = \"joseph\""
      ],
      "execution_count": null,
      "outputs": []
    },
    {
      "cell_type": "code",
      "metadata": {
        "colab": {
          "base_uri": "https://localhost:8080/"
        },
        "id": "217vmh3AufkG",
        "outputId": "c4656c09-09cc-42e7-94dc-f9f81f7f63a0"
      },
      "source": [
        "print(man, age, color)"
      ],
      "execution_count": null,
      "outputs": [
        {
          "output_type": "stream",
          "text": [
            "joseph 44 yellow\n"
          ],
          "name": "stdout"
        }
      ]
    },
    {
      "cell_type": "code",
      "metadata": {
        "id": "zGaqD6uJuihV"
      },
      "source": [
        "my_text = \"being a good person\""
      ],
      "execution_count": null,
      "outputs": []
    },
    {
      "cell_type": "code",
      "metadata": {
        "colab": {
          "base_uri": "https://localhost:8080/"
        },
        "id": "Q5sbSYcuvzl8",
        "outputId": "c4d6633b-e8e9-4135-ba4f-d380d6d805ed"
      },
      "source": [
        "print(my_text)"
      ],
      "execution_count": null,
      "outputs": [
        {
          "output_type": "stream",
          "text": [
            "being a good person\n"
          ],
          "name": "stdout"
        }
      ]
    },
    {
      "cell_type": "code",
      "metadata": {
        "colab": {
          "base_uri": "https://localhost:8080/"
        },
        "id": "2cV8r9E8v2Qj",
        "outputId": "62fde826-7b7e-489c-d9d4-a47d6de132e9"
      },
      "source": [
        "print(\"632\") #string type"
      ],
      "execution_count": null,
      "outputs": [
        {
          "output_type": "stream",
          "text": [
            "632\n"
          ],
          "name": "stdout"
        }
      ]
    },
    {
      "cell_type": "code",
      "metadata": {
        "id": "Y6eQmvaLxLNT"
      },
      "source": [
        "  string_değişken = \"clarusway'e gelin, iş garantinizi alın\""
      ],
      "execution_count": null,
      "outputs": []
    },
    {
      "cell_type": "code",
      "metadata": {
        "colab": {
          "base_uri": "https://localhost:8080/",
          "height": 35
        },
        "id": "Y8Xyw2G-xpnD",
        "outputId": "c7c33984-6926-4cd7-f8df-96a3c51816ef"
      },
      "source": [
        "string_değişken #son satırdaki değişkeni çalıştırırsak print yazmadan da çıktı alınır"
      ],
      "execution_count": null,
      "outputs": [
        {
          "output_type": "execute_result",
          "data": {
            "application/vnd.google.colaboratory.intrinsic+json": {
              "type": "string"
            },
            "text/plain": [
              "\"clarusway'e gelin, iş garantinizi alın\""
            ]
          },
          "metadata": {
            "tags": []
          },
          "execution_count": 29
        }
      ]
    },
    {
      "cell_type": "code",
      "metadata": {
        "id": "KeUxQs_Wxvq-"
      },
      "source": [
        "my_integer = 40 \n",
        "negative_number = -18"
      ],
      "execution_count": null,
      "outputs": []
    },
    {
      "cell_type": "code",
      "metadata": {
        "colab": {
          "base_uri": "https://localhost:8080/"
        },
        "id": "OpnkACydzCXA",
        "outputId": "4b14d1cb-dac3-416a-ef14-591d89df3698"
      },
      "source": [
        "print(my_integer)\n",
        "print(negative_number)"
      ],
      "execution_count": null,
      "outputs": [
        {
          "output_type": "stream",
          "text": [
            "40\n",
            "-18\n"
          ],
          "name": "stdout"
        }
      ]
    },
    {
      "cell_type": "code",
      "metadata": {
        "id": "TCMYZLSpzIQJ"
      },
      "source": [
        "pi = 3.14"
      ],
      "execution_count": null,
      "outputs": []
    },
    {
      "cell_type": "code",
      "metadata": {
        "id": "xgLBZBV70w8y"
      },
      "source": [
        "converted_pi = str(pi)"
      ],
      "execution_count": null,
      "outputs": []
    },
    {
      "cell_type": "code",
      "metadata": {
        "colab": {
          "base_uri": "https://localhost:8080/",
          "height": 35
        },
        "id": "nsOUTfEz00JC",
        "outputId": "af8144a8-ae28-43e8-b98e-f4909481017e"
      },
      "source": [
        "converted_pi "
      ],
      "execution_count": null,
      "outputs": [
        {
          "output_type": "execute_result",
          "data": {
            "application/vnd.google.colaboratory.intrinsic+json": {
              "type": "string"
            },
            "text/plain": [
              "'3.14'"
            ]
          },
          "metadata": {
            "tags": []
          },
          "execution_count": 40
        }
      ]
    },
    {
      "cell_type": "code",
      "metadata": {
        "id": "BOXYKiJT03Xq"
      },
      "source": [
        "converted_pi = int(pi)"
      ],
      "execution_count": null,
      "outputs": []
    },
    {
      "cell_type": "code",
      "metadata": {
        "colab": {
          "base_uri": "https://localhost:8080/"
        },
        "id": "c3Hbj_dH06cB",
        "outputId": "a79a45f7-a10a-47e6-c712-d256902a1e4c"
      },
      "source": [
        "converted_pi"
      ],
      "execution_count": null,
      "outputs": [
        {
          "output_type": "execute_result",
          "data": {
            "text/plain": [
              "3"
            ]
          },
          "metadata": {
            "tags": []
          },
          "execution_count": 44
        }
      ]
    },
    {
      "cell_type": "code",
      "metadata": {
        "colab": {
          "base_uri": "https://localhost:8080/",
          "height": 35
        },
        "id": "f9j3yoOS1KgP",
        "outputId": "eda90ab1-3ee5-4187-f5db-a66bdfe3644d"
      },
      "source": [
        "\"clarus\" + \"way\""
      ],
      "execution_count": null,
      "outputs": [
        {
          "output_type": "execute_result",
          "data": {
            "application/vnd.google.colaboratory.intrinsic+json": {
              "type": "string"
            },
            "text/plain": [
              "'clarusway'"
            ]
          },
          "metadata": {
            "tags": []
          },
          "execution_count": 48
        }
      ]
    },
    {
      "cell_type": "code",
      "metadata": {
        "colab": {
          "base_uri": "https://localhost:8080/"
        },
        "id": "BQzEKLOmLEA7",
        "outputId": "fe552b0e-4049-4252-a4fb-d59b539cbc62"
      },
      "source": [
        "print(\"{}{}\" .format('first', ' second', 'know', 'bring', 'to', 'students.', 'out', 'best', 'teachers', 'the', 'Good', 'how'))"
      ],
      "execution_count": null,
      "outputs": [
        {
          "output_type": "stream",
          "text": [
            "first second\n"
          ],
          "name": "stdout"
        }
      ]
    },
    {
      "cell_type": "code",
      "metadata": {
        "colab": {
          "base_uri": "https://localhost:8080/",
          "height": 35
        },
        "id": "P2f1OEKc1QDN",
        "outputId": "db7cb645-c4cc-45bc-c61f-51b1e2e30472"
      },
      "source": [
        ".\"12\" + \"12\""
      ],
      "execution_count": null,
      "outputs": [
        {
          "output_type": "execute_result",
          "data": {
            "application/vnd.google.colaboratory.intrinsic+json": {
              "type": "string"
            },
            "text/plain": [
              "'1212'"
            ]
          },
          "metadata": {
            "tags": []
          },
          "execution_count": 49
        }
      ]
    },
    {
      "cell_type": "code",
      "metadata": {
        "colab": {
          "base_uri": "https://localhost:8080/"
        },
        "id": "mUuOejLB2tU1",
        "outputId": "e85801fb-3f8a-48d5-aee8-556b21106477"
      },
      "source": [
        "print(int(\"5\" + \"1\"))\n",
        "print(str(\"5\" + \"1\"))\n",
        "print(\"5\" + \"1\")"
      ],
      "execution_count": null,
      "outputs": [
        {
          "output_type": "stream",
          "text": [
            "51\n",
            "51\n",
            "51\n"
          ],
          "name": "stdout"
        }
      ]
    },
    {
      "cell_type": "code",
      "metadata": {
        "id": "DbN2Znu4-naS"
      },
      "source": [
        "r = 5"
      ],
      "execution_count": null,
      "outputs": []
    },
    {
      "cell_type": "code",
      "metadata": {
        "id": "h5fmEidD_J3r"
      },
      "source": [
        "pi = 3.14"
      ],
      "execution_count": null,
      "outputs": []
    },
    {
      "cell_type": "code",
      "metadata": {
        "id": "80yTaf9h_PwZ"
      },
      "source": [
        "area = pi * r ** 2"
      ],
      "execution_count": null,
      "outputs": []
    },
    {
      "cell_type": "code",
      "metadata": {
        "colab": {
          "base_uri": "https://localhost:8080/"
        },
        "id": "L1nwQXmHChcV",
        "outputId": "55976294-c9d5-48c9-9d00-7c198c9ee92d"
      },
      "source": [
        "print(area)"
      ],
      "execution_count": null,
      "outputs": [
        {
          "output_type": "stream",
          "text": [
            "78.5\n"
          ],
          "name": "stdout"
        }
      ]
    },
    {
      "cell_type": "code",
      "metadata": {
        "colab": {
          "base_uri": "https://localhost:8080/"
        },
        "id": "jvXTEkRODMtX",
        "outputId": "48269af3-80de-421d-b491-028f09bb9555"
      },
      "source": [
        "pi = 3.14\n",
        "r = 5\n",
        "\n",
        "area = pi * r ** 2\n",
        "area"
      ],
      "execution_count": null,
      "outputs": [
        {
          "output_type": "execute_result",
          "data": {
            "text/plain": [
              "78.5"
            ]
          },
          "metadata": {
            "tags": []
          },
          "execution_count": 61
        }
      ]
    },
    {
      "cell_type": "code",
      "metadata": {
        "colab": {
          "base_uri": "https://localhost:8080/"
        },
        "id": "AlAJSf6lDk8I",
        "outputId": "772d8a0e-1509-48a5-8c16-fc2725cfd651"
      },
      "source": [
        "print(11 % 2)"
      ],
      "execution_count": null,
      "outputs": [
        {
          "output_type": "stream",
          "text": [
            "1\n"
          ],
          "name": "stdout"
        }
      ]
    },
    {
      "cell_type": "code",
      "metadata": {
        "colab": {
          "base_uri": "https://localhost:8080/"
        },
        "id": "br0-jxt5ET3P",
        "outputId": "03257a16-6a24-4ed6-f85a-3050019f6965"
      },
      "source": [
        "print((4 * 5) / 2)"
      ],
      "execution_count": null,
      "outputs": [
        {
          "output_type": "stream",
          "text": [
            "10.0\n"
          ],
          "name": "stdout"
        }
      ]
    },
    {
      "cell_type": "code",
      "metadata": {
        "colab": {
          "base_uri": "https://localhost:8080/"
        },
        "id": "ZTGvalX3EpaD",
        "outputId": "33b90037-ce3b-4958-eaff-afa7b2610f0e"
      },
      "source": [
        "print(2 ** 3)"
      ],
      "execution_count": null,
      "outputs": [
        {
          "output_type": "stream",
          "text": [
            "8\n"
          ],
          "name": "stdout"
        }
      ]
    },
    {
      "cell_type": "code",
      "metadata": {
        "colab": {
          "base_uri": "https://localhost:8080/"
        },
        "id": "TR8XxKz6FQd6",
        "outputId": "1c8b978e-26e7-464d-8337-dc0300e4f29f"
      },
      "source": [
        "print(3 ** 2)"
      ],
      "execution_count": null,
      "outputs": [
        {
          "output_type": "stream",
          "text": [
            "9\n"
          ],
          "name": "stdout"
        }
      ]
    },
    {
      "cell_type": "code",
      "metadata": {
        "colab": {
          "base_uri": "https://localhost:8080/"
        },
        "id": "wJJHrjmBFV6x",
        "outputId": "75c716b0-e841-4025-ce7a-ceb98bd7212a"
      },
      "source": [
        "a = 2\n",
        "b = 8\n",
        "print((a * b) ** 0.5)"
      ],
      "execution_count": null,
      "outputs": [
        {
          "output_type": "stream",
          "text": [
            "4.0\n"
          ],
          "name": "stdout"
        }
      ]
    },
    {
      "cell_type": "code",
      "metadata": {
        "colab": {
          "base_uri": "https://localhost:8080/"
        },
        "id": "pxhMxNwpFgi8",
        "outputId": "b0c0f4fb-d53d-4d55-a7dd-ecb166eb6963"
      },
      "source": [
        "x = 5\n",
        "x = x + 1\n",
        "x"
      ],
      "execution_count": null,
      "outputs": [
        {
          "output_type": "execute_result",
          "data": {
            "text/plain": [
              "6"
            ]
          },
          "metadata": {
            "tags": []
          },
          "execution_count": 67
        }
      ]
    },
    {
      "cell_type": "code",
      "metadata": {
        "colab": {
          "base_uri": "https://localhost:8080/"
        },
        "id": "4wNsxg38GRkX",
        "outputId": "9f51e2aa-f8d9-4043-dcf3-1f5e1e0b6508"
      },
      "source": [
        "x = x + 1\n",
        "x"
      ],
      "execution_count": null,
      "outputs": [
        {
          "output_type": "execute_result",
          "data": {
            "text/plain": [
              "7"
            ]
          },
          "metadata": {
            "tags": []
          },
          "execution_count": 68
        }
      ]
    },
    {
      "cell_type": "code",
      "metadata": {
        "colab": {
          "base_uri": "https://localhost:8080/"
        },
        "id": "UOTmfDBzGVBm",
        "outputId": "a62981ac-e11e-4277-dc4e-6cac17e3b6b4"
      },
      "source": [
        "x = x ** 3\n",
        "x"
      ],
      "execution_count": null,
      "outputs": [
        {
          "output_type": "execute_result",
          "data": {
            "text/plain": [
              "343"
            ]
          },
          "metadata": {
            "tags": []
          },
          "execution_count": 69
        }
      ]
    },
    {
      "cell_type": "code",
      "metadata": {
        "colab": {
          "base_uri": "https://localhost:8080/"
        },
        "id": "3S3Oi9d-Gig2",
        "outputId": "5ad91063-467e-47d6-89b7-bcea6ce6fd20"
      },
      "source": [
        "x += 1\n",
        "x"
      ],
      "execution_count": null,
      "outputs": [
        {
          "output_type": "execute_result",
          "data": {
            "text/plain": [
              "345"
            ]
          },
          "metadata": {
            "tags": []
          },
          "execution_count": 71
        }
      ]
    },
    {
      "cell_type": "code",
      "metadata": {
        "colab": {
          "base_uri": "https://localhost:8080/"
        },
        "id": "TTI6Xu96Grr8",
        "outputId": "8377cbaa-9fae-42e5-ea40-6562de8c087e"
      },
      "source": [
        "y = 3\n",
        "y = y * 2\n",
        "y"
      ],
      "execution_count": null,
      "outputs": [
        {
          "output_type": "execute_result",
          "data": {
            "text/plain": [
              "6"
            ]
          },
          "metadata": {
            "tags": []
          },
          "execution_count": 72
        }
      ]
    },
    {
      "cell_type": "code",
      "metadata": {
        "id": "OIPFfVe4HAR_",
        "colab": {
          "base_uri": "https://localhost:8080/"
        },
        "outputId": "a969aa96-9c00-4940-9209-7730a5ee6cf2"
      },
      "source": [
        "y *= 2\n",
        "y"
      ],
      "execution_count": null,
      "outputs": [
        {
          "output_type": "execute_result",
          "data": {
            "text/plain": [
              "12"
            ]
          },
          "metadata": {
            "tags": []
          },
          "execution_count": 73
        }
      ]
    },
    {
      "cell_type": "code",
      "metadata": {
        "id": "kiI74WoyHChP",
        "colab": {
          "base_uri": "https://localhost:8080/"
        },
        "outputId": "cb5aa909-c4b8-46a6-f9be-c94e8fa7df46"
      },
      "source": [
        "x = 1000\n",
        "x = x + x * (7 / 100)\n",
        "x"
      ],
      "execution_count": null,
      "outputs": [
        {
          "output_type": "execute_result",
          "data": {
            "text/plain": [
              "1070.0"
            ]
          },
          "metadata": {
            "tags": []
          },
          "execution_count": 5
        }
      ]
    },
    {
      "cell_type": "code",
      "metadata": {
        "colab": {
          "base_uri": "https://localhost:8080/"
        },
        "id": "zK2tqaawS2uD",
        "outputId": "16e00f2d-0c4f-4e15-9ce0-e30228b589ae"
      },
      "source": [
        "x = x + x * (7 / 100)\n",
        "x"
      ],
      "execution_count": null,
      "outputs": [
        {
          "output_type": "execute_result",
          "data": {
            "text/plain": [
              "1144.9"
            ]
          },
          "metadata": {
            "tags": []
          },
          "execution_count": 4
        }
      ]
    },
    {
      "cell_type": "code",
      "metadata": {
        "colab": {
          "base_uri": "https://localhost:8080/"
        },
        "id": "yB-l2PaqTsNt",
        "outputId": "ab1bcc27-f9db-4512-f0be-82e2a5cb093a"
      },
      "source": [
        "x = x + x * (7 / 100)\n",
        "x"
      ],
      "execution_count": null,
      "outputs": [
        {
          "output_type": "execute_result",
          "data": {
            "text/plain": [
              "1225.0430000000001"
            ]
          },
          "metadata": {
            "tags": []
          },
          "execution_count": 7
        }
      ]
    },
    {
      "cell_type": "code",
      "metadata": {
        "colab": {
          "base_uri": "https://localhost:8080/"
        },
        "id": "bz-4A8wwTx5M",
        "outputId": "83328d0e-3029-4bf5-9e11-ef6c1b86c4a7"
      },
      "source": [
        "x = x + x * (7 / 100)\n",
        "x"
      ],
      "execution_count": null,
      "outputs": [
        {
          "output_type": "execute_result",
          "data": {
            "text/plain": [
              "1310.79601"
            ]
          },
          "metadata": {
            "tags": []
          },
          "execution_count": 8
        }
      ]
    },
    {
      "cell_type": "code",
      "metadata": {
        "colab": {
          "base_uri": "https://localhost:8080/"
        },
        "id": "v7HOzb8-T9tt",
        "outputId": "67fcaf8f-cfcd-43b6-9173-f98e469c4344"
      },
      "source": [
        "x = x + x * (7 / 100)\n",
        "x"
      ],
      "execution_count": null,
      "outputs": [
        {
          "output_type": "execute_result",
          "data": {
            "text/plain": [
              "1402.5517307"
            ]
          },
          "metadata": {
            "tags": []
          },
          "execution_count": 9
        }
      ]
    },
    {
      "cell_type": "code",
      "metadata": {
        "colab": {
          "base_uri": "https://localhost:8080/"
        },
        "id": "KwsUb6-pT_xL",
        "outputId": "ba44b688-eb16-43bc-c1e8-ef502c1a58b7"
      },
      "source": [
        "x = x + x * (7 / 100)\n",
        "x"
      ],
      "execution_count": null,
      "outputs": [
        {
          "output_type": "execute_result",
          "data": {
            "text/plain": [
              "1500.730351849"
            ]
          },
          "metadata": {
            "tags": []
          },
          "execution_count": 10
        }
      ]
    },
    {
      "cell_type": "code",
      "metadata": {
        "colab": {
          "base_uri": "https://localhost:8080/"
        },
        "id": "uDia8LQrUAr7",
        "outputId": "22b9bc55-f890-4ab4-ef04-614df0d388f0"
      },
      "source": [
        "x = x + x * (7 / 100)\n",
        "x"
      ],
      "execution_count": null,
      "outputs": [
        {
          "output_type": "execute_result",
          "data": {
            "text/plain": [
              "1605.78147647843"
            ]
          },
          "metadata": {
            "tags": []
          },
          "execution_count": 11
        }
      ]
    },
    {
      "cell_type": "code",
      "metadata": {
        "id": "wkKG9nzjVDKN"
      },
      "source": [
        "number_int = 123\n",
        "number_flt = 1.23\n",
        "number_new = number_int + number_flt"
      ],
      "execution_count": null,
      "outputs": []
    },
    {
      "cell_type": "code",
      "metadata": {
        "colab": {
          "base_uri": "https://localhost:8080/"
        },
        "id": "tF5m3tYJl8O9",
        "outputId": "e9e7a73e-640f-4072-8dbc-ce4c11c1cc18"
      },
      "source": [
        "print(\"datatype of number_int:\", type(number_int))\n",
        "print(\"datatype of number_flt:\", type(number_flt))"
      ],
      "execution_count": null,
      "outputs": [
        {
          "output_type": "stream",
          "text": [
            "datatype of number_int: <class 'int'>\n",
            "datatype of number_flt: <class 'float'>\n"
          ],
          "name": "stdout"
        }
      ]
    },
    {
      "cell_type": "code",
      "metadata": {
        "colab": {
          "base_uri": "https://localhost:8080/"
        },
        "id": "Bc9OfoGmmKzH",
        "outputId": "63586cb4-c5ca-4dae-e229-7da0d384095c"
      },
      "source": [
        "print(\"Value of number_new:\", number_new)\n",
        "print(\"datatype of number_new:\", type(number_new))"
      ],
      "execution_count": null,
      "outputs": [
        {
          "output_type": "stream",
          "text": [
            "Value of number_new: 124.23\n",
            "datatype of number_new: <class 'float'>\n"
          ],
          "name": "stdout"
        }
      ]
    },
    {
      "cell_type": "code",
      "metadata": {
        "id": "-nmNGAOcmcoX"
      },
      "source": [
        "number_int = 123\n",
        "number_str = \"456\""
      ],
      "execution_count": null,
      "outputs": []
    },
    {
      "cell_type": "code",
      "metadata": {
        "colab": {
          "base_uri": "https://localhost:8080/"
        },
        "id": "1ZXuGwv9m12W",
        "outputId": "01d1d7f0-13ff-4ba7-a9d0-782d7fe37aa0"
      },
      "source": [
        "print(\"Data type of number_int:\", type(number_int))\n",
        "print(\"Data type of number_str:\", type(number_str))"
      ],
      "execution_count": null,
      "outputs": [
        {
          "output_type": "stream",
          "text": [
            "Data type of number_int: <class 'int'>\n",
            "Data type of number_str: <class 'str'>\n"
          ],
          "name": "stdout"
        }
      ]
    },
    {
      "cell_type": "code",
      "metadata": {
        "colab": {
          "base_uri": "https://localhost:8080/",
          "height": 164
        },
        "id": "5Ad0JUYlnGyk",
        "outputId": "4135827e-a9bf-4573-a523-370b9fb6afc3"
      },
      "source": [
        "print(number_int + number_str)"
      ],
      "execution_count": null,
      "outputs": [
        {
          "output_type": "error",
          "ename": "TypeError",
          "evalue": "ignored",
          "traceback": [
            "\u001b[0;31m---------------------------------------------------------------------------\u001b[0m",
            "\u001b[0;31mTypeError\u001b[0m                                 Traceback (most recent call last)",
            "\u001b[0;32m<ipython-input-7-ce28c5c17373>\u001b[0m in \u001b[0;36m<module>\u001b[0;34m()\u001b[0m\n\u001b[0;32m----> 1\u001b[0;31m \u001b[0mprint\u001b[0m\u001b[0;34m(\u001b[0m\u001b[0mnumber_int\u001b[0m \u001b[0;34m+\u001b[0m \u001b[0mnumber_str\u001b[0m\u001b[0;34m)\u001b[0m\u001b[0;34m\u001b[0m\u001b[0;34m\u001b[0m\u001b[0m\n\u001b[0m",
            "\u001b[0;31mTypeError\u001b[0m: unsupported operand type(s) for +: 'int' and 'str'"
          ]
        }
      ]
    },
    {
      "cell_type": "code",
      "metadata": {
        "id": "ZoCDTNs9nOKR"
      },
      "source": [
        "number_int = 123\n",
        "number_str = \"456\""
      ],
      "execution_count": null,
      "outputs": []
    },
    {
      "cell_type": "code",
      "metadata": {
        "colab": {
          "base_uri": "https://localhost:8080/"
        },
        "id": "QouVUQH4pov9",
        "outputId": "0c0afbb2-1857-460d-aff9-a63fc4d86068"
      },
      "source": [
        "print(\"Data type of number_int:\", type(number_int))\n",
        "print(\"Data type of number_str before Type Casting:\", type(number_str))"
      ],
      "execution_count": null,
      "outputs": [
        {
          "output_type": "stream",
          "text": [
            "Data type of number_int: <class 'int'>\n",
            "Data type of number_str before Type Casting: <class 'str'>\n"
          ],
          "name": "stdout"
        }
      ]
    },
    {
      "cell_type": "code",
      "metadata": {
        "colab": {
          "base_uri": "https://localhost:8080/"
        },
        "id": "Wm8-FmWkp4jn",
        "outputId": "50772984-ef57-4391-dfae-175e9e1f21af"
      },
      "source": [
        "number_str = int(number_str)\n",
        "print(\"Data type of number_str after Type Casting:\", type(number_str))"
      ],
      "execution_count": null,
      "outputs": [
        {
          "output_type": "stream",
          "text": [
            "Data type of number_str after Type Casting: <class 'int'>\n"
          ],
          "name": "stdout"
        }
      ]
    },
    {
      "cell_type": "code",
      "metadata": {
        "id": "qkO0JL5tqhrX"
      },
      "source": [
        "number_sum = number_int + number_str"
      ],
      "execution_count": null,
      "outputs": []
    },
    {
      "cell_type": "code",
      "metadata": {
        "colab": {
          "base_uri": "https://localhost:8080/"
        },
        "id": "Z_jlThz0qnGg",
        "outputId": "45fcdcfa-fa4c-4322-f9d3-0f5f0d06b938"
      },
      "source": [
        "print(\"Sum of number_int and number_str:\", number_sum)\n",
        "print(\"Data type of the sum:\", type(number_sum))"
      ],
      "execution_count": null,
      "outputs": [
        {
          "output_type": "stream",
          "text": [
            "Sum of number_int and number_str: 579\n",
            "Data type of the sum: <class 'int'>\n"
          ],
          "name": "stdout"
        }
      ]
    },
    {
      "cell_type": "code",
      "metadata": {
        "colab": {
          "base_uri": "https://localhost:8080/"
        },
        "id": "dp3mwCrh8jHT",
        "outputId": "d6429154-772e-41fa-a240-edca676365b9"
      },
      "source": [
        "a = (1 + 3) ** (2 ** (1 * 2 / 2) / 2)\n",
        "print(a)"
      ],
      "execution_count": null,
      "outputs": [
        {
          "output_type": "stream",
          "text": [
            "4.0\n"
          ],
          "name": "stdout"
        }
      ]
    },
    {
      "cell_type": "code",
      "metadata": {
        "id": "ukLzaw71-yVH"
      },
      "source": [
        "a = 3\n",
        "b = 4"
      ],
      "execution_count": null,
      "outputs": []
    },
    {
      "cell_type": "code",
      "metadata": {
        "colab": {
          "base_uri": "https://localhost:8080/"
        },
        "id": "qC9rG4Im_S9u",
        "outputId": "20280ca1-257b-460e-be82-28c2624237b4"
      },
      "source": [
        "c = (a ** 2 + b ** 2) ** 0.5\n",
        "c"
      ],
      "execution_count": null,
      "outputs": [
        {
          "output_type": "execute_result",
          "data": {
            "text/plain": [
              "5.0"
            ]
          },
          "metadata": {
            "tags": []
          },
          "execution_count": 20
        }
      ]
    },
    {
      "cell_type": "code",
      "metadata": {
        "colab": {
          "base_uri": "https://localhost:8080/"
        },
        "id": "byF9vcF5_cYG",
        "outputId": "d7d9bb36-b439-4092-d5f2-7186cf7108ff"
      },
      "source": [
        "number = 2021\n",
        "text = \"we have reached\"\n",
        "print(text, number)"
      ],
      "execution_count": null,
      "outputs": [
        {
          "output_type": "stream",
          "text": [
            "we have reached 2021\n"
          ],
          "name": "stdout"
        }
      ]
    },
    {
      "cell_type": "code",
      "metadata": {
        "colab": {
          "base_uri": "https://localhost:8080/"
        },
        "id": "cmhYR35C_-Y_",
        "outputId": "006102ce-d0ab-45ba-d908-1de9dbbe2785"
      },
      "source": [
        "print(\"ali\\nveli\\ndeli\")"
      ],
      "execution_count": null,
      "outputs": [
        {
          "output_type": "stream",
          "text": [
            "ali\n",
            "veli\n",
            "deli\n"
          ],
          "name": "stdout"
        }
      ]
    },
    {
      "cell_type": "code",
      "metadata": {
        "colab": {
          "base_uri": "https://localhost:8080/"
        },
        "id": "GC2c-mNMBNg7",
        "outputId": "41a7657d-95d1-419a-82f1-b82d796fa7de"
      },
      "source": [
        "print(12, \"22\", False)"
      ],
      "execution_count": null,
      "outputs": [
        {
          "output_type": "stream",
          "text": [
            "12 22 False\n"
          ],
          "name": "stdout"
        }
      ]
    },
    {
      "cell_type": "code",
      "metadata": {
        "colab": {
          "base_uri": "https://localhost:8080/"
        },
        "id": "efTnNu08BlfM",
        "outputId": "11fbc98b-796c-4a0d-8046-aeef57ee8efe"
      },
      "source": [
        "print(12, \"22\", False, sep = \"-\")"
      ],
      "execution_count": null,
      "outputs": [
        {
          "output_type": "stream",
          "text": [
            "12-22-False\n"
          ],
          "name": "stdout"
        }
      ]
    },
    {
      "cell_type": "code",
      "metadata": {
        "colab": {
          "base_uri": "https://localhost:8080/"
        },
        "id": "XmxZ-nlqB1Tz",
        "outputId": "d9bdbe04-8714-40aa-eaa2-b144133e6112"
      },
      "source": [
        "print(\"hayriye\", end = \" \")\n",
        "print(\"hayri\")"
      ],
      "execution_count": null,
      "outputs": [
        {
          "output_type": "stream",
          "text": [
            "hayriye hayri\n"
          ],
          "name": "stdout"
        }
      ]
    },
    {
      "cell_type": "code",
      "metadata": {
        "colab": {
          "base_uri": "https://localhost:8080/"
        },
        "id": "yIqfsBH6CJhh",
        "outputId": "af7afd66-9475-450b-ceb5-d04ff3c55107"
      },
      "source": [
        "text1 = \"I bought\"\n",
        "text2 = \"kg. of apple this morning\"\n",
        "amount = 6\n",
        "text3 = text1 + \" \" + str(amount) + \" \" + text2\n",
        "print(text1, amount, text2)\n",
        "print(\"I bought\", 6, \"kg. of apple this morning\")\n",
        "print(\"I bought \" + \"6 \" + \"kg. of apple this morning\"),\n",
        "print(text3)"
      ],
      "execution_count": null,
      "outputs": [
        {
          "output_type": "stream",
          "text": [
            "I bought 6 kg. of apple this morning\n",
            "I bought 6 kg. of apple this morning\n",
            "I bought 6 kg. of apple this morning\n",
            "I bought 6 kg. of apple this morning\n"
          ],
          "name": "stdout"
        }
      ]
    },
    {
      "cell_type": "code",
      "metadata": {
        "id": "lc6aJAo_Etrz"
      },
      "source": [
        "# \"bugün günlerden 17/6/2021\""
      ],
      "execution_count": null,
      "outputs": []
    },
    {
      "cell_type": "code",
      "metadata": {
        "colab": {
          "base_uri": "https://localhost:8080/"
        },
        "id": "s_WtRB-uKBMs",
        "outputId": "efa6951f-ff76-432c-de71-bf47c00e24fa"
      },
      "source": [
        "print(\"bugün günlerden 17\\6\\2021\")"
      ],
      "execution_count": null,
      "outputs": [
        {
          "output_type": "stream",
          "text": [
            "bugün günlerden 17\u00061\n"
          ],
          "name": "stdout"
        }
      ]
    },
    {
      "cell_type": "code",
      "metadata": {
        "colab": {
          "base_uri": "https://localhost:8080/"
        },
        "id": "aRpYQzZ2KDy2",
        "outputId": "8460cc63-ffd4-407c-f9ac-8464fbe7e092"
      },
      "source": [
        "print(\"bugün günlerden 17\\\\6\\\\2021\")"
      ],
      "execution_count": null,
      "outputs": [
        {
          "output_type": "stream",
          "text": [
            "bugün günlerden 17\\6\\2021\n"
          ],
          "name": "stdout"
        }
      ]
    },
    {
      "cell_type": "code",
      "metadata": {
        "id": "LIsaeQyZKUeo"
      },
      "source": [
        "my_text = \"clarusway \\njoseph instructor\\bvirgina\""
      ],
      "execution_count": null,
      "outputs": []
    },
    {
      "cell_type": "code",
      "metadata": {
        "colab": {
          "base_uri": "https://localhost:8080/"
        },
        "id": "oC4_9VTrKfpG",
        "outputId": "82942e11-65b1-499e-e96f-9441577378ce"
      },
      "source": [
        "print(my_text) #\\n alta atmış \\b bir önceki r harfini silmiş"
      ],
      "execution_count": null,
      "outputs": [
        {
          "output_type": "stream",
          "text": [
            "clarusway \n",
            "joseph instructor\bvirgina\n"
          ],
          "name": "stdout"
        }
      ]
    },
    {
      "cell_type": "code",
      "metadata": {
        "colab": {
          "base_uri": "https://localhost:8080/"
        },
        "id": "mlEemd2EKjF1",
        "outputId": "62583cd2-0d5b-4500-c4f9-60124135b30d"
      },
      "source": [
        "print('C:\\\\north pole\\noise_penguins.txt')\n",
        "print('----------')\n",
        "print('first', 'second', 'third', sep='\\t')\n"
      ],
      "execution_count": null,
      "outputs": [
        {
          "output_type": "stream",
          "text": [
            "C:\\north pole\n",
            "oise_penguins.txt\n",
            "----------\n",
            "first\tsecond\tthird\n"
          ],
          "name": "stdout"
        }
      ]
    },
    {
      "cell_type": "code",
      "metadata": {
        "colab": {
          "base_uri": "https://localhost:8080/"
        },
        "id": "m1x-yjA5LV2s",
        "outputId": "8970bd7f-0cad-43d9-9803-dbddfaf212b7"
      },
      "source": [
        "print(\"we are\", \"\\bossting\",\"our\", \"\\brotherhood\")"
      ],
      "execution_count": null,
      "outputs": [
        {
          "output_type": "stream",
          "text": [
            "we are \bossting our \brotherhood\n"
          ],
          "name": "stdout"
        }
      ]
    },
    {
      "cell_type": "code",
      "metadata": {
        "colab": {
          "base_uri": "https://localhost:8080/"
        },
        "id": "pc2DTPQfNQxv",
        "outputId": "9f7919d1-c63a-4bb1-a2c4-d783ba2ef268"
      },
      "source": [
        "print(\"it\\'s essential to learn Python\\'s libraries in IT world\")"
      ],
      "execution_count": null,
      "outputs": [
        {
          "output_type": "stream",
          "text": [
            "it's essential to learn Python's libraries in IT world\n"
          ],
          "name": "stdout"
        }
      ]
    },
    {
      "cell_type": "code",
      "metadata": {
        "colab": {
          "base_uri": "https://localhost:8080/"
        },
        "id": "rgzT4oqoNgCX",
        "outputId": "db67bd34-9c09-4b77-f7aa-589d385fca07"
      },
      "source": [
        "text = \"Clarusway, Clarusway, Clarusway, \\n\\tClarusway, Clarusway, Clarusway, \\n\\t\\tClarusway, Clarusway, Clarusway\"\n",
        "print(text)"
      ],
      "execution_count": null,
      "outputs": [
        {
          "output_type": "stream",
          "text": [
            "Clarusway, Clarusway, Clarusway, \n",
            "\tClarusway, Clarusway, Clarusway, \n",
            "\t\tClarusway, Clarusway, Clarusway\n"
          ],
          "name": "stdout"
        }
      ]
    },
    {
      "cell_type": "code",
      "metadata": {
        "colab": {
          "base_uri": "https://localhost:8080/"
        },
        "id": "hjveZ-CxPx_B",
        "outputId": "bf417393-6314-426e-85c7-b3112a7a64d9"
      },
      "source": [
        "print(2 and 3)"
      ],
      "execution_count": null,
      "outputs": [
        {
          "output_type": "stream",
          "text": [
            "3\n"
          ],
          "name": "stdout"
        }
      ]
    },
    {
      "cell_type": "code",
      "metadata": {
        "colab": {
          "base_uri": "https://localhost:8080/"
        },
        "id": "_Yq9k-IDe0K8",
        "outputId": "c4748523-41b0-470e-c2b4-8d24773ba1ad"
      },
      "source": [
        "print(1 and 0)"
      ],
      "execution_count": null,
      "outputs": [
        {
          "output_type": "stream",
          "text": [
            "0\n"
          ],
          "name": "stdout"
        }
      ]
    },
    {
      "cell_type": "code",
      "metadata": {
        "colab": {
          "base_uri": "https://localhost:8080/"
        },
        "id": "72Dij5eSe2mV",
        "outputId": "10683e75-ba95-4c04-acd6-1f637bc9ab2b"
      },
      "source": [
        "not None"
      ],
      "execution_count": null,
      "outputs": [
        {
          "output_type": "execute_result",
          "data": {
            "text/plain": [
              "True"
            ]
          },
          "metadata": {
            "tags": []
          },
          "execution_count": 58
        }
      ]
    },
    {
      "cell_type": "code",
      "metadata": {
        "colab": {
          "base_uri": "https://localhost:8080/"
        },
        "id": "mglxJrqVg0pn",
        "outputId": "2e1516ee-1beb-41ea-dfe4-ad697a6016eb"
      },
      "source": [
        "print(None or ())"
      ],
      "execution_count": null,
      "outputs": [
        {
          "output_type": "stream",
          "text": [
            "()\n"
          ],
          "name": "stdout"
        }
      ]
    },
    {
      "cell_type": "code",
      "metadata": {
        "colab": {
          "base_uri": "https://localhost:8080/"
        },
        "id": "kViu_CQAhlYC",
        "outputId": "4403a082-9530-43f0-9e2d-302f71799a53"
      },
      "source": [
        "print([] and \"be happy\")"
      ],
      "execution_count": null,
      "outputs": [
        {
          "output_type": "stream",
          "text": [
            "[]\n"
          ],
          "name": "stdout"
        }
      ]
    },
    {
      "cell_type": "code",
      "metadata": {
        "colab": {
          "base_uri": "https://localhost:8080/"
        },
        "id": "F80Uvc-shrzJ",
        "outputId": "8fe55f68-9d98-45f7-bab3-dadcd5925133"
      },
      "source": [
        "print(2 or 3)"
      ],
      "execution_count": null,
      "outputs": [
        {
          "output_type": "stream",
          "text": [
            "2\n"
          ],
          "name": "stdout"
        }
      ]
    },
    {
      "cell_type": "code",
      "metadata": {
        "colab": {
          "base_uri": "https://localhost:8080/"
        },
        "id": "Uv7Dm0bwiYoY",
        "outputId": "fee6085d-44fd-4fb8-9e32-a7290c40b031"
      },
      "source": [
        "print(None or 1)"
      ],
      "execution_count": null,
      "outputs": [
        {
          "output_type": "stream",
          "text": [
            "1\n"
          ],
          "name": "stdout"
        }
      ]
    },
    {
      "cell_type": "code",
      "metadata": {
        "colab": {
          "base_uri": "https://localhost:8080/"
        },
        "id": "o3AIpaNtibQw",
        "outputId": "ae0b20ae-337d-43bd-9de3-ae0f6548c222"
      },
      "source": [
        "print(2 or \"hello world\")"
      ],
      "execution_count": null,
      "outputs": [
        {
          "output_type": "stream",
          "text": [
            "2\n"
          ],
          "name": "stdout"
        }
      ]
    },
    {
      "cell_type": "code",
      "metadata": {
        "id": "4lGbMVR6jBEs",
        "colab": {
          "base_uri": "https://localhost:8080/"
        },
        "outputId": "fb4e8d37-7c26-48ba-936e-965d6705c20a"
      },
      "source": [
        "x = input(\"Bir sayı giriniz :\")\n",
        "y = input(\"Br sayı daha giriniz :\")\n",
        "z = x + y"
      ],
      "execution_count": null,
      "outputs": [
        {
          "output_type": "stream",
          "text": [
            "Bir sayı giriniz :11\n",
            "Br sayı daha giriniz :4\n"
          ],
          "name": "stdout"
        }
      ]
    },
    {
      "cell_type": "code",
      "metadata": {
        "colab": {
          "base_uri": "https://localhost:8080/"
        },
        "id": "rhdRHyoBiRN_",
        "outputId": "100e3d29-292d-4c10-fd7a-b2758390b9d9"
      },
      "source": [
        "print(z) #integer olmadığı, stirng olduğu için 114 çıkar"
      ],
      "execution_count": null,
      "outputs": [
        {
          "output_type": "stream",
          "text": [
            "114\n"
          ],
          "name": "stdout"
        }
      ]
    },
    {
      "cell_type": "code",
      "metadata": {
        "colab": {
          "base_uri": "https://localhost:8080/"
        },
        "id": "d9WPtWzEiYRJ",
        "outputId": "97096b0e-a050-4238-8b8d-bd1b8c401d5e"
      },
      "source": [
        "21 % 3 #modulus"
      ],
      "execution_count": null,
      "outputs": [
        {
          "output_type": "execute_result",
          "data": {
            "text/plain": [
              "0"
            ]
          },
          "metadata": {
            "tags": []
          },
          "execution_count": 3
        }
      ]
    },
    {
      "cell_type": "code",
      "metadata": {
        "colab": {
          "base_uri": "https://localhost:8080/"
        },
        "id": "0TF1kjNbjF5E",
        "outputId": "7f2c7e31-ce3b-4ceb-a40d-2ebb7b34e188"
      },
      "source": [
        "21 //3 #floor division"
      ],
      "execution_count": null,
      "outputs": [
        {
          "output_type": "execute_result",
          "data": {
            "text/plain": [
              "7"
            ]
          },
          "metadata": {
            "tags": []
          },
          "execution_count": 6
        }
      ]
    },
    {
      "cell_type": "markdown",
      "metadata": {
        "id": "vaxMCGcCjNVs"
      },
      "source": [
        ""
      ]
    },
    {
      "cell_type": "code",
      "metadata": {
        "colab": {
          "base_uri": "https://localhost:8080/"
        },
        "id": "vdWuAf87jomO",
        "outputId": "99ccb72b-7f48-4e0c-c71c-44e7425db2ad"
      },
      "source": [
        "21 // 4"
      ],
      "execution_count": null,
      "outputs": [
        {
          "output_type": "execute_result",
          "data": {
            "text/plain": [
              "5"
            ]
          },
          "metadata": {
            "tags": []
          },
          "execution_count": 7
        }
      ]
    },
    {
      "cell_type": "code",
      "metadata": {
        "colab": {
          "base_uri": "https://localhost:8080/"
        },
        "id": "fl8GeLNCjpvb",
        "outputId": "95899c1b-f78f-4fe0-f0d4-07367772f103"
      },
      "source": [
        "21 % 4"
      ],
      "execution_count": null,
      "outputs": [
        {
          "output_type": "execute_result",
          "data": {
            "text/plain": [
              "1"
            ]
          },
          "metadata": {
            "tags": []
          },
          "execution_count": 8
        }
      ]
    },
    {
      "cell_type": "code",
      "metadata": {
        "colab": {
          "base_uri": "https://localhost:8080/"
        },
        "id": "wE9cKoK5jrn6",
        "outputId": "ce682afc-bbd9-4233-e4fa-1f58df022083"
      },
      "source": [
        "kadayıf = True\n",
        "#iç\n",
        "fındık = True\n",
        "fıstık = True\n",
        "ceviz = True\n",
        "\n",
        "#şerbet\n",
        "su = True\n",
        "şeker = True\n",
        "\n",
        "yumurta = True\n",
        "\n",
        "#içecek\n",
        "çay = True\n",
        "limonata = False\n",
        "meşrubat = False\n",
        "\n",
        "yedim = kadayıf and (ceviz or fındık or fıstık) and (yumurta) and (su and şeker) and (çay or limonata or meşrubat)\n",
        "print(yedim)\n",
        "\n",
        "\n"
      ],
      "execution_count": null,
      "outputs": [
        {
          "output_type": "stream",
          "text": [
            "True\n"
          ],
          "name": "stdout"
        }
      ]
    },
    {
      "cell_type": "code",
      "metadata": {
        "colab": {
          "base_uri": "https://localhost:8080/"
        },
        "id": "6TzLtabnmG4l",
        "outputId": "947aca37-4509-4b5e-b90e-6357d603a2aa"
      },
      "source": [
        "print(\"\\\"\")"
      ],
      "execution_count": null,
      "outputs": [
        {
          "output_type": "stream",
          "text": [
            "\"\n"
          ],
          "name": "stdout"
        }
      ]
    },
    {
      "cell_type": "code",
      "metadata": {
        "id": "-QfDMx9Tq1I6"
      },
      "source": [
        "parça = \"clarusway\"[2:5]"
      ],
      "execution_count": null,
      "outputs": []
    },
    {
      "cell_type": "code",
      "metadata": {
        "colab": {
          "base_uri": "https://localhost:8080/",
          "height": 35
        },
        "id": "Baca8jYnrxSE",
        "outputId": "6bba38e9-8e1d-4bf2-e972-c3a7093f0687"
      },
      "source": [
        "parça"
      ],
      "execution_count": null,
      "outputs": [
        {
          "output_type": "execute_result",
          "data": {
            "application/vnd.google.colaboratory.intrinsic+json": {
              "type": "string"
            },
            "text/plain": [
              "'aru'"
            ]
          },
          "metadata": {
            "tags": []
          },
          "execution_count": 24
        }
      ]
    },
    {
      "cell_type": "code",
      "metadata": {
        "id": "850PBStoryr2"
      },
      "source": [
        "isim = \"clarusway okulu\""
      ],
      "execution_count": null,
      "outputs": []
    },
    {
      "cell_type": "code",
      "metadata": {
        "colab": {
          "base_uri": "https://localhost:8080/",
          "height": 35
        },
        "id": "6DgeBvYVsD4N",
        "outputId": "13062487-51dc-4b5c-cefc-84d7a13956dd"
      },
      "source": [
        "isim[3:7]"
      ],
      "execution_count": null,
      "outputs": [
        {
          "output_type": "execute_result",
          "data": {
            "application/vnd.google.colaboratory.intrinsic+json": {
              "type": "string"
            },
            "text/plain": [
              "'rusw'"
            ]
          },
          "metadata": {
            "tags": []
          },
          "execution_count": 26
        }
      ]
    },
    {
      "cell_type": "code",
      "metadata": {
        "colab": {
          "base_uri": "https://localhost:8080/",
          "height": 35
        },
        "id": "zUlTzWUFsF-C",
        "outputId": "28e53941-8a57-4f88-9fce-93572b1a59d5"
      },
      "source": [
        "isim[9]"
      ],
      "execution_count": null,
      "outputs": [
        {
          "output_type": "execute_result",
          "data": {
            "application/vnd.google.colaboratory.intrinsic+json": {
              "type": "string"
            },
            "text/plain": [
              "' '"
            ]
          },
          "metadata": {
            "tags": []
          },
          "execution_count": 27
        }
      ]
    },
    {
      "cell_type": "code",
      "metadata": {
        "colab": {
          "base_uri": "https://localhost:8080/",
          "height": 35
        },
        "id": "Ige6Y_MWsZqP",
        "outputId": "929797c3-765e-4b15-dc25-36076895b52f"
      },
      "source": [
        "isim[::2]"
      ],
      "execution_count": null,
      "outputs": [
        {
          "output_type": "execute_result",
          "data": {
            "application/vnd.google.colaboratory.intrinsic+json": {
              "type": "string"
            },
            "text/plain": [
              "'cauwyouu'"
            ]
          },
          "metadata": {
            "tags": []
          },
          "execution_count": 28
        }
      ]
    },
    {
      "cell_type": "code",
      "metadata": {
        "id": "oDVy6hXuxakd"
      },
      "source": [
        "fruit = \"Orange\""
      ],
      "execution_count": null,
      "outputs": []
    },
    {
      "cell_type": "code",
      "metadata": {
        "colab": {
          "base_uri": "https://localhost:8080/",
          "height": 35
        },
        "id": "KKi7IQ-cxo6K",
        "outputId": "f6de7772-c08a-4857-ab03-3cdf8a74b5fa"
      },
      "source": [
        "fruit[-5:-2]"
      ],
      "execution_count": null,
      "outputs": [
        {
          "output_type": "execute_result",
          "data": {
            "application/vnd.google.colaboratory.intrinsic+json": {
              "type": "string"
            },
            "text/plain": [
              "'ran'"
            ]
          },
          "metadata": {
            "tags": []
          },
          "execution_count": 34
        }
      ]
    },
    {
      "cell_type": "code",
      "metadata": {
        "colab": {
          "base_uri": "https://localhost:8080/",
          "height": 35
        },
        "id": "Twr_cWvGxteY",
        "outputId": "05e39f15-4b7a-4e70-e3e3-9067562b8b42"
      },
      "source": [
        "isim"
      ],
      "execution_count": null,
      "outputs": [
        {
          "output_type": "execute_result",
          "data": {
            "application/vnd.google.colaboratory.intrinsic+json": {
              "type": "string"
            },
            "text/plain": [
              "'clarusway okulu'"
            ]
          },
          "metadata": {
            "tags": []
          },
          "execution_count": 35
        }
      ]
    },
    {
      "cell_type": "code",
      "metadata": {
        "colab": {
          "base_uri": "https://localhost:8080/",
          "height": 35
        },
        "id": "42gAk8-3y5zL",
        "outputId": "55ba50e6-8c08-4bf7-8f69-211c1c80f390"
      },
      "source": [
        "isim[::]"
      ],
      "execution_count": null,
      "outputs": [
        {
          "output_type": "execute_result",
          "data": {
            "application/vnd.google.colaboratory.intrinsic+json": {
              "type": "string"
            },
            "text/plain": [
              "'clarusway okulu'"
            ]
          },
          "metadata": {
            "tags": []
          },
          "execution_count": 36
        }
      ]
    },
    {
      "cell_type": "code",
      "metadata": {
        "colab": {
          "base_uri": "https://localhost:8080/",
          "height": 35
        },
        "id": "jruJxYHxy7yL",
        "outputId": "84e60849-c486-4e1f-e54c-ca18d929edfb"
      },
      "source": [
        "isim[::-1]"
      ],
      "execution_count": null,
      "outputs": [
        {
          "output_type": "execute_result",
          "data": {
            "application/vnd.google.colaboratory.intrinsic+json": {
              "type": "string"
            },
            "text/plain": [
              "'uluko yawsuralc'"
            ]
          },
          "metadata": {
            "tags": []
          },
          "execution_count": 37
        }
      ]
    },
    {
      "cell_type": "code",
      "metadata": {
        "colab": {
          "base_uri": "https://localhost:8080/",
          "height": 35
        },
        "id": "svBmDFSvzLK3",
        "outputId": "a796aab9-fa99-4931-a842-0ce00f822b0c"
      },
      "source": [
        "\"clarus\"[-3::-1]"
      ],
      "execution_count": null,
      "outputs": [
        {
          "output_type": "execute_result",
          "data": {
            "application/vnd.google.colaboratory.intrinsic+json": {
              "type": "string"
            },
            "text/plain": [
              "'ralc'"
            ]
          },
          "metadata": {
            "tags": []
          },
          "execution_count": 42
        }
      ]
    },
    {
      "cell_type": "code",
      "metadata": {
        "colab": {
          "base_uri": "https://localhost:8080/",
          "height": 35
        },
        "id": "Q9iRylt_zTk2",
        "outputId": "b4b0d902-be0b-4d46-8591-34211e98e607"
      },
      "source": [
        "\"clarus\"[-3:-5:-1]"
      ],
      "execution_count": null,
      "outputs": [
        {
          "output_type": "execute_result",
          "data": {
            "application/vnd.google.colaboratory.intrinsic+json": {
              "type": "string"
            },
            "text/plain": [
              "'ra'"
            ]
          },
          "metadata": {
            "tags": []
          },
          "execution_count": 45
        }
      ]
    },
    {
      "cell_type": "code",
      "metadata": {
        "id": "s_5dSwwsz9r0"
      },
      "source": [
        "animal = \"hippopotamus\""
      ],
      "execution_count": null,
      "outputs": []
    },
    {
      "cell_type": "code",
      "metadata": {
        "colab": {
          "base_uri": "https://localhost:8080/"
        },
        "id": "Ky9R6dSA0Pln",
        "outputId": "54c43830-b3d0-41ae-a861-b1b1bbc73441"
      },
      "source": [
        "print(animal[1:7:2])"
      ],
      "execution_count": null,
      "outputs": [
        {
          "output_type": "stream",
          "text": [
            "sumatopoppih\n"
          ],
          "name": "stdout"
        }
      ]
    },
    {
      "cell_type": "code",
      "metadata": {
        "colab": {
          "base_uri": "https://localhost:8080/",
          "height": 35
        },
        "id": "N-HUHj_T0WrW",
        "outputId": "9dd1bbdd-79a1-4aa7-aa68-211fa9ed3b20"
      },
      "source": [
        "animal[-5:-2]"
      ],
      "execution_count": null,
      "outputs": [
        {
          "output_type": "execute_result",
          "data": {
            "application/vnd.google.colaboratory.intrinsic+json": {
              "type": "string"
            },
            "text/plain": [
              "'tam'"
            ]
          },
          "metadata": {
            "tags": []
          },
          "execution_count": 54
        }
      ]
    },
    {
      "cell_type": "code",
      "metadata": {
        "colab": {
          "base_uri": "https://localhost:8080/",
          "height": 35
        },
        "id": "YKH1VeUB12Zj",
        "outputId": "fa7fa098-c76d-4c15-8bfa-0ab080e7a486"
      },
      "source": [
        "animal[-5:-2:-1]"
      ],
      "execution_count": null,
      "outputs": [
        {
          "output_type": "execute_result",
          "data": {
            "application/vnd.google.colaboratory.intrinsic+json": {
              "type": "string"
            },
            "text/plain": [
              "''"
            ]
          },
          "metadata": {
            "tags": []
          },
          "execution_count": 56
        }
      ]
    },
    {
      "cell_type": "code",
      "metadata": {
        "colab": {
          "base_uri": "https://localhost:8080/",
          "height": 35
        },
        "id": "Z5nbKusl2IPl",
        "outputId": "86818196-95cc-405c-8baf-0b53203fe419"
      },
      "source": [
        "animal[-2:-5]"
      ],
      "execution_count": null,
      "outputs": [
        {
          "output_type": "execute_result",
          "data": {
            "application/vnd.google.colaboratory.intrinsic+json": {
              "type": "string"
            },
            "text/plain": [
              "''"
            ]
          },
          "metadata": {
            "tags": []
          },
          "execution_count": 57
        }
      ]
    },
    {
      "cell_type": "code",
      "metadata": {
        "colab": {
          "base_uri": "https://localhost:8080/"
        },
        "id": "pf-tzPUk2gTC",
        "outputId": "00d7dcb5-b63a-4540-a192-e5b7aff6b580"
      },
      "source": [
        "var = \"  abc  \"\n",
        "len(var)"
      ],
      "execution_count": null,
      "outputs": [
        {
          "output_type": "execute_result",
          "data": {
            "text/plain": [
              "7"
            ]
          },
          "metadata": {
            "tags": []
          },
          "execution_count": 60
        }
      ]
    },
    {
      "cell_type": "code",
      "metadata": {
        "colab": {
          "base_uri": "https://localhost:8080/",
          "height": 35
        },
        "id": "3I4DG5xD4f5B",
        "outputId": "ed8197b4-ef0d-492e-aab6-d163cb256548"
      },
      "source": [
        "3 * \"upper\""
      ],
      "execution_count": null,
      "outputs": [
        {
          "output_type": "execute_result",
          "data": {
            "application/vnd.google.colaboratory.intrinsic+json": {
              "type": "string"
            },
            "text/plain": [
              "'upperupperupper'"
            ]
          },
          "metadata": {
            "tags": []
          },
          "execution_count": 61
        }
      ]
    },
    {
      "cell_type": "code",
      "metadata": {
        "colab": {
          "base_uri": "https://localhost:8080/"
        },
        "id": "3rEbaPBG5a-E",
        "outputId": "3c974d46-290f-48d2-c323-307d5957232d"
      },
      "source": [
        "print(* \"upper\")"
      ],
      "execution_count": null,
      "outputs": [
        {
          "output_type": "stream",
          "text": [
            "u p p e r\n"
          ],
          "name": "stdout"
        }
      ]
    },
    {
      "cell_type": "code",
      "metadata": {
        "id": "Jqx-93RYDhR_"
      },
      "source": [
        "say = \"clarus\""
      ],
      "execution_count": null,
      "outputs": []
    },
    {
      "cell_type": "code",
      "metadata": {
        "colab": {
          "base_uri": "https://localhost:8080/",
          "height": 35
        },
        "id": "21lG7Uf-DlHP",
        "outputId": "0f9940e7-a053-452b-80f2-cc32bdb5393e"
      },
      "source": [
        "say += \"way\"\n",
        "say"
      ],
      "execution_count": null,
      "outputs": [
        {
          "output_type": "execute_result",
          "data": {
            "application/vnd.google.colaboratory.intrinsic+json": {
              "type": "string"
            },
            "text/plain": [
              "'clarusway'"
            ]
          },
          "metadata": {
            "tags": []
          },
          "execution_count": 71
        }
      ]
    },
    {
      "cell_type": "code",
      "metadata": {
        "colab": {
          "base_uri": "https://localhost:8080/",
          "height": 35
        },
        "id": "oLbCs2PsDppq",
        "outputId": "e48b6959-658b-475e-8713-cb66f50dc774"
      },
      "source": [
        "say *= 2\n",
        "say"
      ],
      "execution_count": null,
      "outputs": [
        {
          "output_type": "execute_result",
          "data": {
            "application/vnd.google.colaboratory.intrinsic+json": {
              "type": "string"
            },
            "text/plain": [
              "'claruswayclarusway'"
            ]
          },
          "metadata": {
            "tags": []
          },
          "execution_count": 72
        }
      ]
    },
    {
      "cell_type": "code",
      "metadata": {
        "colab": {
          "base_uri": "https://localhost:8080/",
          "height": 35
        },
        "id": "VDOhU75PDr9r",
        "outputId": "27b4d0f4-0438-498b-a429-50f4b61deb35"
      },
      "source": [
        "\"Benim {} öğrencilerimin Maaşallahı var {}\" .format(\"güzel\", \"mı acaba?\")"
      ],
      "execution_count": null,
      "outputs": [
        {
          "output_type": "execute_result",
          "data": {
            "application/vnd.google.colaboratory.intrinsic+json": {
              "type": "string"
            },
            "text/plain": [
              "'Benim güzel öğrencilerimin Maaşallahı var mı acaba?'"
            ]
          },
          "metadata": {
            "tags": []
          },
          "execution_count": 74
        }
      ]
    },
    {
      "cell_type": "code",
      "metadata": {
        "colab": {
          "base_uri": "https://localhost:8080/",
          "height": 35
        },
        "id": "zbW_ZVwjFKyl",
        "outputId": "f86452d5-8d3e-46cf-84e7-3e3dd1ef851e"
      },
      "source": [
        "x = \"güzel\"\n",
        "y = \"mı acaba?\"\n",
        "\n",
        "\"Benim {} öğrencilerimin Maaşallahı var {}\" .format(x, y)"
      ],
      "execution_count": null,
      "outputs": [
        {
          "output_type": "execute_result",
          "data": {
            "application/vnd.google.colaboratory.intrinsic+json": {
              "type": "string"
            },
            "text/plain": [
              "'Benim güzel öğrencilerimin Maaşallahı var mı acaba?'"
            ]
          },
          "metadata": {
            "tags": []
          },
          "execution_count": 75
        }
      ]
    },
    {
      "cell_type": "code",
      "metadata": {
        "id": "kNcFUn3-I-Wi"
      },
      "source": [
        "x = 6\n",
        "y = 4"
      ],
      "execution_count": null,
      "outputs": []
    },
    {
      "cell_type": "code",
      "metadata": {
        "colab": {
          "base_uri": "https://localhost:8080/"
        },
        "id": "SxeamplndjpK",
        "outputId": "0e3d4857-39cf-4b05-8ed8-c2415e3200fc"
      },
      "source": [
        "(x - y) * (x + y)"
      ],
      "execution_count": null,
      "outputs": [
        {
          "output_type": "execute_result",
          "data": {
            "text/plain": [
              "20"
            ]
          },
          "metadata": {
            "tags": []
          },
          "execution_count": 78
        }
      ]
    },
    {
      "cell_type": "code",
      "metadata": {
        "id": "-ayJOUTgdnYu"
      },
      "source": [
        "kelime = \"clarusway\""
      ],
      "execution_count": null,
      "outputs": []
    },
    {
      "cell_type": "code",
      "metadata": {
        "colab": {
          "base_uri": "https://localhost:8080/",
          "height": 131
        },
        "id": "evqGADY6eIUX",
        "outputId": "aa4be77f-7ba3-4d4e-96d1-cab85ab67c3d"
      },
      "source": [
        "kelime = clarusway sep = / tekrar = 4\n",
        "kelime"
      ],
      "execution_count": null,
      "outputs": [
        {
          "output_type": "error",
          "ename": "SyntaxError",
          "evalue": "ignored",
          "traceback": [
            "\u001b[0;36m  File \u001b[0;32m\"<ipython-input-84-2f7001a3b058>\"\u001b[0;36m, line \u001b[0;32m1\u001b[0m\n\u001b[0;31m    kelime = clarusway sep = / tekrar = 4\u001b[0m\n\u001b[0m                         ^\u001b[0m\n\u001b[0;31mSyntaxError\u001b[0m\u001b[0;31m:\u001b[0m invalid syntax\n"
          ]
        }
      ]
    },
    {
      "cell_type": "code",
      "metadata": {
        "colab": {
          "base_uri": "https://localhost:8080/",
          "height": 131
        },
        "id": "RKykOYIPeRx1",
        "outputId": "3e53c63d-c122-4324-df01-3a03f344d4ed"
      },
      "source": [
        "kelime = \"clarusway\", sep = \"-\", *= 4"
      ],
      "execution_count": null,
      "outputs": [
        {
          "output_type": "error",
          "ename": "SyntaxError",
          "evalue": "ignored",
          "traceback": [
            "\u001b[0;36m  File \u001b[0;32m\"<ipython-input-86-e9dafc71b7ad>\"\u001b[0;36m, line \u001b[0;32m1\u001b[0m\n\u001b[0;31m    kelime = \"clarusway\", sep = \"-\", *= 4\u001b[0m\n\u001b[0m                                      ^\u001b[0m\n\u001b[0;31mSyntaxError\u001b[0m\u001b[0;31m:\u001b[0m invalid syntax\n"
          ]
        }
      ]
    },
    {
      "cell_type": "code",
      "metadata": {
        "id": "3NUo4e0se6d3"
      },
      "source": [
        "kelime = \"Clarusway\"\n",
        "n = 4"
      ],
      "execution_count": null,
      "outputs": []
    },
    {
      "cell_type": "code",
      "metadata": {
        "colab": {
          "base_uri": "https://localhost:8080/"
        },
        "id": "pQzhkUvbfOLr",
        "outputId": "ecd4f04b-1f89-49cb-ccf3-2173f849fe46"
      },
      "source": [
        "print(kelime, n)"
      ],
      "execution_count": null,
      "outputs": [
        {
          "output_type": "stream",
          "text": [
            "Clarusway 4\n"
          ],
          "name": "stdout"
        }
      ]
    },
    {
      "cell_type": "code",
      "metadata": {
        "colab": {
          "base_uri": "https://localhost:8080/",
          "height": 35
        },
        "id": "fTJ8CLW6fT4M",
        "outputId": "08d8e1a8-9026-4132-f058-fc1ce0b27267"
      },
      "source": [
        "harfler = \"abclarusxyz\"\n",
        "harfler[2:8]"
      ],
      "execution_count": null,
      "outputs": [
        {
          "output_type": "execute_result",
          "data": {
            "application/vnd.google.colaboratory.intrinsic+json": {
              "type": "string"
            },
            "text/plain": [
              "'clarus'"
            ]
          },
          "metadata": {
            "tags": []
          },
          "execution_count": 10
        }
      ]
    },
    {
      "cell_type": "code",
      "metadata": {
        "colab": {
          "base_uri": "https://localhost:8080/",
          "height": 35
        },
        "id": "o0p7mUt_frXC",
        "outputId": "5caf7d0b-cd22-48fb-aebf-7738358652c6"
      },
      "source": [
        "harfler[:-8]"
      ],
      "execution_count": null,
      "outputs": [
        {
          "output_type": "execute_result",
          "data": {
            "application/vnd.google.colaboratory.intrinsic+json": {
              "type": "string"
            },
            "text/plain": [
              "'abc'"
            ]
          },
          "metadata": {
            "tags": []
          },
          "execution_count": 11
        }
      ]
    },
    {
      "cell_type": "code",
      "metadata": {
        "colab": {
          "base_uri": "https://localhost:8080/",
          "height": 35
        },
        "id": "bUQEWamNf736",
        "outputId": "dbeb18cf-4fd8-4d8f-b1c0-e0bafada55bd"
      },
      "source": [
        "harfler[-8:]"
      ],
      "execution_count": null,
      "outputs": [
        {
          "output_type": "execute_result",
          "data": {
            "application/vnd.google.colaboratory.intrinsic+json": {
              "type": "string"
            },
            "text/plain": [
              "'larusxyz'"
            ]
          },
          "metadata": {
            "tags": []
          },
          "execution_count": 12
        }
      ]
    },
    {
      "cell_type": "code",
      "metadata": {
        "id": "Lq1F_s-0gL4a"
      },
      "source": [
        "rand_list = [1,[1, 2, \"Clarus\", [2, \"yol\"]], \" en iyisi\"]"
      ],
      "execution_count": null,
      "outputs": []
    },
    {
      "cell_type": "code",
      "metadata": {
        "colab": {
          "base_uri": "https://localhost:8080/"
        },
        "id": "YCrf_wU5hADJ",
        "outputId": "73f4d348-15a3-43b1-d689-321b4db31a22"
      },
      "source": [
        "print(rand_list)"
      ],
      "execution_count": null,
      "outputs": [
        {
          "output_type": "stream",
          "text": [
            "[1, [1, 2, 'Clarus', [2, 'yol']], ' en iyisi']\n"
          ],
          "name": "stdout"
        }
      ]
    },
    {
      "cell_type": "code",
      "metadata": {
        "colab": {
          "base_uri": "https://localhost:8080/"
        },
        "id": "0DVlv3fbhC-4",
        "outputId": "99ceb819-4812-464a-c024-a86057a026a1"
      },
      "source": [
        "sayı_listesi = [\"2, 3, 1, 5, 6, 4, 9, 8, 10\" .format(2, 0, 1, 5, 3, 4, 7, 6, 9)]\n",
        "sayı_listesi"
      ],
      "execution_count": null,
      "outputs": [
        {
          "output_type": "execute_result",
          "data": {
            "text/plain": [
              "['2, 3, 1, 5, 6, 4, 9, 8, 10']"
            ]
          },
          "metadata": {
            "tags": []
          },
          "execution_count": 110
        }
      ]
    },
    {
      "cell_type": "code",
      "metadata": {
        "colab": {
          "base_uri": "https://localhost:8080/"
        },
        "id": "fjF36OzbP5MX",
        "outputId": "4362efbf-80b7-4f41-b608-6b956438bda8"
      },
      "source": [
        "name = \"Gizem\"\n",
        "job = \"Urban Planner\"\n",
        "domain = \"urban design\"\n",
        "message = (f\"Hi, {name}.\" f\"You are one of the {job}\" f\" in the {domain} section\")\n",
        "print(message)"
      ],
      "execution_count": null,
      "outputs": [
        {
          "output_type": "stream",
          "text": [
            "Hi, Gizem.You are one of the Urban Planner in the urban design section\n"
          ],
          "name": "stdout"
        }
      ]
    },
    {
      "cell_type": "code",
      "metadata": {
        "colab": {
          "base_uri": "https://localhost:8080/"
        },
        "id": "jsR9MXGCQYEk",
        "outputId": "4097a26c-f906-4c9e-cdba-4530c4fb244b"
      },
      "source": [
        "empty_list_1 = []\n",
        "empty_list_1.append(\"114\")\n",
        "empty_list_1.append(\"plastic-free sea\")\n",
        "\n",
        "print(empty_list_1)"
      ],
      "execution_count": null,
      "outputs": [
        {
          "output_type": "stream",
          "text": [
            "['114', 'plastic-free sea']\n"
          ],
          "name": "stdout"
        }
      ]
    },
    {
      "cell_type": "code",
      "metadata": {
        "colab": {
          "base_uri": "https://localhost:8080/"
        },
        "id": "ToE_DSLPbStk",
        "outputId": "c12f1c9b-28f3-4747-d9fe-a6130c182be3"
      },
      "source": [
        "city = [\"Erzurum\", \"Antalya\", \"Kocaeli\", \"Muğla\", \"Aydın\"]\n",
        "city.append(\"Sivas\")\n",
        "\n",
        "print(city) #append işlemi verilen koda başka bir eleman eklemek için kullanılır."
      ],
      "execution_count": null,
      "outputs": [
        {
          "output_type": "stream",
          "text": [
            "['Erzurum', 'Antalya', 'Kocaeli', 'Muğla', 'Aydın', 'Sivas']\n"
          ],
          "name": "stdout"
        }
      ]
    },
    {
      "cell_type": "code",
      "metadata": {
        "colab": {
          "base_uri": "https://localhost:8080/"
        },
        "id": "zMQe77J8bu8D",
        "outputId": "e67e7d29-3464-4df7-d76b-53fdafc7160c"
      },
      "source": [
        "city = [\"Erzurum\", \"Antalya\", \"Kocaeli\", \"Muğla\", \"Aydın\"]\n",
        "city.insert(2, \"Trabzon\")\n",
        "\n",
        "print(city) #insert işlemi kaçıncı sıraya ekleyeceğimizi kodlar."
      ],
      "execution_count": null,
      "outputs": [
        {
          "output_type": "stream",
          "text": [
            "['Erzurum', 'Antalya', 'Trabzon', 'Kocaeli', 'Muğla', 'Aydın']\n"
          ],
          "name": "stdout"
        }
      ]
    },
    {
      "cell_type": "code",
      "metadata": {
        "colab": {
          "base_uri": "https://localhost:8080/"
        },
        "id": "OKs3P2FlcHIB",
        "outputId": "68ff0579-01a4-4843-9bae-705418d1b4a6"
      },
      "source": [
        "city = [\"Erzurum\", \"Antalya\", \"Kocaeli\", \"Muğla\", \"Aydın\", \"Sivas\", \"Trabzon\"]\n",
        "city.remove(\"Trabzon\")\n",
        "print(city) #remove işlemiyle Trabzon kelimesini silmiş olduk."
      ],
      "execution_count": null,
      "outputs": [
        {
          "output_type": "stream",
          "text": [
            "['Erzurum', 'Antalya', 'Kocaeli', 'Muğla', 'Aydın', 'Sivas']\n"
          ],
          "name": "stdout"
        }
      ]
    },
    {
      "cell_type": "code",
      "metadata": {
        "colab": {
          "base_uri": "https://localhost:8080/"
        },
        "id": "KRjxNINPcpWO",
        "outputId": "ab4c0824-75de-49d9-a6f0-965dc7dc71d3"
      },
      "source": [
        "city = [\"Erzurum\", \"Antalya\", \"Kocaeli\", \"Muğla\", \"Aydın\", \"Sivas\", \"Trabzon\"]\n",
        "city.sort()\n",
        "print(city) #sort komutuyla Alfabtik sıraya konmuş olur."
      ],
      "execution_count": null,
      "outputs": [
        {
          "output_type": "stream",
          "text": [
            "['Antalya', 'Aydın', 'Erzurum', 'Kocaeli', 'Muğla', 'Sivas', 'Trabzon']\n"
          ],
          "name": "stdout"
        }
      ]
    },
    {
      "cell_type": "code",
      "metadata": {
        "colab": {
          "base_uri": "https://localhost:8080/"
        },
        "id": "npkxDw7CcyTO",
        "outputId": "f5896f0f-f0d5-4897-8ebf-cfdc4d5ebb6f"
      },
      "source": [
        "city = [\"Erzurum\", \"Antalya\", \"Kocaeli\", \"Muğla\", \"Aydın\", \"Sivas\", \"Trabzon\"]\n",
        "print(len(city))"
      ],
      "execution_count": null,
      "outputs": [
        {
          "output_type": "stream",
          "text": [
            "7\n"
          ],
          "name": "stdout"
        }
      ]
    },
    {
      "cell_type": "code",
      "metadata": {
        "colab": {
          "base_uri": "https://localhost:8080/"
        },
        "id": "rDqguiSBdGa_",
        "outputId": "61e9dfb7-177b-4ac6-eee2-16ff693fcebe"
      },
      "source": [
        "my_list = [1, 3, 5, 7]\n",
        "print(my_list * 3)"
      ],
      "execution_count": null,
      "outputs": [
        {
          "output_type": "stream",
          "text": [
            "[1, 3, 5, 7, 1, 3, 5, 7, 1, 3, 5, 7]\n"
          ],
          "name": "stdout"
        }
      ]
    },
    {
      "cell_type": "code",
      "metadata": {
        "colab": {
          "base_uri": "https://localhost:8080/"
        },
        "id": "dg5gLtNpdUPn",
        "outputId": "537fc1db-3dd6-422a-8dbf-960d88e204b2"
      },
      "source": [
        "city = [\"Erzurum\", \"Antalya\", \"Kocaeli\", \"Muğla\", \"Aydın\", \"Sivas\", \"Trabzon\"]\n",
        "city[1] = \"Samsun\"\n",
        "print(city) # Samsun kelimesini indeks 1'in (Antalya) yerine atadık"
      ],
      "execution_count": null,
      "outputs": [
        {
          "output_type": "stream",
          "text": [
            "['Erzurum', 'Samsun', 'Kocaeli', 'Muğla', 'Aydın', 'Sivas', 'Trabzon']\n"
          ],
          "name": "stdout"
        }
      ]
    },
    {
      "cell_type": "code",
      "metadata": {
        "colab": {
          "base_uri": "https://localhost:8080/"
        },
        "id": "rtWUY_rygrIb",
        "outputId": "bf8be1a5-8f9e-4375-fa12-86f52dd9d325"
      },
      "source": [
        "colors = [\"blue\", \"white\", \"green\", \"orange\", \"purple\"]\n",
        "print(colors[3]) #3 elementin ne olduğunu (orange) bulmak için yaptığımız kodlama"
      ],
      "execution_count": null,
      "outputs": [
        {
          "output_type": "stream",
          "text": [
            "orange\n"
          ],
          "name": "stdout"
        }
      ]
    },
    {
      "cell_type": "code",
      "metadata": {
        "colab": {
          "base_uri": "https://localhost:8080/"
        },
        "id": "6khV9vaZhCuk",
        "outputId": "c9a5d6a9-1468-491e-b937-ddc28f80e50a"
      },
      "source": [
        "city = [\"Erzurum\", \"Antalya\", \"Kocaeli\", \"Muğla\", \"Aydın\", \"Sivas\", \"Trabzon\"]\n",
        "print(city[0])"
      ],
      "execution_count": null,
      "outputs": [
        {
          "output_type": "stream",
          "text": [
            "Erzurum\n"
          ],
          "name": "stdout"
        }
      ]
    },
    {
      "cell_type": "code",
      "metadata": {
        "colab": {
          "base_uri": "https://localhost:8080/"
        },
        "id": "JtN-r9yIhISI",
        "outputId": "82ee187f-2239-457a-dd02-a1ae434df839"
      },
      "source": [
        "city = [\"Erzurum\", \"Antalya\", \"Kocaeli\", \"Muğla\", \"Aydın\", \"Sivas\", \"Trabzon\"]\n",
        "city_list = []\n",
        "city_list.append(city) #iç içe bir liste oluşturduk\n",
        "\n",
        "print(city_list)"
      ],
      "execution_count": null,
      "outputs": [
        {
          "output_type": "stream",
          "text": [
            "[['Erzurum', 'Antalya', 'Kocaeli', 'Muğla', 'Aydın', 'Sivas', 'Trabzon']]\n"
          ],
          "name": "stdout"
        }
      ]
    },
    {
      "cell_type": "code",
      "metadata": {
        "colab": {
          "base_uri": "https://localhost:8080/"
        },
        "id": "eOslvTaqhh5Y",
        "outputId": "c30d3a4b-62ce-4343-feeb-e75184cf52ec"
      },
      "source": [
        "city_list = [[\"Erzurum\", \"Antalya\", \"Kocaeli\", \"Muğla\", \"Aydın\", \"Sivas\", \"Trabzon\"]]\n",
        "print(city_list[0]) ## ilk ve tek öğeye erişim"
      ],
      "execution_count": null,
      "outputs": [
        {
          "output_type": "stream",
          "text": [
            "['Erzurum', 'Antalya', 'Kocaeli', 'Muğla', 'Aydın', 'Sivas', 'Trabzon']\n"
          ],
          "name": "stdout"
        }
      ]
    },
    {
      "cell_type": "code",
      "metadata": {
        "colab": {
          "base_uri": "https://localhost:8080/"
        },
        "id": "vkKrC2u2h6tP",
        "outputId": "b0c9c400-81bc-4b04-dd1d-02d3a981259d"
      },
      "source": [
        "city_list = [[\"Erzurum\", \"Antalya\", \"Kocaeli\", \"Muğla\", \"Aydın\", \"Sivas\", \"Trabzon\"]]\n",
        "print(city_list[0][2]) #2.elemana erişmemizi sağlar"
      ],
      "execution_count": null,
      "outputs": [
        {
          "output_type": "stream",
          "text": [
            "Kocaeli\n"
          ],
          "name": "stdout"
        }
      ]
    },
    {
      "cell_type": "code",
      "metadata": {
        "colab": {
          "base_uri": "https://localhost:8080/"
        },
        "id": "Zv3IzMACiJMv",
        "outputId": "11244879-d22d-49c7-feea-b33dba276019"
      },
      "source": [
        "city_list = [[\"Erzurum\", \"Antalya\", \"Kocaeli\", \"Muğla\", \"Aydın\", \"Sivas\", \"Trabzon\"]]\n",
        "print(city_list[0][2][3])#2.elemanın 3.harfine erişmemizi sağlar"
      ],
      "execution_count": null,
      "outputs": [
        {
          "output_type": "stream",
          "text": [
            "a\n"
          ],
          "name": "stdout"
        }
      ]
    },
    {
      "cell_type": "code",
      "metadata": {
        "colab": {
          "base_uri": "https://localhost:8080/"
        },
        "id": "xukCOcRmiQb5",
        "outputId": "19169964-798f-419a-8485-bd5324df8ba6"
      },
      "source": [
        "fruits = ['apple', 'banana', 'watermelon', 'orange', 'mango', 'avocado']\n",
        "\n",
        "fruit_list = []\n",
        "fruit_list.insert(0, fruits)\n",
        "print(fruit_list[0][2][7])"
      ],
      "execution_count": null,
      "outputs": [
        {
          "output_type": "stream",
          "text": [
            "l\n"
          ],
          "name": "stdout"
        }
      ]
    },
    {
      "cell_type": "code",
      "metadata": {
        "colab": {
          "base_uri": "https://localhost:8080/"
        },
        "id": "SZ_JkTJDixP9",
        "outputId": "ef6e99c5-5afa-4df1-e4dc-e2a4fcbd8fdc"
      },
      "source": [
        "numbers = [1, 3, 5, 7, 9, 11, 13, 15, 17]\n",
        "print(numbers[2:5]) # index=2'den index=5'e kadar olan elemanları alıyoruz(5 dahil değil)"
      ],
      "execution_count": null,
      "outputs": [
        {
          "output_type": "stream",
          "text": [
            "[5, 7, 9]\n"
          ],
          "name": "stdout"
        }
      ]
    },
    {
      "cell_type": "code",
      "metadata": {
        "id": "nM1EhmajjXFl"
      },
      "source": [
        "#Formül sözdizimi şöyledir: sıra[başlangıç:durdur:adım]"
      ],
      "execution_count": null,
      "outputs": []
    },
    {
      "cell_type": "code",
      "metadata": {
        "colab": {
          "base_uri": "https://localhost:8080/"
        },
        "id": "w-jSpqcej1GR",
        "outputId": "a095d177-b72b-4f26-e830-92ca243affb3"
      },
      "source": [
        "count = list(range(13))\n",
        "print(count) #0' dan 13'e kadar (13 dahil değil) olan sayıları sıralar\n",
        "\n",
        "print(count[0:13:3]) # 0' dan 13'e kadar (13 dahil değil) 3' er 3' er artarak sıralar"
      ],
      "execution_count": null,
      "outputs": [
        {
          "output_type": "stream",
          "text": [
            "[0, 1, 2, 3, 4, 5, 6, 7, 8, 9, 10, 11, 12]\n",
            "[0, 3, 6, 9, 12]\n"
          ],
          "name": "stdout"
        }
      ]
    },
    {
      "cell_type": "code",
      "metadata": {
        "colab": {
          "base_uri": "https://localhost:8080/"
        },
        "id": "38gOOxuYkG2H",
        "outputId": "6b6c82e6-980e-449a-b36b-7b6e393258b0"
      },
      "source": [
        "animals = [\"wolf\", \"scorpion\", \"fox\", \"bee\", \"ant\"]\n",
        "print(animals[:]) #tüm hayvanların listesini kodlar"
      ],
      "execution_count": null,
      "outputs": [
        {
          "output_type": "stream",
          "text": [
            "['wolf', 'scorpion', 'fox', 'bee', 'ant']\n"
          ],
          "name": "stdout"
        }
      ]
    },
    {
      "cell_type": "code",
      "metadata": {
        "colab": {
          "base_uri": "https://localhost:8080/"
        },
        "id": "_houPlhMnBFK",
        "outputId": "50f6d148-3b50-4b72-f6c6-8f62993fdcfb"
      },
      "source": [
        "animals = [\"wolf\", \"scorpion\", \"fox\", \"bee\", \"ant\", \"rabbit\", \"wasp\", \"bear\"]\n",
        "print(animals[:5])"
      ],
      "execution_count": null,
      "outputs": [
        {
          "output_type": "stream",
          "text": [
            "['wolf', 'scorpion', 'fox', 'bee', 'ant']\n"
          ],
          "name": "stdout"
        }
      ]
    },
    {
      "cell_type": "code",
      "metadata": {
        "colab": {
          "base_uri": "https://localhost:8080/"
        },
        "id": "VJio33nps9iy",
        "outputId": "0a1a9882-c303-4e5f-d103-6bfc7cb4765a"
      },
      "source": [
        "animals = [\"wolf\", \"scorpion\", \"fox\", \"bee\", \"ant\", \"rabbit\", \"wasp\", \"bear\"]\n",
        "print(animals[::2])"
      ],
      "execution_count": null,
      "outputs": [
        {
          "output_type": "stream",
          "text": [
            "['wolf', 'fox', 'ant', 'wasp']\n"
          ],
          "name": "stdout"
        }
      ]
    },
    {
      "cell_type": "code",
      "metadata": {
        "colab": {
          "base_uri": "https://localhost:8080/"
        },
        "id": "1hFW-7ywtNx6",
        "outputId": "5ea03972-1832-48c4-fbc0-a71dfdc97bdf"
      },
      "source": [
        "print(len([[12, 34, 56]]))"
      ],
      "execution_count": null,
      "outputs": [
        {
          "output_type": "stream",
          "text": [
            "1\n"
          ],
          "name": "stdout"
        }
      ]
    },
    {
      "cell_type": "code",
      "metadata": {
        "colab": {
          "base_uri": "https://localhost:8080/"
        },
        "id": "oj6lBBRVt1jS",
        "outputId": "b149b246-1f4a-4b6d-e7e4-ce949e52c3c9"
      },
      "source": [
        "print(len([[12, 34, 56]][0]))"
      ],
      "execution_count": null,
      "outputs": [
        {
          "output_type": "stream",
          "text": [
            "3\n"
          ],
          "name": "stdout"
        }
      ]
    },
    {
      "cell_type": "code",
      "metadata": {
        "colab": {
          "base_uri": "https://localhost:8080/"
        },
        "id": "4P6v6XvEuHfR",
        "outputId": "2c6beeec-e93d-47dd-e073-2d9c72381449"
      },
      "source": [
        "my_list = [1, 2, 3, 4, 5, 6]\n",
        "new_list = []\n",
        "\n",
        "my_list"
      ],
      "execution_count": null,
      "outputs": [
        {
          "output_type": "execute_result",
          "data": {
            "text/plain": [
              "[1, 2, 3, 4, 5, 6]"
            ]
          },
          "metadata": {
            "tags": []
          },
          "execution_count": 65
        }
      ]
    },
    {
      "cell_type": "code",
      "metadata": {
        "colab": {
          "base_uri": "https://localhost:8080/"
        },
        "id": "NPyCs3civuyO",
        "outputId": "761cb104-6094-4c17-ace1-5b71dac0e1f7"
      },
      "source": [
        "for x in my_list:\n",
        "  if x & 2 !=0:\n",
        "    new_list.append(x ** 2)\n",
        "print(new_list)"
      ],
      "execution_count": null,
      "outputs": [
        {
          "output_type": "stream",
          "text": [
            "[4, 9, 36, 4, 9, 36]\n"
          ],
          "name": "stdout"
        }
      ]
    },
    {
      "cell_type": "code",
      "metadata": {
        "id": "BPQyxsrTwDp8"
      },
      "source": [
        "# [ expression for item in list ]"
      ],
      "execution_count": null,
      "outputs": []
    },
    {
      "cell_type": "code",
      "metadata": {
        "id": "vv3HuqBhwbPV"
      },
      "source": [
        "# [ expression for item in list execution body if condition]"
      ],
      "execution_count": null,
      "outputs": []
    },
    {
      "cell_type": "code",
      "metadata": {
        "colab": {
          "base_uri": "https://localhost:8080/"
        },
        "id": "W_2Mqei9wm7G",
        "outputId": "b9393df2-a430-4264-d81b-9feb241ba19f"
      },
      "source": [
        "print([x ** 2 for x in my_list if x % 2 !=0])"
      ],
      "execution_count": null,
      "outputs": [
        {
          "output_type": "stream",
          "text": [
            "[1, 9, 25]\n"
          ],
          "name": "stdout"
        }
      ]
    },
    {
      "cell_type": "code",
      "metadata": {
        "colab": {
          "base_uri": "https://localhost:8080/"
        },
        "id": "n-DJkG2Xwx8G",
        "outputId": "b0d12a6d-d829-49d6-cb2f-6e46797b019b"
      },
      "source": [
        "fruit = \"orange\"\n",
        "vegetable = \"Tomato\"\n",
        "amount = 12\n",
        "output = f\"The amount of {fruit} andd {vegetable} we bought are totally {amount} pounds\"\n",
        "\n",
        "print(output) #değişkinleri değiştirince çıktı da değişir"
      ],
      "execution_count": null,
      "outputs": [
        {
          "output_type": "stream",
          "text": [
            "The amount of orange andd Tomato we bought are totally 12 pounds\n"
          ],
          "name": "stdout"
        }
      ]
    },
    {
      "cell_type": "code",
      "metadata": {
        "colab": {
          "base_uri": "https://localhost:8080/"
        },
        "id": "H2Q4cjYuA3Uz",
        "outputId": "b61f2eda-61e8-4fcc-cc28-ccfb4cd5d25a"
      },
      "source": [
        "sample = f\"{2 ** 3}\"\n",
        "print(sample)"
      ],
      "execution_count": null,
      "outputs": [
        {
          "output_type": "stream",
          "text": [
            "8\n"
          ],
          "name": "stdout"
        }
      ]
    },
    {
      "cell_type": "code",
      "metadata": {
        "colab": {
          "base_uri": "https://localhost:8080/"
        },
        "id": "AeUf4hjxBCX6",
        "outputId": "c1968ca8-6c79-44f3-9287-4b783bf9fbab"
      },
      "source": [
        "x = 2\n",
        "y = 3\n",
        "print(f\"burada neler oluyor aman Allahım... {x ** y}\")"
      ],
      "execution_count": null,
      "outputs": [
        {
          "output_type": "stream",
          "text": [
            "burada neler oluyor aman Allahım... 8\n"
          ],
          "name": "stdout"
        }
      ]
    },
    {
      "cell_type": "code",
      "metadata": {
        "colab": {
          "base_uri": "https://localhost:8080/"
        },
        "id": "ZoxKm2ESCF3D",
        "outputId": "06b1fb8b-d9cd-4699-ffa9-bc64390d2849"
      },
      "source": [
        "name = \"MARIAM\"\n",
        "print(f\"My name is {name.capitalize()}\")\n"
      ],
      "execution_count": null,
      "outputs": [
        {
          "output_type": "stream",
          "text": [
            "My name is Mariam\n"
          ],
          "name": "stdout"
        }
      ]
    },
    {
      "cell_type": "code",
      "metadata": {
        "colab": {
          "base_uri": "https://localhost:8080/",
          "height": 35
        },
        "id": "2Klm4vORF-1t",
        "outputId": "51d5959f-d18f-47a7-bda7-e262dd542f2d"
      },
      "source": [
        "name = 'Susan'\n",
        "age = 'young'\n",
        "gender = 'lady'\n",
        "school = \"CLRWY IT university\"\n",
        "text = f\"{name} is a {age} {gender} \"\\\n",
        "  f\"she is a student\"\\\n",
        "  f\"at the {school}.\" \n",
        "text"
      ],
      "execution_count": null,
      "outputs": [
        {
          "output_type": "execute_result",
          "data": {
            "application/vnd.google.colaboratory.intrinsic+json": {
              "type": "string"
            },
            "text/plain": [
              "'Susan is a young lady she is a studentat the CLRWY IT university.'"
            ]
          },
          "metadata": {
            "tags": []
          },
          "execution_count": 94
        }
      ]
    },
    {
      "cell_type": "code",
      "metadata": {
        "colab": {
          "base_uri": "https://localhost:8080/"
        },
        "id": "rUqlAbd2Hpf9",
        "outputId": "a2454ae3-5655-4382-e611-c453f7697b80"
      },
      "source": [
        "city = \"SARAJEVO\"\n",
        "month = \"february\"\n",
        "text = f\"{month.title()}\"\n",
        "print(text)"
      ],
      "execution_count": null,
      "outputs": [
        {
          "output_type": "stream",
          "text": [
            "February\n"
          ],
          "name": "stdout"
        }
      ]
    },
    {
      "cell_type": "code",
      "metadata": {
        "colab": {
          "base_uri": "https://localhost:8080/"
        },
        "id": "5r_rK3eeH8Dc",
        "outputId": "9d226fd4-efe5-4103-e826-9d0d799701cc"
      },
      "source": [
        "city = \"SARAJEVO\"\n",
        "print(f\"I live in {city.capitalize()}.\")"
      ],
      "execution_count": null,
      "outputs": [
        {
          "output_type": "stream",
          "text": [
            "I live in Sarajevo.\n"
          ],
          "name": "stdout"
        }
      ]
    },
    {
      "cell_type": "code",
      "metadata": {
        "id": "ULfCmJOMIcYn"
      },
      "source": [
        "\"Hello\", \"new\", \"love\"\n",
        "Hello! I am a new programmer and I love Clarusway.\n",
        "text = \"......................\" .format(\"Hello\", \"new\", \"love\")\n",
        "print(text)\n",
        "\"Benim {} öğrencilerimin Maaşallahı var {}\" .format(\"güzel\", \"mı acaba?\")"
      ],
      "execution_count": null,
      "outputs": []
    },
    {
      "cell_type": "code",
      "metadata": {
        "colab": {
          "base_uri": "https://localhost:8080/"
        },
        "id": "TGqR_MhaJjBi",
        "outputId": "ecb01227-68b1-482e-f62b-90ceeec00ec5"
      },
      "source": [
        "text = \"{}! I am a {} programmer and I {} Clarusway\" .format(\"Hello\", \"new\", \"love\")\n",
        "print(text)"
      ],
      "execution_count": null,
      "outputs": [
        {
          "output_type": "stream",
          "text": [
            "Hello! I am a new programmer and I love Clarusway\n"
          ],
          "name": "stdout"
        }
      ]
    },
    {
      "cell_type": "code",
      "metadata": {
        "colab": {
          "base_uri": "https://localhost:8080/"
        },
        "id": "2LmR9FIzMGaC",
        "outputId": "d3318073-f26b-42b3-be6f-4968638058b4"
      },
      "source": [
        "word = 'clarusway'\n",
        "n = 3\n",
        "front = word[:n]\n",
        "back = word[n+1:]\n",
        "print(front + back)"
      ],
      "execution_count": null,
      "outputs": [
        {
          "output_type": "stream",
          "text": [
            "clausway\n"
          ],
          "name": "stdout"
        }
      ]
    },
    {
      "cell_type": "code",
      "metadata": {
        "colab": {
          "base_uri": "https://localhost:8080/"
        },
        "id": "Joj28GpNN_y2",
        "outputId": "a1beaa75-3540-457f-965b-89b31d3f5acc"
      },
      "source": [
        "var_string = \"ClarusWay\"\n",
        "print(var_string.lower())\n",
        "print(var_string)\n",
        "var_string = \"ClarusWay\".lower()\n",
        "print(var_string)"
      ],
      "execution_count": null,
      "outputs": [
        {
          "output_type": "stream",
          "text": [
            "clarusway\n",
            "ClarusWay\n",
            "clarusway\n"
          ],
          "name": "stdout"
        }
      ]
    },
    {
      "cell_type": "code",
      "metadata": {
        "colab": {
          "base_uri": "https://localhost:8080/"
        },
        "id": "BfBVaRp0RiTD",
        "outputId": "34ab79c9-5907-44d6-c4fc-35dcc4a5cd99"
      },
      "source": [
        "var_str = \"In God we Trust\"\n",
        "var_str.lower()\n",
        "print(var_str)"
      ],
      "execution_count": null,
      "outputs": [
        {
          "output_type": "stream",
          "text": [
            "In God we Trust\n"
          ],
          "name": "stdout"
        }
      ]
    },
    {
      "cell_type": "code",
      "metadata": {
        "colab": {
          "base_uri": "https://localhost:8080/",
          "height": 35
        },
        "id": "RBUDVROjR6bj",
        "outputId": "c2086427-17e0-44f9-9513-29174a16dd1b"
      },
      "source": [
        "\"clarusWay\".title()#Baş harfi büyük yapar"
      ],
      "execution_count": null,
      "outputs": [
        {
          "output_type": "execute_result",
          "data": {
            "application/vnd.google.colaboratory.intrinsic+json": {
              "type": "string"
            },
            "text/plain": [
              "'Clarusway'"
            ]
          },
          "metadata": {
            "tags": []
          },
          "execution_count": 116
        }
      ]
    },
    {
      "cell_type": "code",
      "metadata": {
        "id": "z_swvMKRS02I"
      },
      "source": [
        "metin = \"clarusWay\""
      ],
      "execution_count": null,
      "outputs": []
    },
    {
      "cell_type": "code",
      "metadata": {
        "colab": {
          "base_uri": "https://localhost:8080/",
          "height": 35
        },
        "id": "HyNVFKKcTC4v",
        "outputId": "24c7780f-458a-4d0c-f575-b8d360afeb0d"
      },
      "source": [
        "metin.title()"
      ],
      "execution_count": null,
      "outputs": [
        {
          "output_type": "execute_result",
          "data": {
            "application/vnd.google.colaboratory.intrinsic+json": {
              "type": "string"
            },
            "text/plain": [
              "'Clarusway'"
            ]
          },
          "metadata": {
            "tags": []
          },
          "execution_count": 120
        }
      ]
    },
    {
      "cell_type": "code",
      "metadata": {
        "id": "Q-c8fgnSTKVi"
      },
      "source": [
        "metin = metin.title()"
      ],
      "execution_count": null,
      "outputs": []
    },
    {
      "cell_type": "code",
      "metadata": {
        "colab": {
          "base_uri": "https://localhost:8080/",
          "height": 35
        },
        "id": "tnvHU4jLTNni",
        "outputId": "ca1d3f43-2762-40f2-e42b-69d120ed7d35"
      },
      "source": [
        "metin"
      ],
      "execution_count": null,
      "outputs": [
        {
          "output_type": "execute_result",
          "data": {
            "application/vnd.google.colaboratory.intrinsic+json": {
              "type": "string"
            },
            "text/plain": [
              "'Clarusway'"
            ]
          },
          "metadata": {
            "tags": []
          },
          "execution_count": 122
        }
      ]
    },
    {
      "cell_type": "code",
      "metadata": {
        "colab": {
          "base_uri": "https://localhost:8080/"
        },
        "id": "LWGtUD-NTOuk",
        "outputId": "a5029e50-9517-4252-d508-62de1d0271d1"
      },
      "source": [
        "text = \"www.clarusway.com\"\n",
        "print(text.endswith(\".com\"))\n",
        "print(text.startswith(\"http:\")) #True/False döndürür"
      ],
      "execution_count": null,
      "outputs": [
        {
          "output_type": "stream",
          "text": [
            "True\n",
            "False\n"
          ],
          "name": "stdout"
        }
      ]
    },
    {
      "cell_type": "code",
      "metadata": {
        "colab": {
          "base_uri": "https://localhost:8080/"
        },
        "id": "r-VEqh_oUljV",
        "outputId": "479865a9-87f2-4be2-b964-7c7a2963adaf"
      },
      "source": [
        "text = \"www.clarusway.com\"\n",
        "print(text.endswith(\"om\"))\n",
        "print(text.startswith(\"w\"))"
      ],
      "execution_count": null,
      "outputs": [
        {
          "output_type": "stream",
          "text": [
            "True\n",
            "True\n"
          ],
          "name": "stdout"
        }
      ]
    },
    {
      "cell_type": "code",
      "metadata": {
        "colab": {
          "base_uri": "https://localhost:8080/"
        },
        "id": "DSRny4juWZOb",
        "outputId": "60ce6b8a-b48c-4692-a290-8d9489fdbf87"
      },
      "source": [
        "phrase = \"What is Soul?\"\n",
        "print(phrase.upper().swapcase())"
      ],
      "execution_count": null,
      "outputs": [
        {
          "output_type": "stream",
          "text": [
            "what is soul?\n"
          ],
          "name": "stdout"
        }
      ]
    },
    {
      "cell_type": "code",
      "metadata": {
        "colab": {
          "base_uri": "https://localhost:8080/"
        },
        "id": "PH8i-UlbbD-s",
        "outputId": "a4d8ff19-d411-4556-dfe7-db2c31c650d8"
      },
      "source": [
        "phrase = \"What is Soul?\"\n",
        "new_phrase = phrase.replace(\"Soul\", \"feeliNGS\")\n",
        "print(new_phrase.title())"
      ],
      "execution_count": null,
      "outputs": [
        {
          "output_type": "stream",
          "text": [
            "What Is Feelings?\n"
          ],
          "name": "stdout"
        }
      ]
    },
    {
      "cell_type": "code",
      "metadata": {
        "id": "GFBFPhCjcTna"
      },
      "source": [
        "a = \"clarusway\""
      ],
      "execution_count": null,
      "outputs": []
    },
    {
      "cell_type": "code",
      "metadata": {
        "colab": {
          "base_uri": "https://localhost:8080/",
          "height": 35
        },
        "id": "icF6TYn1dk_p",
        "outputId": "8f40575b-9f74-481f-e9c9-740aa4a32c3e"
      },
      "source": [
        "a.replace(\"a\", \"u\") #replace değiştiricidir."
      ],
      "execution_count": null,
      "outputs": [
        {
          "output_type": "execute_result",
          "data": {
            "application/vnd.google.colaboratory.intrinsic+json": {
              "type": "string"
            },
            "text/plain": [
              "'cluruswuy'"
            ]
          },
          "metadata": {
            "tags": []
          },
          "execution_count": 134
        }
      ]
    },
    {
      "cell_type": "code",
      "metadata": {
        "id": "k9DiXmCHdqQ1"
      },
      "source": [
        " #swapcase büyükleri küçük, küçükleri büyük yapar\n"
      ],
      "execution_count": null,
      "outputs": []
    },
    {
      "cell_type": "code",
      "metadata": {
        "colab": {
          "base_uri": "https://localhost:8080/"
        },
        "id": "5Q62-W9veXZ4",
        "outputId": "d3031d8a-5cb3-430d-d226-03a4fa88143e"
      },
      "source": [
        "sentence = \"I live and work in Virginia\"\n",
        "print(sentence.upper())\n",
        "print(sentence.lower())\n",
        "print(sentence.swapcase())\n",
        "print(sentence)\n"
      ],
      "execution_count": null,
      "outputs": [
        {
          "output_type": "stream",
          "text": [
            "I LIVE AND WORK IN VIRGINIA\n",
            "i live and work in virginia\n",
            "i LIVE AND WORK IN vIRGINIA\n",
            "I live and work in Virginia\n"
          ],
          "name": "stdout"
        }
      ]
    },
    {
      "cell_type": "code",
      "metadata": {
        "id": "b66xwLWsfFFk"
      },
      "source": [
        "#x = \"www.clarusway.com\"\n",
        "#print(x.lower()) # hepsi küçük\n",
        "#print(x.title()) # her kelimenin ilk harfi büyür\n",
        "#print(x.upper()) # hepsini büyük harf olur\n",
        "#print(x.capitalize()) # sadece ilk kelimenin ilk\n",
        "#print(x.swapcase()) # Büyükler küçük, küçükler büyük\n",
        "#print(x.replace(\"www\", \"https//www\")) # tanımlanan değişiyor\n",
        "#print(x.strip()) #\n",
        "#print(x.replace(\"a\", \"u\", 1)) # sadece bir kere\n",
        "#print(x.replace(\"a\", \"u\")) # boş bırakılınca hepsi\n",
        "#print(x.replace(\"a\", \"u\", 5)) # sayı fazla olsada değişmiyor."
      ],
      "execution_count": null,
      "outputs": []
    },
    {
      "cell_type": "code",
      "metadata": {
        "colab": {
          "base_uri": "https://localhost:8080/"
        },
        "id": "kLpu8jKZfhh1",
        "outputId": "813dbc80-dee4-4686-c51f-00db0b74a774"
      },
      "source": [
        "sentence = \"I live and work in Virginia\"\n",
        "title_sentence = sentence.title()\n",
        "print(title_sentence)\n",
        "\n",
        "changed_sentence = sentence.replace(\"i\", \"+\")\n",
        "print(changed_sentence)\n",
        "\n",
        "print(sentence)"
      ],
      "execution_count": null,
      "outputs": [
        {
          "output_type": "stream",
          "text": [
            "I Live And Work In Virginia\n",
            "I l+ve and work +n V+rg+n+a\n",
            "I live and work in Virginia\n"
          ],
          "name": "stdout"
        }
      ]
    },
    {
      "cell_type": "code",
      "metadata": {
        "colab": {
          "base_uri": "https://localhost:8080/"
        },
        "id": "lbng0_gEgtrW",
        "outputId": "5a5f837a-6149-4082-9652-c000ae62327e"
      },
      "source": [
        "text =\"the better the family, the better the society\"\n",
        "text = text.title()\n",
        "print(text)"
      ],
      "execution_count": null,
      "outputs": [
        {
          "output_type": "stream",
          "text": [
            "The Better The Family, The Better The Society\n"
          ],
          "name": "stdout"
        }
      ]
    },
    {
      "cell_type": "code",
      "metadata": {
        "colab": {
          "base_uri": "https://localhost:8080/"
        },
        "id": "cIvoNVD5hYS1",
        "outputId": "0a82bbb2-9bfa-486f-9c38-755253de8dd7"
      },
      "source": [
        "text = \"S0d0me and G0m0re\"\n",
        "text = text.replace(\"0\",\"o\")\n",
        "print(text)"
      ],
      "execution_count": null,
      "outputs": [
        {
          "output_type": "stream",
          "text": [
            "Sodome and Gomore\n"
          ],
          "name": "stdout"
        }
      ]
    },
    {
      "cell_type": "code",
      "metadata": {
        "colab": {
          "base_uri": "https://localhost:8080/"
        },
        "id": "rN18SI78h1rC",
        "outputId": "526a1ca8-b0d5-4c63-c197-9c700b9fdfd1"
      },
      "source": [
        "text = \"S0d0me and G0m0re\"\n",
        "text = text.replace(\"0\",\"o\", 2)\n",
        "print(text)"
      ],
      "execution_count": null,
      "outputs": [
        {
          "output_type": "stream",
          "text": [
            "Sodome and G0m0re\n"
          ],
          "name": "stdout"
        }
      ]
    },
    {
      "cell_type": "code",
      "metadata": {
        "colab": {
          "base_uri": "https://localhost:8080/"
        },
        "id": "7Jx3RJAtiXP6",
        "outputId": "d6a2381c-d936-4272-9445-474f8572ceb9"
      },
      "source": [
        "space_string = \"      listen first      \"\n",
        "print(space_string.strip())"
      ],
      "execution_count": null,
      "outputs": [
        {
          "output_type": "stream",
          "text": [
            "listen first\n"
          ],
          "name": "stdout"
        }
      ]
    },
    {
      "cell_type": "code",
      "metadata": {
        "colab": {
          "base_uri": "https://localhost:8080/"
        },
        "id": "U-iaEvsCjIck",
        "outputId": "10d0e406-b0c8-4639-fa55-55d0b84e55af"
      },
      "source": [
        "source_string = \"interoperability\"\n",
        "print(source_string.strip(\"yi\"))"
      ],
      "execution_count": null,
      "outputs": [
        {
          "output_type": "stream",
          "text": [
            "nteroperabilit\n"
          ],
          "name": "stdout"
        }
      ]
    },
    {
      "cell_type": "code",
      "metadata": {
        "colab": {
          "base_uri": "https://localhost:8080/"
        },
        "id": "-IHIBtQ4jbzx",
        "outputId": "1035b4c7-ddf8-409f-eaac-732bfad59944"
      },
      "source": [
        "source_string = \"interoperability\"\n",
        "print(source_string.rstrip(\"yi\"))"
      ],
      "execution_count": null,
      "outputs": [
        {
          "output_type": "stream",
          "text": [
            "interoperabilit\n"
          ],
          "name": "stdout"
        }
      ]
    },
    {
      "cell_type": "code",
      "metadata": {
        "id": "m03uOttHjk6U"
      },
      "source": [
        "#str.strip = Her iki taraf boşluğu kaldırır\n",
        "#str.rstrip = Sağ taraftaki boşluğu kaldırır\n",
        "#str.lstrip = Sol taraftaki boşluğu kaldırır"
      ],
      "execution_count": null,
      "outputs": []
    },
    {
      "cell_type": "code",
      "metadata": {
        "colab": {
          "base_uri": "https://localhost:8080/"
        },
        "id": "e9POtgi5kdXL",
        "outputId": "853ae390-52ac-4bcd-d48e-423e68cc89f9"
      },
      "source": [
        "text = \"tyou can learn almost everythin in pre-classz\"\n",
        "text = text.rstrip(\"z\").lstrip(\"t\").upper()\n",
        "print(text)"
      ],
      "execution_count": null,
      "outputs": [
        {
          "output_type": "stream",
          "text": [
            "YOU CAN LEARN ALMOST EVERYTHIN IN PRE-CLASS\n"
          ],
          "name": "stdout"
        }
      ]
    },
    {
      "cell_type": "code",
      "metadata": {
        "colab": {
          "base_uri": "https://localhost:8080/",
          "height": 128
        },
        "id": "B9fenNwJ4Yy0",
        "outputId": "138da097-1deb-4332-d848-a122a57d5acd"
      },
      "source": [
        "hours = int(input(\"How many hours do you work weekly?\"))\n",
        "rate = int(input(\"what is your houry payment?\"))\n",
        "\n",
        "if hours <= 40:\n",
        "  pay = hours * rate\n",
        "else:\n",
        "    pay = 40 * rate + (hours - 40) * rate * 1.5\n",
        "\n",
        "  print(\"Your payment is:\" , pay)"
      ],
      "execution_count": null,
      "outputs": [
        {
          "output_type": "error",
          "ename": "IndentationError",
          "evalue": "ignored",
          "traceback": [
            "\u001b[0;36m  File \u001b[0;32m\"<ipython-input-1-44da56cc4c28>\"\u001b[0;36m, line \u001b[0;32m9\u001b[0m\n\u001b[0;31m    print(\"Your payment is: \" , pay)\u001b[0m\n\u001b[0m                                    ^\u001b[0m\n\u001b[0;31mIndentationError\u001b[0m\u001b[0;31m:\u001b[0m unindent does not match any outer indentation level\n"
          ]
        }
      ]
    },
    {
      "cell_type": "code",
      "metadata": {
        "id": "GGdQL7yr5NpQ",
        "colab": {
          "base_uri": "https://localhost:8080/"
        },
        "outputId": "a5c760fa-aee4-4ac9-9003-2878a85fad99"
      },
      "source": [
        "string_1 = \"Sigarayı bıraktım\"\n",
        "new_list_1 = list(string_1) #çoklu eleman oluşturan liste\n",
        "print(new_list_1)\n",
        "\n",
        "new_list_2 = [string_1] #tekli eleman oluşturan liste\n",
        "print(new_list_2)"
      ],
      "execution_count": null,
      "outputs": [
        {
          "output_type": "stream",
          "text": [
            "['S', 'i', 'g', 'a', 'r', 'a', 'y', 'ı', ' ', 'b', 'ı', 'r', 'a', 'k', 't', 'ı', 'm']\n",
            "['Sigarayı bıraktım']\n"
          ],
          "name": "stdout"
        }
      ]
    },
    {
      "cell_type": "code",
      "metadata": {
        "colab": {
          "base_uri": "https://localhost:8080/"
        },
        "id": "WFrgmZ6pbjfy",
        "outputId": "402b79b8-166b-4141-9b58-ac69d778dd8b"
      },
      "source": [
        "warning = 'You must quit smoking!'\n",
        "\n",
        "print(len(list(warning)))"
      ],
      "execution_count": null,
      "outputs": [
        {
          "output_type": "stream",
          "text": [
            "22\n"
          ],
          "name": "stdout"
        }
      ]
    },
    {
      "cell_type": "code",
      "metadata": {
        "colab": {
          "base_uri": "https://localhost:8080/"
        },
        "id": "h3f6m3aXc-zK",
        "outputId": "01dabc0c-d417-4fe9-92df-e34e31e54541"
      },
      "source": [
        "my_list = [1, 3, 5 , 7]\n",
        "print(len(my_list * 3))"
      ],
      "execution_count": null,
      "outputs": [
        {
          "output_type": "stream",
          "text": [
            "12\n"
          ],
          "name": "stdout"
        }
      ]
    },
    {
      "cell_type": "code",
      "metadata": {
        "colab": {
          "base_uri": "https://localhost:8080/"
        },
        "id": "mOv6BbK4d8uX",
        "outputId": "bbf7cb7d-db7e-46b8-80ae-2f1c977140a2"
      },
      "source": [
        "city = ['New York', 'London', 'Istanbul', 'Seoul', 'Sydney']\n",
        "\n",
        "city_list = []\n",
        "city_list.append(city) # we have created a nested list\n",
        "\n",
        "print(city_list)\n"
      ],
      "execution_count": null,
      "outputs": [
        {
          "output_type": "stream",
          "text": [
            "[['New York', 'London', 'Istanbul', 'Seoul', 'Sydney']]\n"
          ],
          "name": "stdout"
        }
      ]
    },
    {
      "cell_type": "code",
      "metadata": {
        "colab": {
          "base_uri": "https://localhost:8080/"
        },
        "id": "hwtnyKb6elhf",
        "outputId": "47b739f2-0cd2-4c73-cca7-f6d572113410"
      },
      "source": [
        "print(len([[12, 34, 56]]))"
      ],
      "execution_count": null,
      "outputs": [
        {
          "output_type": "stream",
          "text": [
            "1\n"
          ],
          "name": "stdout"
        }
      ]
    },
    {
      "cell_type": "code",
      "metadata": {
        "colab": {
          "base_uri": "https://localhost:8080/"
        },
        "id": "3OTfcizrl0_y",
        "outputId": "8ca10032-71d2-41dd-aa6e-0e04896c8d29"
      },
      "source": [
        "a = 1\n",
        "\n",
        "print(-a )"
      ],
      "execution_count": null,
      "outputs": [
        {
          "output_type": "stream",
          "text": [
            "-1\n"
          ],
          "name": "stdout"
        }
      ]
    },
    {
      "cell_type": "code",
      "metadata": {
        "colab": {
          "base_uri": "https://localhost:8080/"
        },
        "id": "4pDhZk4RmLcG",
        "outputId": "dcb13fe0-b0db-4922-cc91-168d397f4b11"
      },
      "source": [
        "b = -11\n",
        "print(-b)"
      ],
      "execution_count": null,
      "outputs": [
        {
          "output_type": "stream",
          "text": [
            "11\n"
          ],
          "name": "stdout"
        }
      ]
    },
    {
      "cell_type": "code",
      "metadata": {
        "colab": {
          "base_uri": "https://localhost:8080/"
        },
        "id": "E9FFuihTmY1B",
        "outputId": "8daf3850-fa51-4d34-d063-1cf37e6d35f7"
      },
      "source": [
        "a = 3\n",
        "b = 4\n",
        "print(\"The sun of {} + {} is : {}\".format (a, b, a+b)) "
      ],
      "execution_count": null,
      "outputs": [
        {
          "output_type": "stream",
          "text": [
            "The sun of 3 + 4 is : 7\n"
          ],
          "name": "stdout"
        }
      ]
    },
    {
      "cell_type": "code",
      "metadata": {
        "colab": {
          "base_uri": "https://localhost:8080/"
        },
        "id": "QhbgD0mAm_83",
        "outputId": "37999777-dc25-4777-9951-7856167347b3"
      },
      "source": [
        "text = \" {:.2f}, {:.3f}, {:.4f}\" .format (3.1463, 5.367, 7.324324)\n",
        "\n",
        "print(text)"
      ],
      "execution_count": null,
      "outputs": [
        {
          "output_type": "stream",
          "text": [
            " 3.15, 5.367, 7.3243\n"
          ],
          "name": "stdout"
        }
      ]
    },
    {
      "cell_type": "code",
      "metadata": {
        "colab": {
          "base_uri": "https://localhost:8080/"
        },
        "id": "Aq7UNpRBoAIv",
        "outputId": "ceb983ab-d6d8-496b-e809-e9ed4cdd04ee"
      },
      "source": [
        "text = \" {:.2s}, {:.3s}, {:.4s}\" .format (\"a3.1463\", \"5.b367\", \"7.324324c\")\n",
        "\n",
        "print(text)"
      ],
      "execution_count": null,
      "outputs": [
        {
          "output_type": "stream",
          "text": [
            " a3, 5.b, 7.32\n"
          ],
          "name": "stdout"
        }
      ]
    },
    {
      "cell_type": "code",
      "metadata": {
        "colab": {
          "base_uri": "https://localhost:8080/"
        },
        "id": "mI8uQCwyogi7",
        "outputId": "4540a664-9b51-41f7-e4ef-3db7f4e8504c"
      },
      "source": [
        "text = \" {:.2}, {:.3}, {:.4}\" .format (\"a3.1463\", \"5.b367\", \"7.324324c\")\n",
        "\n",
        "print(text)"
      ],
      "execution_count": null,
      "outputs": [
        {
          "output_type": "stream",
          "text": [
            " a3, 5.b, 7.32\n"
          ],
          "name": "stdout"
        }
      ]
    },
    {
      "cell_type": "code",
      "metadata": {
        "colab": {
          "base_uri": "https://localhost:8080/",
          "height": 35
        },
        "id": "9AacxnYZpRff",
        "outputId": "c9ace082-d483-4ebf-bbfd-b07689ba26c1"
      },
      "source": [
        "text = \"{:>10}\".format(\"test\")\n",
        "\n",
        "text"
      ],
      "execution_count": null,
      "outputs": [
        {
          "output_type": "execute_result",
          "data": {
            "application/vnd.google.colaboratory.intrinsic+json": {
              "type": "string"
            },
            "text/plain": [
              "'      test'"
            ]
          },
          "metadata": {
            "tags": []
          },
          "execution_count": 19
        }
      ]
    },
    {
      "cell_type": "code",
      "metadata": {
        "colab": {
          "base_uri": "https://localhost:8080/",
          "height": 35
        },
        "id": "iAGXGUtjqwk_",
        "outputId": "c6d1d978-16d2-4a99-8830-91da400662e3"
      },
      "source": [
        "text = \"{:<10}\".format(\"test\")\n",
        "\n",
        "text"
      ],
      "execution_count": null,
      "outputs": [
        {
          "output_type": "execute_result",
          "data": {
            "application/vnd.google.colaboratory.intrinsic+json": {
              "type": "string"
            },
            "text/plain": [
              "'test      '"
            ]
          },
          "metadata": {
            "tags": []
          },
          "execution_count": 20
        }
      ]
    },
    {
      "cell_type": "code",
      "metadata": {
        "colab": {
          "base_uri": "https://localhost:8080/",
          "height": 35
        },
        "id": "sWef9tbprEJN",
        "outputId": "c4622b76-e328-4f02-c195-ebcb637de5ea"
      },
      "source": [
        "text = \"formatlama satırı {:>20} bu da textin sonu\" .format (\"test\")\n",
        "\n",
        "text"
      ],
      "execution_count": null,
      "outputs": [
        {
          "output_type": "execute_result",
          "data": {
            "application/vnd.google.colaboratory.intrinsic+json": {
              "type": "string"
            },
            "text/plain": [
              "'formatlama satırı                 test bu da textin sonu'"
            ]
          },
          "metadata": {
            "tags": []
          },
          "execution_count": 21
        }
      ]
    },
    {
      "cell_type": "code",
      "metadata": {
        "colab": {
          "base_uri": "https://localhost:8080/",
          "height": 35
        },
        "id": "Bt4NOUwgrc72",
        "outputId": "aafac103-c2f2-438c-c1a0-efd146433bda"
      },
      "source": [
        "text = \"bla bla {:<15} formatlama cümleciği\" .format (\"ökkeş\")\n",
        "\n",
        "text"
      ],
      "execution_count": null,
      "outputs": [
        {
          "output_type": "execute_result",
          "data": {
            "application/vnd.google.colaboratory.intrinsic+json": {
              "type": "string"
            },
            "text/plain": [
              "'bla bla ökkeş           formatlama cümleciği'"
            ]
          },
          "metadata": {
            "tags": []
          },
          "execution_count": 23
        }
      ]
    },
    {
      "cell_type": "code",
      "metadata": {
        "colab": {
          "base_uri": "https://localhost:8080/",
          "height": 35
        },
        "id": "Udhuhvoerr7k",
        "outputId": "8566e860-5b61-4294-9792-27bfeb317025"
      },
      "source": [
        "text = \"{:^20}\" .format(\"abc\")\n",
        "\n",
        "text"
      ],
      "execution_count": null,
      "outputs": [
        {
          "output_type": "execute_result",
          "data": {
            "application/vnd.google.colaboratory.intrinsic+json": {
              "type": "string"
            },
            "text/plain": [
              "'        abc         '"
            ]
          },
          "metadata": {
            "tags": []
          },
          "execution_count": 24
        }
      ]
    },
    {
      "cell_type": "code",
      "metadata": {
        "colab": {
          "base_uri": "https://localhost:8080/",
          "height": 35
        },
        "id": "Ftok5tnTsFeS",
        "outputId": "d21c8cac-afdb-4908-9765-fe4a61008b94"
      },
      "source": [
        "\"{:10.5}\" .format(\"hippopotamus\")"
      ],
      "execution_count": null,
      "outputs": [
        {
          "output_type": "execute_result",
          "data": {
            "application/vnd.google.colaboratory.intrinsic+json": {
              "type": "string"
            },
            "text/plain": [
              "'hippo     '"
            ]
          },
          "metadata": {
            "tags": []
          },
          "execution_count": 25
        }
      ]
    },
    {
      "cell_type": "code",
      "metadata": {
        "colab": {
          "base_uri": "https://localhost:8080/",
          "height": 35
        },
        "id": "qYB4iDa2sVgZ",
        "outputId": "44d545b2-4e7e-424c-b3c7-322c112022fd"
      },
      "source": [
        "\"{:>15.6}\" .format(\"hippopotamus\")"
      ],
      "execution_count": null,
      "outputs": [
        {
          "output_type": "execute_result",
          "data": {
            "application/vnd.google.colaboratory.intrinsic+json": {
              "type": "string"
            },
            "text/plain": [
              "'         hippop'"
            ]
          },
          "metadata": {
            "tags": []
          },
          "execution_count": 30
        }
      ]
    },
    {
      "cell_type": "code",
      "metadata": {
        "colab": {
          "base_uri": "https://localhost:8080/",
          "height": 35
        },
        "id": "eailTRwQsY_4",
        "outputId": "394fa334-abad-4cdc-fd89-64db70f7f2b1"
      },
      "source": [
        "\"{:+d}\".format(115)"
      ],
      "execution_count": null,
      "outputs": [
        {
          "output_type": "execute_result",
          "data": {
            "application/vnd.google.colaboratory.intrinsic+json": {
              "type": "string"
            },
            "text/plain": [
              "'+115'"
            ]
          },
          "metadata": {
            "tags": []
          },
          "execution_count": 33
        }
      ]
    },
    {
      "cell_type": "code",
      "metadata": {
        "id": "GkC6GDkmt-RK"
      },
      "source": [
        "list_1 = ['h', 'a', 'p', 'p', 'y']\n",
        "word = 'happy'\n",
        "list_2 = list(word)"
      ],
      "execution_count": null,
      "outputs": []
    },
    {
      "cell_type": "code",
      "metadata": {
        "colab": {
          "base_uri": "https://localhost:8080/"
        },
        "id": "WegYjzkl1FTM",
        "outputId": "53943e60-16ef-4bb7-f4f9-f07530f4d5cc"
      },
      "source": [
        "list_1"
      ],
      "execution_count": null,
      "outputs": [
        {
          "output_type": "execute_result",
          "data": {
            "text/plain": [
              "['h', 'a', 'p', 'p', 'y']"
            ]
          },
          "metadata": {
            "tags": []
          },
          "execution_count": 39
        }
      ]
    },
    {
      "cell_type": "code",
      "metadata": {
        "colab": {
          "base_uri": "https://localhost:8080/"
        },
        "id": "AYmjjNyi1IlS",
        "outputId": "3e7c2672-fb3b-4e05-ab12-2d720f9ad29c"
      },
      "source": [
        "list_2"
      ],
      "execution_count": null,
      "outputs": [
        {
          "output_type": "execute_result",
          "data": {
            "text/plain": [
              "['h', 'a', 'p', 'p', 'y']"
            ]
          },
          "metadata": {
            "tags": []
          },
          "execution_count": 40
        }
      ]
    },
    {
      "cell_type": "code",
      "metadata": {
        "colab": {
          "base_uri": "https://localhost:8080/"
        },
        "id": "22pr---C1Jpu",
        "outputId": "5618257b-ca54-4a69-b3fc-ca83eff21eed"
      },
      "source": [
        "list_3 = [\"happy\"]\n",
        "list_3"
      ],
      "execution_count": null,
      "outputs": [
        {
          "output_type": "execute_result",
          "data": {
            "text/plain": [
              "['happy']"
            ]
          },
          "metadata": {
            "tags": []
          },
          "execution_count": 43
        }
      ]
    },
    {
      "cell_type": "code",
      "metadata": {
        "colab": {
          "base_uri": "https://localhost:8080/"
        },
        "id": "1HHqr44p2PFe",
        "outputId": "1998a0e4-dc6a-4f53-d620-06802a7e6f8d"
      },
      "source": [
        "list_5 = list(list_3)\n",
        "list_5"
      ],
      "execution_count": null,
      "outputs": [
        {
          "output_type": "execute_result",
          "data": {
            "text/plain": [
              "['happy']"
            ]
          },
          "metadata": {
            "tags": []
          },
          "execution_count": 44
        }
      ]
    },
    {
      "cell_type": "code",
      "metadata": {
        "colab": {
          "base_uri": "https://localhost:8080/"
        },
        "id": "ij5F_vxs3Tza",
        "outputId": "f3591abb-9d98-4226-c17b-a83b09c65148"
      },
      "source": [
        "list_6 = list(list_2)\n",
        "\n",
        "list_6"
      ],
      "execution_count": null,
      "outputs": [
        {
          "output_type": "execute_result",
          "data": {
            "text/plain": [
              "['h', 'a', 'p', 'p', 'y']"
            ]
          },
          "metadata": {
            "tags": []
          },
          "execution_count": 49
        }
      ]
    },
    {
      "cell_type": "code",
      "metadata": {
        "colab": {
          "base_uri": "https://localhost:8080/"
        },
        "id": "OSHo3Cln3lSQ",
        "outputId": "fed8f0e2-69f8-4aff-dee6-50827f2d8981"
      },
      "source": [
        "string_1 = \"I quit smoking\"\n",
        "\n",
        "new_list_1 = list(string_1)\n",
        "print(new_list_1)"
      ],
      "execution_count": null,
      "outputs": [
        {
          "output_type": "stream",
          "text": [
            "['I', ' ', 'q', 'u', 'i', 't', ' ', 's', 'm', 'o', 'k', 'i', 'n', 'g']\n"
          ],
          "name": "stdout"
        }
      ]
    },
    {
      "cell_type": "code",
      "metadata": {
        "colab": {
          "base_uri": "https://localhost:8080/"
        },
        "id": "CKRstigU5Tl-",
        "outputId": "54417fc3-7874-4a35-d98b-8583ba901e55"
      },
      "source": [
        "print(len(new_list_1))"
      ],
      "execution_count": null,
      "outputs": [
        {
          "output_type": "stream",
          "text": [
            "14\n"
          ],
          "name": "stdout"
        }
      ]
    },
    {
      "cell_type": "code",
      "metadata": {
        "id": "yNBakeYq52O4"
      },
      "source": [
        "my_list = ['Joseph', 'Clarusway', 2020]\n",
        "new_list1 = list(my_list)  \n",
        "new_list2 = [my_list]"
      ],
      "execution_count": null,
      "outputs": []
    },
    {
      "cell_type": "code",
      "metadata": {
        "colab": {
          "base_uri": "https://localhost:8080/"
        },
        "id": "0pN53l1e68L-",
        "outputId": "b7057f1a-8690-48dc-bd1f-fcf29fc8966f"
      },
      "source": [
        "new_list1"
      ],
      "execution_count": null,
      "outputs": [
        {
          "output_type": "execute_result",
          "data": {
            "text/plain": [
              "['Joseph', 'Clarusway', 2020]"
            ]
          },
          "metadata": {
            "tags": []
          },
          "execution_count": 56
        }
      ]
    },
    {
      "cell_type": "code",
      "metadata": {
        "colab": {
          "base_uri": "https://localhost:8080/"
        },
        "id": "OqNgEuIT6-hm",
        "outputId": "14f00df8-92e2-471f-db09-3bbab4f4c5af"
      },
      "source": [
        "new_list2"
      ],
      "execution_count": null,
      "outputs": [
        {
          "output_type": "execute_result",
          "data": {
            "text/plain": [
              "[['Joseph', 'Clarusway', 2020]]"
            ]
          },
          "metadata": {
            "tags": []
          },
          "execution_count": 57
        }
      ]
    },
    {
      "cell_type": "code",
      "metadata": {
        "colab": {
          "base_uri": "https://localhost:8080/"
        },
        "id": "mcQcoXfd7BtN",
        "outputId": "7fe09bba-a98d-41c6-c59c-e27095476310"
      },
      "source": [
        "len(new_list2)"
      ],
      "execution_count": null,
      "outputs": [
        {
          "output_type": "execute_result",
          "data": {
            "text/plain": [
              "1"
            ]
          },
          "metadata": {
            "tags": []
          },
          "execution_count": 58
        }
      ]
    },
    {
      "cell_type": "code",
      "metadata": {
        "colab": {
          "base_uri": "https://localhost:8080/"
        },
        "id": "WHaWWxpc7Wie",
        "outputId": "f028e75c-6abd-438b-965e-7619f2084e82"
      },
      "source": [
        "x = [[1,2,3],[4,5,6]]\n",
        "len(x)"
      ],
      "execution_count": null,
      "outputs": [
        {
          "output_type": "execute_result",
          "data": {
            "text/plain": [
              "2"
            ]
          },
          "metadata": {
            "tags": []
          },
          "execution_count": 59
        }
      ]
    },
    {
      "cell_type": "code",
      "metadata": {
        "colab": {
          "base_uri": "https://localhost:8080/"
        },
        "id": "0jox-YL27fLG",
        "outputId": "6b3a3bc8-ba7e-48c8-ad36-e0f7759770eb"
      },
      "source": [
        "word = \"2020's hard\"\n",
        "list(word)"
      ],
      "execution_count": null,
      "outputs": [
        {
          "output_type": "execute_result",
          "data": {
            "text/plain": [
              "['2', '0', '2', '0', \"'\", 's', ' ', 'h', 'a', 'r', 'd']"
            ]
          },
          "metadata": {
            "tags": []
          },
          "execution_count": 60
        }
      ]
    },
    {
      "cell_type": "code",
      "metadata": {
        "colab": {
          "base_uri": "https://localhost:8080/"
        },
        "id": "P8f29vcY7x7_",
        "outputId": "5de5a8c4-d3e6-4c59-c34e-d68ba0869e83"
      },
      "source": [
        "y = [\"2020's hard\"]\n",
        "list(y)"
      ],
      "execution_count": null,
      "outputs": [
        {
          "output_type": "execute_result",
          "data": {
            "text/plain": [
              "[\"2020's hard\"]"
            ]
          },
          "metadata": {
            "tags": []
          },
          "execution_count": 63
        }
      ]
    },
    {
      "cell_type": "code",
      "metadata": {
        "id": "Xkl4YgFY8dzQ"
      },
      "source": [
        "yy = [\"ali\"]"
      ],
      "execution_count": null,
      "outputs": []
    },
    {
      "cell_type": "code",
      "metadata": {
        "colab": {
          "base_uri": "https://localhost:8080/"
        },
        "id": "1-0JTyvVERla",
        "outputId": "8402b9a1-5403-487f-b1fc-872a7ad63b56"
      },
      "source": [
        "yy[::-1]"
      ],
      "execution_count": null,
      "outputs": [
        {
          "output_type": "execute_result",
          "data": {
            "text/plain": [
              "['ali']"
            ]
          },
          "metadata": {
            "tags": []
          },
          "execution_count": 67
        }
      ]
    },
    {
      "cell_type": "code",
      "metadata": {
        "id": "P3VEwFtUEWZZ"
      },
      "source": [
        "odd_no = [[11, [15, 17], 23, 25, 27]]"
      ],
      "execution_count": null,
      "outputs": []
    },
    {
      "cell_type": "code",
      "metadata": {
        "colab": {
          "base_uri": "https://localhost:8080/"
        },
        "id": "ihkm_trNE79U",
        "outputId": "6669b16c-6fdb-4479-cd92-45e5016eb0b3"
      },
      "source": [
        "print(len([[1,2,3]][0]))"
      ],
      "execution_count": null,
      "outputs": [
        {
          "output_type": "stream",
          "text": [
            "3\n"
          ],
          "name": "stdout"
        }
      ]
    },
    {
      "cell_type": "code",
      "metadata": {
        "colab": {
          "base_uri": "https://localhost:8080/"
        },
        "id": "XnStWUCbFFLK",
        "outputId": "68b82011-a403-4ea5-afc8-c3988377c2e3"
      },
      "source": [
        "len([[]])"
      ],
      "execution_count": null,
      "outputs": [
        {
          "output_type": "execute_result",
          "data": {
            "text/plain": [
              "1"
            ]
          },
          "metadata": {
            "tags": []
          },
          "execution_count": 73
        }
      ]
    },
    {
      "cell_type": "code",
      "metadata": {
        "colab": {
          "base_uri": "https://localhost:8080/"
        },
        "id": "WwUK12YPHWx8",
        "outputId": "218dd593-ae65-45c5-d02b-37f7dd5fd041"
      },
      "source": [
        "numbers = [1, 4, 7]\n",
        "numbers.append(9)\n",
        "numbers.append(\"9\")\n",
        "print(numbers)"
      ],
      "execution_count": null,
      "outputs": [
        {
          "output_type": "stream",
          "text": [
            "[1, 4, 7, 9, '9']\n"
          ],
          "name": "stdout"
        }
      ]
    },
    {
      "cell_type": "code",
      "metadata": {
        "colab": {
          "base_uri": "https://localhost:8080/"
        },
        "id": "ibHNgh17HZBa",
        "outputId": "afa1986e-2c6b-47a0-c675-0b6291cbccb7"
      },
      "source": [
        "numbers = [1, 4, 7]\n",
        "numbers.insert(2, 9)\n",
        "numbers.append(\"9\")\n",
        "print(numbers)"
      ],
      "execution_count": null,
      "outputs": [
        {
          "output_type": "stream",
          "text": [
            "[1, 4, 9, 7, '9']\n"
          ],
          "name": "stdout"
        }
      ]
    },
    {
      "cell_type": "code",
      "metadata": {
        "colab": {
          "base_uri": "https://localhost:8080/"
        },
        "id": "-cw307dMHZOf",
        "outputId": "ba21a789-8330-4811-ccda-c4ebbcba66c4"
      },
      "source": [
        "empty_list = []\n",
        "empty_list.append(6666)\n",
        "empty_list.append(\"Multiverse\")\n",
        "empty_list.append([0])\n",
        "\n",
        "print(empty_list)"
      ],
      "execution_count": null,
      "outputs": [
        {
          "output_type": "stream",
          "text": [
            "[6666, 'Multiverse', [0]]\n"
          ],
          "name": "stdout"
        }
      ]
    },
    {
      "cell_type": "code",
      "metadata": {
        "id": "70Dm0u3LHZRS"
      },
      "source": [
        "sayılar = []"
      ],
      "execution_count": null,
      "outputs": []
    },
    {
      "cell_type": "code",
      "metadata": {
        "id": "UU5GRthRJndu"
      },
      "source": [
        ""
      ],
      "execution_count": null,
      "outputs": []
    },
    {
      "cell_type": "code",
      "metadata": {
        "colab": {
          "base_uri": "https://localhost:8080/"
        },
        "id": "nP2KC7oIJng0",
        "outputId": "db0dec55-18e3-4492-e3c7-a8a4c00f7650"
      },
      "source": [
        "sayı = [1, 4, 7, 9]\n",
        "sayı.remove(7)\n",
        "sayı"
      ],
      "execution_count": null,
      "outputs": [
        {
          "output_type": "execute_result",
          "data": {
            "text/plain": [
              "[1, 4, 9]"
            ]
          },
          "metadata": {
            "tags": []
          },
          "execution_count": 88
        }
      ]
    },
    {
      "cell_type": "code",
      "metadata": {
        "colab": {
          "base_uri": "https://localhost:8080/"
        },
        "id": "NjY2xV7zHZiG",
        "outputId": "f29a5082-077c-4fda-f102-0b1c5883e45b"
      },
      "source": [
        "sayı = [4, 1, 9, 7]\n",
        "sayı.sort()\n",
        "print(sayı)"
      ],
      "execution_count": null,
      "outputs": [
        {
          "output_type": "stream",
          "text": [
            "[1, 4, 7, 9]\n"
          ],
          "name": "stdout"
        }
      ]
    },
    {
      "cell_type": "code",
      "metadata": {
        "colab": {
          "base_uri": "https://localhost:8080/"
        },
        "id": "scP1wvBpNW7W",
        "outputId": "3d3234b0-0d6a-482c-9522-ec10b8e48b45"
      },
      "source": [
        "sayı = [-4, -25, 1, 9, 7]\n",
        "sayı.sort()\n",
        "print(sayı)"
      ],
      "execution_count": null,
      "outputs": [
        {
          "output_type": "stream",
          "text": [
            "[-25, -4, 1, 7, 9]\n"
          ],
          "name": "stdout"
        }
      ]
    },
    {
      "cell_type": "code",
      "metadata": {
        "colab": {
          "base_uri": "https://localhost:8080/"
        },
        "id": "4izOkOgGNoLM",
        "outputId": "91faf892-8068-41ad-c63d-94acffc6218b"
      },
      "source": [
        "ord(\"a\") #ASCII kod bulma"
      ],
      "execution_count": null,
      "outputs": [
        {
          "output_type": "execute_result",
          "data": {
            "text/plain": [
              "97"
            ]
          },
          "metadata": {
            "tags": []
          },
          "execution_count": 98
        }
      ]
    },
    {
      "cell_type": "code",
      "metadata": {
        "colab": {
          "base_uri": "https://localhost:8080/"
        },
        "id": "nWV4pEx7OLyO",
        "outputId": "30cabea7-afed-40db-e1c8-eb27630703de"
      },
      "source": [
        "ord(\"A\")"
      ],
      "execution_count": null,
      "outputs": [
        {
          "output_type": "execute_result",
          "data": {
            "text/plain": [
              "65"
            ]
          },
          "metadata": {
            "tags": []
          },
          "execution_count": 99
        }
      ]
    },
    {
      "cell_type": "code",
      "metadata": {
        "id": "LW3vBYdROWk_",
        "colab": {
          "base_uri": "https://localhost:8080/"
        },
        "outputId": "c5bed848-2f74-4618-8aaa-fa3cac7a693a"
      },
      "source": [
        "year = int(input(\"Enter a 4-digit year :\"))\n",
        "\n",
        "leap = ((year % 4 == 0) and (year % 100 != 0)) or (year % 400 == 0)\n",
        "\n",
        "print(leap)"
      ],
      "execution_count": null,
      "outputs": [
        {
          "output_type": "stream",
          "text": [
            "Enter a 4-digit year :2150\n",
            "False\n"
          ],
          "name": "stdout"
        }
      ]
    },
    {
      "cell_type": "code",
      "metadata": {
        "colab": {
          "base_uri": "https://localhost:8080/"
        },
        "id": "Q4ZXMPkQix4S",
        "outputId": "43d20781-e577-4b7d-9290-cf9add83fbb7"
      },
      "source": [
        "print(not \"0\" and \"write me\")"
      ],
      "execution_count": null,
      "outputs": [
        {
          "output_type": "stream",
          "text": [
            "False\n"
          ],
          "name": "stdout"
        }
      ]
    },
    {
      "cell_type": "code",
      "metadata": {
        "id": "gaBc-dGt1lj5",
        "colab": {
          "base_uri": "https://localhost:8080/"
        },
        "outputId": "0767ddc4-8058-4b20-c440-1b42447f22c8"
      },
      "source": [
        "apples = 5\n",
        "oranges = 10\n",
        "while apples<oranges:\n",
        "  print(\"executing inside of while block\", \"apples=\", apples)\n",
        "  apples += 1\n",
        "print(\"I am outside of while blocks\")"
      ],
      "execution_count": null,
      "outputs": [
        {
          "output_type": "stream",
          "text": [
            "executing inside of while block apples= 5\n",
            "executing inside of while block apples= 6\n",
            "executing inside of while block apples= 7\n",
            "executing inside of while block apples= 8\n",
            "executing inside of while block apples= 9\n",
            "I am outside of while blocks\n"
          ],
          "name": "stdout"
        }
      ]
    },
    {
      "cell_type": "code",
      "metadata": {
        "colab": {
          "base_uri": "https://localhost:8080/"
        },
        "id": "UJtaBuvn6f8z",
        "outputId": "9f9f6449-9add-4d1d-f331-a4021882d743"
      },
      "source": [
        "number = int(input(\"Enter a number\"))\n",
        "if number>10:\n",
        "  print(\"True\")\n",
        "else:\n",
        "  print(False)"
      ],
      "execution_count": null,
      "outputs": [
        {
          "output_type": "stream",
          "text": [
            "Enter a number9\n",
            "False\n"
          ],
          "name": "stdout"
        }
      ]
    },
    {
      "cell_type": "code",
      "metadata": {
        "id": "N4ppCpID7MPH"
      },
      "source": [
        "list_1 = ['one', 'four', 'nine']\n",
        "list_2 = ['@', '*-', 'False']\n",
        "list_3 = [True, False]\n",
        "list_4 = [[3], [44], [-12]]\n",
        "list_5 = [[1, 3], [44, -40], [-12, 1]]"
      ],
      "execution_count": null,
      "outputs": []
    },
    {
      "cell_type": "code",
      "metadata": {
        "id": "td94K2kpEPPi"
      },
      "source": [
        "list_1.sort()"
      ],
      "execution_count": null,
      "outputs": []
    },
    {
      "cell_type": "code",
      "metadata": {
        "colab": {
          "base_uri": "https://localhost:8080/"
        },
        "id": "Z7jCPyt9EVv7",
        "outputId": "38b7ca3d-978b-4337-d117-4e296012826a"
      },
      "source": [
        "list_1"
      ],
      "execution_count": null,
      "outputs": [
        {
          "output_type": "execute_result",
          "data": {
            "text/plain": [
              "['four', 'nine', 'one']"
            ]
          },
          "metadata": {
            "tags": []
          },
          "execution_count": 4
        }
      ]
    },
    {
      "cell_type": "code",
      "metadata": {
        "id": "ELIzJbbEEX_r"
      },
      "source": [
        "list_2.sort()"
      ],
      "execution_count": null,
      "outputs": []
    },
    {
      "cell_type": "code",
      "metadata": {
        "colab": {
          "base_uri": "https://localhost:8080/"
        },
        "id": "X9w6SuHSEeEQ",
        "outputId": "52356a81-5f79-4746-cdf4-41766f8f50b1"
      },
      "source": [
        "list_2"
      ],
      "execution_count": null,
      "outputs": [
        {
          "output_type": "execute_result",
          "data": {
            "text/plain": [
              "['*-', '@', 'False']"
            ]
          },
          "metadata": {
            "tags": []
          },
          "execution_count": 6
        }
      ]
    },
    {
      "cell_type": "code",
      "metadata": {
        "id": "CmplzxniEgJR"
      },
      "source": [
        "list_3.sort()"
      ],
      "execution_count": null,
      "outputs": []
    },
    {
      "cell_type": "code",
      "metadata": {
        "colab": {
          "base_uri": "https://localhost:8080/"
        },
        "id": "o83yk5dmEh9Y",
        "outputId": "8b6e5082-00a4-4257-d518-0e5aeba38e5b"
      },
      "source": [
        "list_3"
      ],
      "execution_count": null,
      "outputs": [
        {
          "output_type": "execute_result",
          "data": {
            "text/plain": [
              "[False, True]"
            ]
          },
          "metadata": {
            "tags": []
          },
          "execution_count": 8
        }
      ]
    },
    {
      "cell_type": "code",
      "metadata": {
        "colab": {
          "base_uri": "https://localhost:8080/"
        },
        "id": "KPPFiGKFEi3o",
        "outputId": "b6ed3dc2-5cba-4a12-b484-96548eab4f35"
      },
      "source": [
        "list_4.sort()\n",
        "list_4"
      ],
      "execution_count": null,
      "outputs": [
        {
          "output_type": "execute_result",
          "data": {
            "text/plain": [
              "[[-12], [3], [44]]"
            ]
          },
          "metadata": {
            "tags": []
          },
          "execution_count": 10
        }
      ]
    },
    {
      "cell_type": "code",
      "metadata": {
        "colab": {
          "base_uri": "https://localhost:8080/"
        },
        "id": "-fNz42eYEkjA",
        "outputId": "03bf86cc-931c-4d81-cfaf-789291b18002"
      },
      "source": [
        "list_5.sort()\n",
        "list_5"
      ],
      "execution_count": null,
      "outputs": [
        {
          "output_type": "execute_result",
          "data": {
            "text/plain": [
              "[[-12, 1], [1, 3], [44, -40]]"
            ]
          },
          "metadata": {
            "tags": []
          },
          "execution_count": 11
        }
      ]
    },
    {
      "cell_type": "code",
      "metadata": {
        "colab": {
          "base_uri": "https://localhost:8080/"
        },
        "id": "FT8CUzC3G6PB",
        "outputId": "7549385e-5dad-40a1-82d1-b726a6e9080f"
      },
      "source": [
        "[1,3,6,9][2]"
      ],
      "execution_count": null,
      "outputs": [
        {
          "output_type": "execute_result",
          "data": {
            "text/plain": [
              "6"
            ]
          },
          "metadata": {
            "tags": []
          },
          "execution_count": 19
        }
      ]
    },
    {
      "cell_type": "code",
      "metadata": {
        "colab": {
          "base_uri": "https://localhost:8080/"
        },
        "id": "9Hn-uYOPH68G",
        "outputId": "0ad68eb5-2fdb-4de5-a633-28a83d5784e0"
      },
      "source": [
        "sayılar = [1,3,6,9]\n",
        "sayılar[2]"
      ],
      "execution_count": null,
      "outputs": [
        {
          "output_type": "execute_result",
          "data": {
            "text/plain": [
              "6"
            ]
          },
          "metadata": {
            "tags": []
          },
          "execution_count": 20
        }
      ]
    },
    {
      "cell_type": "code",
      "metadata": {
        "id": "1XJSgH1TIEtn"
      },
      "source": [
        "new = [\"h\", \"a\", 1, [\"p\", 2], True]"
      ],
      "execution_count": null,
      "outputs": []
    },
    {
      "cell_type": "code",
      "metadata": {
        "colab": {
          "base_uri": "https://localhost:8080/"
        },
        "id": "nMGHCwixIe8T",
        "outputId": "cf181789-5352-448f-9ebc-830a0f99ca74"
      },
      "source": [
        "new[3]"
      ],
      "execution_count": null,
      "outputs": [
        {
          "output_type": "execute_result",
          "data": {
            "text/plain": [
              "['p', 2]"
            ]
          },
          "metadata": {
            "tags": []
          },
          "execution_count": 9
        }
      ]
    },
    {
      "cell_type": "code",
      "metadata": {
        "colab": {
          "base_uri": "https://localhost:8080/"
        },
        "id": "cjUEk7wwzGQn",
        "outputId": "a8666d95-474a-4b2a-e1c0-b148da950886"
      },
      "source": [
        "print(type(new[4]))"
      ],
      "execution_count": null,
      "outputs": [
        {
          "output_type": "stream",
          "text": [
            "<class 'bool'>\n"
          ],
          "name": "stdout"
        }
      ]
    },
    {
      "cell_type": "code",
      "metadata": {
        "colab": {
          "base_uri": "https://localhost:8080/"
        },
        "id": "V3qgOVJuIvcy",
        "outputId": "63be0d57-ebce-4c5a-f42b-ab3369b25b67"
      },
      "source": [
        "Ütype(new[2])"
      ],
      "execution_count": null,
      "outputs": [
        {
          "output_type": "execute_result",
          "data": {
            "text/plain": [
              "int"
            ]
          },
          "metadata": {
            "tags": []
          },
          "execution_count": 25
        }
      ]
    },
    {
      "cell_type": "code",
      "metadata": {
        "colab": {
          "base_uri": "https://localhost:8080/"
        },
        "id": "JPdmPzrwIyCk",
        "outputId": "4d5c08ab-11cc-4569-f301-b340422841f8"
      },
      "source": [
        "type(new[3])"
      ],
      "execution_count": null,
      "outputs": [
        {
          "output_type": "execute_result",
          "data": {
            "text/plain": [
              "list"
            ]
          },
          "metadata": {
            "tags": []
          },
          "execution_count": 26
        }
      ]
    },
    {
      "cell_type": "code",
      "metadata": {
        "colab": {
          "base_uri": "https://localhost:8080/"
        },
        "id": "TeuojsY3I2oJ",
        "outputId": "cba9b8bb-9827-40e0-f138-6f291d38b1cd"
      },
      "source": [
        "city = [\"Erzurum\", \"Sivas\", \"Erzincan\", \"Ardahan\", \"Ağrı\"]\n",
        "\n",
        "city_list = []\n",
        "city_list.append(city)\n",
        "\n",
        "print(city_list[0][2])"
      ],
      "execution_count": null,
      "outputs": [
        {
          "output_type": "stream",
          "text": [
            "Erzincan\n"
          ],
          "name": "stdout"
        }
      ]
    },
    {
      "cell_type": "code",
      "metadata": {
        "colab": {
          "base_uri": "https://localhost:8080/"
        },
        "id": "wRwl4xKzJsUF",
        "outputId": "0af0781c-c588-4ef0-b33e-1e4f4018f867"
      },
      "source": [
        "odd = [1, 2, 3, 4, 5, 6, 7, 8, 9, 10]\n",
        "odd[::2]"
      ],
      "execution_count": null,
      "outputs": [
        {
          "output_type": "execute_result",
          "data": {
            "text/plain": [
              "[1, 3, 5, 7, 9]"
            ]
          },
          "metadata": {
            "tags": []
          },
          "execution_count": 37
        }
      ]
    },
    {
      "cell_type": "code",
      "metadata": {
        "colab": {
          "base_uri": "https://localhost:8080/"
        },
        "id": "mT5bo782Qfnl",
        "outputId": "56dcea35-5983-46be-9b2e-c12dac818afe"
      },
      "source": [
        "range(11) "
      ],
      "execution_count": null,
      "outputs": [
        {
          "output_type": "execute_result",
          "data": {
            "text/plain": [
              "range(0, 11)"
            ]
          },
          "metadata": {
            "tags": []
          },
          "execution_count": 39
        }
      ]
    },
    {
      "cell_type": "code",
      "metadata": {
        "id": "TD3iufskQsbE"
      },
      "source": [
        "odd_number = list(range(11))"
      ],
      "execution_count": null,
      "outputs": []
    },
    {
      "cell_type": "code",
      "metadata": {
        "colab": {
          "base_uri": "https://localhost:8080/"
        },
        "id": "tVxf-hreQvNU",
        "outputId": "5952f264-c2cb-476c-dbed-53739ba89c36"
      },
      "source": [
        "odd_number"
      ],
      "execution_count": null,
      "outputs": [
        {
          "output_type": "execute_result",
          "data": {
            "text/plain": [
              "[0, 1, 2, 3, 4, 5, 6, 7, 8, 9, 10]"
            ]
          },
          "metadata": {
            "tags": []
          },
          "execution_count": 41
        }
      ]
    },
    {
      "cell_type": "code",
      "metadata": {
        "colab": {
          "base_uri": "https://localhost:8080/"
        },
        "id": "IZKOunSzQw9S",
        "outputId": "f66d854d-455e-4e21-c936-8921fb2d3671"
      },
      "source": [
        "odd_number[1::2]"
      ],
      "execution_count": null,
      "outputs": [
        {
          "output_type": "execute_result",
          "data": {
            "text/plain": [
              "[1, 3, 5, 7, 9]"
            ]
          },
          "metadata": {
            "tags": []
          },
          "execution_count": 47
        }
      ]
    },
    {
      "cell_type": "code",
      "metadata": {
        "id": "n3Di8qXiQ6cy"
      },
      "source": [
        "mix_list = [1, [1, \"one\", 2, \"two\", 3, \"three\"], 4]"
      ],
      "execution_count": null,
      "outputs": []
    },
    {
      "cell_type": "code",
      "metadata": {
        "colab": {
          "base_uri": "https://localhost:8080/"
        },
        "id": "8bd9MhicSYQt",
        "outputId": "f830d16c-b3df-4664-fbe7-89429fbcce0a"
      },
      "source": [
        "mix_list[1][0:5:2]"
      ],
      "execution_count": null,
      "outputs": [
        {
          "output_type": "execute_result",
          "data": {
            "text/plain": [
              "[1, 2, 3]"
            ]
          },
          "metadata": {
            "tags": []
          },
          "execution_count": 59
        }
      ]
    },
    {
      "cell_type": "code",
      "metadata": {
        "colab": {
          "base_uri": "https://localhost:8080/"
        },
        "id": "vgTxqvYoSfzh",
        "outputId": "efe7f284-5e9d-4b5e-820e-b1b6dbbfeb04"
      },
      "source": [
        "x = ([4,6,8],)\n",
        "print(type(x))"
      ],
      "execution_count": null,
      "outputs": [
        {
          "output_type": "stream",
          "text": [
            "<class 'tuple'>\n"
          ],
          "name": "stdout"
        }
      ]
    },
    {
      "cell_type": "code",
      "metadata": {
        "colab": {
          "base_uri": "https://localhost:8080/"
        },
        "id": "KRZNM9zUdmKv",
        "outputId": "2d188de5-78d1-4d1e-b21a-9180d385de26"
      },
      "source": [
        "x = (4,3j,)\n",
        "print(type(x))"
      ],
      "execution_count": null,
      "outputs": [
        {
          "output_type": "stream",
          "text": [
            "<class 'tuple'>\n"
          ],
          "name": "stdout"
        }
      ]
    },
    {
      "cell_type": "code",
      "metadata": {
        "id": "lL8N5pBPeQcA"
      },
      "source": [
        "a = tuple()"
      ],
      "execution_count": null,
      "outputs": []
    },
    {
      "cell_type": "code",
      "metadata": {
        "colab": {
          "base_uri": "https://localhost:8080/"
        },
        "id": "BTmBb92eigiU",
        "outputId": "0cdfd120-ae38-42d2-e945-7324cf8ace48"
      },
      "source": [
        "type(a)"
      ],
      "execution_count": null,
      "outputs": [
        {
          "output_type": "execute_result",
          "data": {
            "text/plain": [
              "tuple"
            ]
          },
          "metadata": {
            "tags": []
          },
          "execution_count": 65
        }
      ]
    },
    {
      "cell_type": "code",
      "metadata": {
        "colab": {
          "base_uri": "https://localhost:8080/"
        },
        "id": "YbI879CSig0i",
        "outputId": "fead71c9-62f5-4071-c0bd-7261f130876e"
      },
      "source": [
        "star = (\"Solar\", 1, [22, \"22\"])\n",
        "type(star)"
      ],
      "execution_count": null,
      "outputs": [
        {
          "output_type": "execute_result",
          "data": {
            "text/plain": [
              "tuple"
            ]
          },
          "metadata": {
            "tags": []
          },
          "execution_count": 66
        }
      ]
    },
    {
      "cell_type": "code",
      "metadata": {
        "colab": {
          "base_uri": "https://localhost:8080/"
        },
        "id": "N1wF-gjKig6d",
        "outputId": "fb304c73-5f23-410f-b6b5-dcef5448020f"
      },
      "source": [
        "x = 1,2,3\n",
        "type(x)"
      ],
      "execution_count": null,
      "outputs": [
        {
          "output_type": "execute_result",
          "data": {
            "text/plain": [
              "tuple"
            ]
          },
          "metadata": {
            "tags": []
          },
          "execution_count": 67
        }
      ]
    },
    {
      "cell_type": "code",
      "metadata": {
        "colab": {
          "base_uri": "https://localhost:8080/"
        },
        "id": "i6RwT1FOig95",
        "outputId": "9c05341e-115d-4a11-8c58-90793c3e4588"
      },
      "source": [
        "y = 1,\n",
        "type(y)"
      ],
      "execution_count": null,
      "outputs": [
        {
          "output_type": "execute_result",
          "data": {
            "text/plain": [
              "tuple"
            ]
          },
          "metadata": {
            "tags": []
          },
          "execution_count": 68
        }
      ]
    },
    {
      "cell_type": "code",
      "metadata": {
        "colab": {
          "base_uri": "https://localhost:8080/"
        },
        "id": "gA0tftYfihBE",
        "outputId": "f9ac4b50-7a84-4d37-9825-2d6712a65b4f"
      },
      "source": [
        "z = (\"2\",)\n",
        "type(z)"
      ],
      "execution_count": null,
      "outputs": [
        {
          "output_type": "execute_result",
          "data": {
            "text/plain": [
              "tuple"
            ]
          },
          "metadata": {
            "tags": []
          },
          "execution_count": 69
        }
      ]
    },
    {
      "cell_type": "code",
      "metadata": {
        "colab": {
          "base_uri": "https://localhost:8080/"
        },
        "id": "kJjCw2k_ihFs",
        "outputId": "590f7eaa-e4f6-4af0-a13a-e6afb5077a27"
      },
      "source": [
        "city = [\"Los-angeles\", \"Beirut\", \"Tokyo\"]\n",
        "city[0] = True\n",
        "city"
      ],
      "execution_count": null,
      "outputs": [
        {
          "output_type": "execute_result",
          "data": {
            "text/plain": [
              "[True, 'Beirut', 'Tokyo']"
            ]
          },
          "metadata": {
            "tags": []
          },
          "execution_count": 71
        }
      ]
    },
    {
      "cell_type": "code",
      "metadata": {
        "id": "BtKg0Wa1jaNL"
      },
      "source": [
        "city[1:] = \"İstanbul\", \"Seoul\""
      ],
      "execution_count": null,
      "outputs": []
    },
    {
      "cell_type": "code",
      "metadata": {
        "colab": {
          "base_uri": "https://localhost:8080/"
        },
        "id": "HrBHKaYwjaRB",
        "outputId": "4c6c8150-f195-4d7f-cb90-8fcbf12821f7"
      },
      "source": [
        "city"
      ],
      "execution_count": null,
      "outputs": [
        {
          "output_type": "execute_result",
          "data": {
            "text/plain": [
              "[True, 'İstanbul', 'Seoul']"
            ]
          },
          "metadata": {
            "tags": []
          },
          "execution_count": 73
        }
      ]
    },
    {
      "cell_type": "code",
      "metadata": {
        "colab": {
          "base_uri": "https://localhost:8080/"
        },
        "id": "ier_tcWHjaVU",
        "outputId": "36d67c23-c9d9-4324-92fe-bf823e32bc8e"
      },
      "source": [
        "city[1:] = [\"1\", \"2\", \"3\", 4, False]\n",
        "city"
      ],
      "execution_count": null,
      "outputs": [
        {
          "output_type": "execute_result",
          "data": {
            "text/plain": [
              "[True, '1', '2', '3', 4, False]"
            ]
          },
          "metadata": {
            "tags": []
          },
          "execution_count": 74
        }
      ]
    },
    {
      "cell_type": "code",
      "metadata": {
        "colab": {
          "base_uri": "https://localhost:8080/"
        },
        "id": "6t9tdjz8jaY2",
        "outputId": "82cf8849-d565-4cb7-8bfd-4b926530d908"
      },
      "source": [
        "city[1:] = \"Bangladeş\"\n",
        "city"
      ],
      "execution_count": null,
      "outputs": [
        {
          "output_type": "execute_result",
          "data": {
            "text/plain": [
              "[True, 'B', 'a', 'n', 'g', 'l', 'a', 'd', 'e', 'ş']"
            ]
          },
          "metadata": {
            "tags": []
          },
          "execution_count": 75
        }
      ]
    },
    {
      "cell_type": "code",
      "metadata": {
        "colab": {
          "base_uri": "https://localhost:8080/"
        },
        "id": "56joGH7Rjacc",
        "outputId": "133ef4f8-d678-49be-ebaa-0d503708ad52"
      },
      "source": [
        "city[1:] = \"Roma\"\n",
        "city"
      ],
      "execution_count": null,
      "outputs": [
        {
          "output_type": "execute_result",
          "data": {
            "text/plain": [
              "[True, 'R', 'o', 'm', 'a']"
            ]
          },
          "metadata": {
            "tags": []
          },
          "execution_count": 76
        }
      ]
    },
    {
      "cell_type": "code",
      "metadata": {
        "colab": {
          "base_uri": "https://localhost:8080/"
        },
        "id": "hB1vu4NBjahh",
        "outputId": "d5340908-109f-4f87-c8a7-49ae84b59a06"
      },
      "source": [
        "list(range(11))"
      ],
      "execution_count": null,
      "outputs": [
        {
          "output_type": "execute_result",
          "data": {
            "text/plain": [
              "[0, 1, 2, 3, 4, 5, 6, 7, 8, 9, 10]"
            ]
          },
          "metadata": {
            "tags": []
          },
          "execution_count": 82
        }
      ]
    },
    {
      "cell_type": "code",
      "metadata": {
        "id": "ZM0T3sSTihJI"
      },
      "source": [
        "x = tuple(range(1,11))"
      ],
      "execution_count": null,
      "outputs": []
    },
    {
      "cell_type": "code",
      "metadata": {
        "colab": {
          "base_uri": "https://localhost:8080/"
        },
        "id": "YzFfsYp8i3-s",
        "outputId": "d2e47645-1dc9-420c-8b5e-303cfcee56cc"
      },
      "source": [
        "print(x, type(x), sep=\"\\n\")"
      ],
      "execution_count": null,
      "outputs": [
        {
          "output_type": "stream",
          "text": [
            "(1, 2, 3, 4, 5, 6, 7, 8, 9, 10)\n",
            "<class 'tuple'>\n"
          ],
          "name": "stdout"
        }
      ]
    },
    {
      "cell_type": "code",
      "metadata": {
        "colab": {
          "base_uri": "https://localhost:8080/",
          "height": 262
        },
        "id": "3pe8rqKei4KD",
        "outputId": "d9e37b7d-43b8-4c04-b91e-0b32b656cd98"
      },
      "source": [
        "even_no = (0,2,4)\n",
        "print(even_no[0])\n",
        "print(even_no[1])\n",
        "print(even_no[2])\n",
        "print(even_no[3])"
      ],
      "execution_count": null,
      "outputs": [
        {
          "output_type": "stream",
          "text": [
            "0\n",
            "2\n",
            "4\n"
          ],
          "name": "stdout"
        },
        {
          "output_type": "error",
          "ename": "IndexError",
          "evalue": "ignored",
          "traceback": [
            "\u001b[0;31m---------------------------------------------------------------------------\u001b[0m",
            "\u001b[0;31mIndexError\u001b[0m                                Traceback (most recent call last)",
            "\u001b[0;32m<ipython-input-86-e09f67c24421>\u001b[0m in \u001b[0;36m<module>\u001b[0;34m()\u001b[0m\n\u001b[1;32m      3\u001b[0m \u001b[0mprint\u001b[0m\u001b[0;34m(\u001b[0m\u001b[0meven_no\u001b[0m\u001b[0;34m[\u001b[0m\u001b[0;36m1\u001b[0m\u001b[0;34m]\u001b[0m\u001b[0;34m)\u001b[0m\u001b[0;34m\u001b[0m\u001b[0;34m\u001b[0m\u001b[0m\n\u001b[1;32m      4\u001b[0m \u001b[0mprint\u001b[0m\u001b[0;34m(\u001b[0m\u001b[0meven_no\u001b[0m\u001b[0;34m[\u001b[0m\u001b[0;36m2\u001b[0m\u001b[0;34m]\u001b[0m\u001b[0;34m)\u001b[0m\u001b[0;34m\u001b[0m\u001b[0;34m\u001b[0m\u001b[0m\n\u001b[0;32m----> 5\u001b[0;31m \u001b[0mprint\u001b[0m\u001b[0;34m(\u001b[0m\u001b[0meven_no\u001b[0m\u001b[0;34m[\u001b[0m\u001b[0;36m3\u001b[0m\u001b[0;34m]\u001b[0m\u001b[0;34m)\u001b[0m\u001b[0;34m\u001b[0m\u001b[0;34m\u001b[0m\u001b[0m\n\u001b[0m",
            "\u001b[0;31mIndexError\u001b[0m: tuple index out of range"
          ]
        }
      ]
    },
    {
      "cell_type": "code",
      "metadata": {
        "id": "fHi5Aj23i4NV"
      },
      "source": [
        "mix_tuple = (\"11\", 11, [2, \"two\", (\"six\", 6)], (5, \"fair\"))"
      ],
      "execution_count": null,
      "outputs": []
    },
    {
      "cell_type": "code",
      "metadata": {
        "colab": {
          "base_uri": "https://localhost:8080/"
        },
        "id": "vpcZ095hovvb",
        "outputId": "3f9af5b2-edf3-4dfe-846c-b01a51092e02"
      },
      "source": [
        "mix_tuple[2]"
      ],
      "execution_count": null,
      "outputs": [
        {
          "output_type": "execute_result",
          "data": {
            "text/plain": [
              "[2, 'two', ('six', 6)]"
            ]
          },
          "metadata": {
            "tags": []
          },
          "execution_count": 97
        }
      ]
    },
    {
      "cell_type": "code",
      "metadata": {
        "colab": {
          "base_uri": "https://localhost:8080/"
        },
        "id": "5hT8yWOwo_Aw",
        "outputId": "225a441d-4b0b-4f95-bff5-d6fefd04d783"
      },
      "source": [
        "mix_tuple[2][2]"
      ],
      "execution_count": null,
      "outputs": [
        {
          "output_type": "execute_result",
          "data": {
            "text/plain": [
              "('six', 6)"
            ]
          },
          "metadata": {
            "tags": []
          },
          "execution_count": 98
        }
      ]
    },
    {
      "cell_type": "code",
      "metadata": {
        "colab": {
          "base_uri": "https://localhost:8080/",
          "height": 35
        },
        "id": "j7JzzwR5pBNc",
        "outputId": "c5172f9e-d416-4e97-ddb7-47c42ef343a1"
      },
      "source": [
        "mix_tuple[2][2][0]"
      ],
      "execution_count": null,
      "outputs": [
        {
          "output_type": "execute_result",
          "data": {
            "application/vnd.google.colaboratory.intrinsic+json": {
              "type": "string"
            },
            "text/plain": [
              "'six'"
            ]
          },
          "metadata": {
            "tags": []
          },
          "execution_count": 99
        }
      ]
    },
    {
      "cell_type": "code",
      "metadata": {
        "id": "06pYFIUFpDtP"
      },
      "source": [
        "mix_tuple[2].append(\"çaktırma\")"
      ],
      "execution_count": null,
      "outputs": []
    },
    {
      "cell_type": "code",
      "metadata": {
        "colab": {
          "base_uri": "https://localhost:8080/"
        },
        "id": "nGBig2z-pNWg",
        "outputId": "33b5ea2c-0704-49ab-bfbf-c1cccfe9837b"
      },
      "source": [
        "mix_tuple"
      ],
      "execution_count": null,
      "outputs": [
        {
          "output_type": "execute_result",
          "data": {
            "text/plain": [
              "('11', 11, [2, 'two', ('six', 6), 'çaktırma'], (5, 'fair'))"
            ]
          },
          "metadata": {
            "tags": []
          },
          "execution_count": 101
        }
      ]
    },
    {
      "cell_type": "code",
      "metadata": {
        "colab": {
          "base_uri": "https://localhost:8080/"
        },
        "id": "-tJL8YBvpPou",
        "outputId": "9048b8a0-6b27-43b6-fc08-3be12cc01e26"
      },
      "source": [
        "mix_tuple[-2]"
      ],
      "execution_count": null,
      "outputs": [
        {
          "output_type": "execute_result",
          "data": {
            "text/plain": [
              "[2, 'two', ('six', 6), 'çaktırma']"
            ]
          },
          "metadata": {
            "tags": []
          },
          "execution_count": 102
        }
      ]
    },
    {
      "cell_type": "code",
      "metadata": {
        "colab": {
          "base_uri": "https://localhost:8080/"
        },
        "id": "WaQPUpyMp-iL",
        "outputId": "9f6725d8-b592-4de1-fb07-5832f85e7ec0"
      },
      "source": [
        "mix_tuple[-2][-2:-1:1]"
      ],
      "execution_count": null,
      "outputs": [
        {
          "output_type": "execute_result",
          "data": {
            "text/plain": [
              "[('six', 6)]"
            ]
          },
          "metadata": {
            "tags": []
          },
          "execution_count": 106
        }
      ]
    },
    {
      "cell_type": "code",
      "metadata": {
        "id": "_8rd-DXsqGU3",
        "colab": {
          "base_uri": "https://localhost:8080/"
        },
        "outputId": "537229ce-f177-4486-da16-09ffb5133315"
      },
      "source": [
        "print(\"abcd\"[2:])"
      ],
      "execution_count": null,
      "outputs": [
        {
          "output_type": "stream",
          "text": [
            "cd\n"
          ],
          "name": "stdout"
        }
      ]
    },
    {
      "cell_type": "code",
      "metadata": {
        "colab": {
          "base_uri": "https://localhost:8080/"
        },
        "id": "L1aDIN-tYwzP",
        "outputId": "006c9a3e-91bb-4e5c-babb-fee169550d71"
      },
      "source": [
        "example = \"snow world\"\n",
        "print(\"%s\" % example[4:7])"
      ],
      "execution_count": null,
      "outputs": [
        {
          "output_type": "stream",
          "text": [
            " wo\n"
          ],
          "name": "stdout"
        }
      ]
    },
    {
      "cell_type": "code",
      "metadata": {
        "colab": {
          "base_uri": "https://localhost:8080/"
        },
        "id": "nwuHMaFBY1DN",
        "outputId": "8162b802-713c-4357-afb4-6a372eba2238"
      },
      "source": [
        "print(chr(ord('b')+1))"
      ],
      "execution_count": null,
      "outputs": [
        {
          "output_type": "stream",
          "text": [
            "c\n"
          ],
          "name": "stdout"
        }
      ]
    },
    {
      "cell_type": "code",
      "metadata": {
        "colab": {
          "base_uri": "https://localhost:8080/"
        },
        "id": "-961qQgYZlH-",
        "outputId": "21c89bd7-f9f3-4953-da76-b9383c9e15af"
      },
      "source": [
        "print(format(\"Welcome\", \"10s\"), end = '#')\n",
        "print(format(111, \"4d\"), end = '#')\n",
        "print(format(924.656, \"3.2f\"))"
      ],
      "execution_count": null,
      "outputs": [
        {
          "output_type": "stream",
          "text": [
            "Welcome   # 111#924.66\n"
          ],
          "name": "stdout"
        }
      ]
    },
    {
      "cell_type": "code",
      "metadata": {
        "colab": {
          "base_uri": "https://localhost:8080/"
        },
        "id": "JgY6M414ZqA0",
        "outputId": "b01eb43b-cf82-4d4c-ae2a-ab7cf7bc8625"
      },
      "source": [
        "print(\"xyyzxyzxzxyy\".count('yy', 2))"
      ],
      "execution_count": null,
      "outputs": [
        {
          "output_type": "stream",
          "text": [
            "1\n"
          ],
          "name": "stdout"
        }
      ]
    },
    {
      "cell_type": "code",
      "metadata": {
        "colab": {
          "base_uri": "https://localhost:8080/"
        },
        "id": "MGGtVI27Zwop",
        "outputId": "580b08be-de6b-452f-9166-d1717e0ed685"
      },
      "source": [
        "print(\"xyyzxyzxzxyy\".endswith(\"xyy\", 0, 2))"
      ],
      "execution_count": null,
      "outputs": [
        {
          "output_type": "stream",
          "text": [
            "False\n"
          ],
          "name": "stdout"
        }
      ]
    },
    {
      "cell_type": "code",
      "metadata": {
        "colab": {
          "base_uri": "https://localhost:8080/"
        },
        "id": "NFfIZEHGI4d_",
        "outputId": "f4a998db-1716-4e4d-f202-d05843f5f9ef"
      },
      "source": [
        "dict_by_dict = dict(animal='dog', planet='neptun', number=40, pi=3.14, is_good=True)\n",
        "print(dict_by_dict)"
      ],
      "execution_count": null,
      "outputs": [
        {
          "output_type": "stream",
          "text": [
            "{'animal': 'dog', 'planet': 'neptun', 'number': 40, 'pi': 3.14, 'is_good': True}\n"
          ],
          "name": "stdout"
        }
      ]
    },
    {
      "cell_type": "code",
      "metadata": {
        "colab": {
          "base_uri": "https://localhost:8080/"
        },
        "id": "b7BjJ9yyJArW",
        "outputId": "9b771ac8-687f-4528-c7cb-f1f9853c36ac"
      },
      "source": [
        "grocer1 = {\"fruit\" : \"apple\", \"drink\" : \"water\"}\n",
        "grocer2 = dict(fruit = \"apple\", drink = \"water\")\n",
        "print(grocer1)\n",
        "print(grocer2)"
      ],
      "execution_count": null,
      "outputs": [
        {
          "output_type": "stream",
          "text": [
            "{'fruit': 'apple', 'drink': 'water'}\n",
            "{'fruit': 'apple', 'drink': 'water'}\n"
          ],
          "name": "stdout"
        }
      ]
    },
    {
      "cell_type": "code",
      "metadata": {
        "colab": {
          "base_uri": "https://localhost:8080/"
        },
        "id": "C0z-RbzlJyFB",
        "outputId": "ffabeae0-d93c-4700-c5b8-0bade24e19b5"
      },
      "source": [
        "first_dict = {1 : \"one\", \"two\" : 2, False : [1, 2, 3]}\n",
        "print(first_dict)"
      ],
      "execution_count": null,
      "outputs": [
        {
          "output_type": "stream",
          "text": [
            "{1: 'one', 'two': 2, False: [1, 2, 3]}\n"
          ],
          "name": "stdout"
        }
      ]
    },
    {
      "cell_type": "code",
      "metadata": {
        "id": "ma_iIxngKkxp"
      },
      "source": [
        "second_dict = {[1, 2, 3] : \"liste\", \"clarusway\" : \"the best\"} #key liste olduğu için çıktı vermez"
      ],
      "execution_count": null,
      "outputs": []
    },
    {
      "cell_type": "code",
      "metadata": {
        "colab": {
          "base_uri": "https://localhost:8080/"
        },
        "id": "5QG5qAl7LFlh",
        "outputId": "8bb9bb8b-d783-4fe8-9a0b-39ebef35b961"
      },
      "source": [
        "third_dict = {(1,2,3) : \"liste\", \"clarusway\" : \"the best\"} # key tuple, value string olduğu için çıktı verir.\n",
        "third_dict"
      ],
      "execution_count": null,
      "outputs": [
        {
          "output_type": "execute_result",
          "data": {
            "text/plain": [
              "{(1, 2, 3): 'liste', 'clarusway': 'the best'}"
            ]
          },
          "metadata": {
            "tags": []
          },
          "execution_count": 7
        }
      ]
    },
    {
      "cell_type": "code",
      "metadata": {
        "colab": {
          "base_uri": "https://localhost:8080/",
          "height": 181
        },
        "id": "P2wI-XjwLSEu",
        "outputId": "1139edcb-2305-413d-e4ea-eba0fcf0780d"
      },
      "source": [
        "fourt_dict = {{1 : \"bir\", 2 : \"iki\"} : \"sözlük\"} #key dictionary olduğu zamanda kabul etmez\n",
        "fourt_dict"
      ],
      "execution_count": null,
      "outputs": [
        {
          "output_type": "error",
          "ename": "TypeError",
          "evalue": "ignored",
          "traceback": [
            "\u001b[0;31m---------------------------------------------------------------------------\u001b[0m",
            "\u001b[0;31mTypeError\u001b[0m                                 Traceback (most recent call last)",
            "\u001b[0;32m<ipython-input-8-abd6194f1cce>\u001b[0m in \u001b[0;36m<module>\u001b[0;34m()\u001b[0m\n\u001b[0;32m----> 1\u001b[0;31m \u001b[0mfourt_dict\u001b[0m \u001b[0;34m=\u001b[0m \u001b[0;34m{\u001b[0m\u001b[0;34m{\u001b[0m\u001b[0;36m1\u001b[0m \u001b[0;34m:\u001b[0m \u001b[0;34m\"bir\"\u001b[0m\u001b[0;34m,\u001b[0m \u001b[0;36m2\u001b[0m \u001b[0;34m:\u001b[0m \u001b[0;34m\"iki\"\u001b[0m\u001b[0;34m}\u001b[0m \u001b[0;34m:\u001b[0m \u001b[0;34m\"sözlük\"\u001b[0m\u001b[0;34m}\u001b[0m\u001b[0;34m\u001b[0m\u001b[0;34m\u001b[0m\u001b[0m\n\u001b[0m\u001b[1;32m      2\u001b[0m \u001b[0mfourt_dict\u001b[0m\u001b[0;34m\u001b[0m\u001b[0;34m\u001b[0m\u001b[0m\n",
            "\u001b[0;31mTypeError\u001b[0m: unhashable type: 'dict'"
          ]
        }
      ]
    },
    {
      "cell_type": "code",
      "metadata": {
        "colab": {
          "base_uri": "https://localhost:8080/"
        },
        "id": "F_tWV2WALbdk",
        "outputId": "7446c297-5a46-43ce-a947-2306056094c4"
      },
      "source": [
        "fifth_dict = {\"erkekler\" : {\"mert\" : 24, \"burak\" : 31, \"engin\" : 40, \"ömer\" : 11, \"nevzat\" : 72},\\\n",
        "              \"bayanlar\" : {\"burcu\" : 28, \"kübra\" : 34, \"fatma\" : 57, \"yazel\" : 1}}\n",
        "fifth_dict "
      ],
      "execution_count": null,
      "outputs": [
        {
          "output_type": "execute_result",
          "data": {
            "text/plain": [
              "{'bayanlar': {'burcu': 28, 'fatma': 57, 'kübra': 34, 'yazel': 1},\n",
              " 'erkekler': {'burak': 31, 'engin': 40, 'mert': 24, 'nevzat': 72, 'ömer': 11}}"
            ]
          },
          "metadata": {
            "tags": []
          },
          "execution_count": 11
        }
      ]
    },
    {
      "cell_type": "code",
      "metadata": {
        "colab": {
          "base_uri": "https://localhost:8080/"
        },
        "id": "3AcKgELPLbjE",
        "outputId": "fb206c37-b390-40f4-fb0b-411ae35b721c"
      },
      "source": [
        "family = {\"father\" : \"nevzat\", \n",
        "          \"mother\" : \"fatma\", \n",
        "          \"daughter\" : \"kübra\"}\n",
        "family"
      ],
      "execution_count": null,
      "outputs": [
        {
          "output_type": "execute_result",
          "data": {
            "text/plain": [
              "{'daughter': 'kübra', 'father': 'nevzat', 'mother': 'fatma'}"
            ]
          },
          "metadata": {
            "tags": []
          },
          "execution_count": 12
        }
      ]
    },
    {
      "cell_type": "code",
      "metadata": {
        "colab": {
          "base_uri": "https://localhost:8080/"
        },
        "id": "sTRjz8PILbod",
        "outputId": "136a5da7-8724-49cd-8f35-9929e4372877"
      },
      "source": [
        "family[\"son\"] =\"mert\"\n",
        "family "
      ],
      "execution_count": null,
      "outputs": [
        {
          "output_type": "execute_result",
          "data": {
            "text/plain": [
              "{'daughter': 'kübra', 'father': 'nevzat', 'mother': 'fatma', 'son': 'mert'}"
            ]
          },
          "metadata": {
            "tags": []
          },
          "execution_count": 16
        }
      ]
    },
    {
      "cell_type": "code",
      "metadata": {
        "colab": {
          "base_uri": "https://localhost:8080/"
        },
        "id": "gsN_goHwLbt-",
        "outputId": "e843b31c-e1ac-40b3-e7b0-7c51d4f7756c"
      },
      "source": [
        "len(family)"
      ],
      "execution_count": null,
      "outputs": [
        {
          "output_type": "execute_result",
          "data": {
            "text/plain": [
              "4"
            ]
          },
          "metadata": {
            "tags": []
          },
          "execution_count": 17
        }
      ]
    },
    {
      "cell_type": "code",
      "metadata": {
        "colab": {
          "base_uri": "https://localhost:8080/"
        },
        "id": "gBrqKURMLbyR",
        "outputId": "c0780f0b-f070-47a7-eb2e-2057c09f6b78"
      },
      "source": [
        "dict_by_dict = dict(animal=\"dog\", planet=\"neptun\", number = 40, pi = 3.14, is_good = True)\n",
        "dict_by_dict"
      ],
      "execution_count": null,
      "outputs": [
        {
          "output_type": "execute_result",
          "data": {
            "text/plain": [
              "{'animal': 'dog',\n",
              " 'is_good': True,\n",
              " 'number': 40,\n",
              " 'pi': 3.14,\n",
              " 'planet': 'neptun'}"
            ]
          },
          "metadata": {
            "tags": []
          },
          "execution_count": 18
        }
      ]
    },
    {
      "cell_type": "code",
      "metadata": {
        "colab": {
          "base_uri": "https://localhost:8080/"
        },
        "id": "OjvasvvZO0y1",
        "outputId": "20c860b8-22d9-4154-e852-e994e3319ae5"
      },
      "source": [
        "family = dict(father = \"nevzat\", mother = \"fatma\", daughter = \"kübra\", son = \"mert\")\n",
        "family"
      ],
      "execution_count": null,
      "outputs": [
        {
          "output_type": "execute_result",
          "data": {
            "text/plain": [
              "{'daughter': 'kübra', 'father': 'nevzat', 'mother': 'fatma', 'son': 'mert'}"
            ]
          },
          "metadata": {
            "tags": []
          },
          "execution_count": 21
        }
      ]
    },
    {
      "cell_type": "code",
      "metadata": {
        "id": "ZmAUgMA3O03u"
      },
      "source": [
        "n1, n2, n3 = 5, 15, 20"
      ],
      "execution_count": null,
      "outputs": []
    },
    {
      "cell_type": "code",
      "metadata": {
        "colab": {
          "base_uri": "https://localhost:8080/"
        },
        "id": "iNghamobO09F",
        "outputId": "227367da-ac53-416b-9002-bf178c4e1ff3"
      },
      "source": [
        "numbers = {n1 : \"beş\", n2 : \"onbeş\", n3 : \"yirmi\"}\n",
        "numbers"
      ],
      "execution_count": null,
      "outputs": [
        {
          "output_type": "execute_result",
          "data": {
            "text/plain": [
              "{5: 'beş', 15: 'onbeş', 20: 'yirmi'}"
            ]
          },
          "metadata": {
            "tags": []
          },
          "execution_count": 23
        }
      ]
    },
    {
      "cell_type": "code",
      "metadata": {
        "id": "3kOMuCS-O1Bl"
      },
      "source": [
        "sayılar = {\"tek\" : [], \n",
        "           \"çift\" : []}"
      ],
      "execution_count": null,
      "outputs": []
    },
    {
      "cell_type": "code",
      "metadata": {
        "colab": {
          "base_uri": "https://localhost:8080/"
        },
        "id": "2MKfXQ6_LcGB",
        "outputId": "1efd4658-f09a-4b6f-f0f8-be240d3954d2"
      },
      "source": [
        "type(sayılar[\"tek\"])"
      ],
      "execution_count": null,
      "outputs": [
        {
          "output_type": "execute_result",
          "data": {
            "text/plain": [
              "list"
            ]
          },
          "metadata": {
            "tags": []
          },
          "execution_count": 33
        }
      ]
    },
    {
      "cell_type": "code",
      "metadata": {
        "colab": {
          "base_uri": "https://localhost:8080/"
        },
        "id": "VeBQib_qLcKl",
        "outputId": "485a546e-0abc-4ffc-c2d3-1d068730e5e4"
      },
      "source": [
        "type(sayılar[\"çift\"])"
      ],
      "execution_count": null,
      "outputs": [
        {
          "output_type": "execute_result",
          "data": {
            "text/plain": [
              "list"
            ]
          },
          "metadata": {
            "tags": []
          },
          "execution_count": 34
        }
      ]
    },
    {
      "cell_type": "code",
      "metadata": {
        "id": "yg8v9ZQaWTTH"
      },
      "source": [
        "sayılar[\"tek\"].append(1)"
      ],
      "execution_count": null,
      "outputs": []
    },
    {
      "cell_type": "code",
      "metadata": {
        "colab": {
          "base_uri": "https://localhost:8080/"
        },
        "id": "xJYL_IH9WTYx",
        "outputId": "ec8dd755-11f4-4798-8278-3edf93d3704a"
      },
      "source": [
        "sayılar"
      ],
      "execution_count": null,
      "outputs": [
        {
          "output_type": "execute_result",
          "data": {
            "text/plain": [
              "{'tek': [1], 'çift': []}"
            ]
          },
          "metadata": {
            "tags": []
          },
          "execution_count": 36
        }
      ]
    },
    {
      "cell_type": "code",
      "metadata": {
        "id": "9ByLv0POWTe3"
      },
      "source": [
        "sayılar[\"tek\"].append(3)"
      ],
      "execution_count": null,
      "outputs": []
    },
    {
      "cell_type": "code",
      "metadata": {
        "id": "gwX491E6WTju"
      },
      "source": [
        "sayılar[\"çift\"].append(2)"
      ],
      "execution_count": null,
      "outputs": []
    },
    {
      "cell_type": "code",
      "metadata": {
        "id": "uuxtbGyyWTqU"
      },
      "source": [
        "sayılar[\"çift\"].append(4)"
      ],
      "execution_count": null,
      "outputs": []
    },
    {
      "cell_type": "code",
      "metadata": {
        "colab": {
          "base_uri": "https://localhost:8080/"
        },
        "id": "iS7Rq4E4WTvK",
        "outputId": "5196f041-8efc-4082-bd07-e55ba8ede2e4"
      },
      "source": [
        "sayılar"
      ],
      "execution_count": null,
      "outputs": [
        {
          "output_type": "execute_result",
          "data": {
            "text/plain": [
              "{'tek': [1, 3], 'çift': [2, 4]}"
            ]
          },
          "metadata": {
            "tags": []
          },
          "execution_count": 40
        }
      ]
    },
    {
      "cell_type": "code",
      "metadata": {
        "colab": {
          "base_uri": "https://localhost:8080/"
        },
        "id": "00r1q9ngWT4m",
        "outputId": "f3076bb9-a154-4eb4-c335-07f85654dec1"
      },
      "source": [
        "meyveler = {}.fromkeys([\"elma\", \"armut\"], 0)\n",
        "meyveler"
      ],
      "execution_count": null,
      "outputs": [
        {
          "output_type": "execute_result",
          "data": {
            "text/plain": [
              "{'armut': 0, 'elma': 0}"
            ]
          },
          "metadata": {
            "tags": []
          },
          "execution_count": 47
        }
      ]
    },
    {
      "cell_type": "code",
      "metadata": {
        "colab": {
          "base_uri": "https://localhost:8080/"
        },
        "id": "9Jui_gDDXtFX",
        "outputId": "16891558-e767-4f9a-ec79-97d0a4705ec2"
      },
      "source": [
        "meyveler[\"elma\"] += 1\n",
        "meyveler"
      ],
      "execution_count": null,
      "outputs": [
        {
          "output_type": "execute_result",
          "data": {
            "text/plain": [
              "{'armut': 0, 'elma': 1}"
            ]
          },
          "metadata": {
            "tags": []
          },
          "execution_count": 48
        }
      ]
    },
    {
      "cell_type": "code",
      "metadata": {
        "id": "4xBCi9U1XtKX"
      },
      "source": [
        "meyveler[\"armut\"] += 1"
      ],
      "execution_count": null,
      "outputs": []
    },
    {
      "cell_type": "code",
      "metadata": {
        "colab": {
          "base_uri": "https://localhost:8080/"
        },
        "id": "xjToMoXUXtOd",
        "outputId": "554c687d-268f-4287-dbd9-5f2ab7676cf7"
      },
      "source": [
        "meyveler"
      ],
      "execution_count": null,
      "outputs": [
        {
          "output_type": "execute_result",
          "data": {
            "text/plain": [
              "{'armut': 3, 'elma': 1}"
            ]
          },
          "metadata": {
            "tags": []
          },
          "execution_count": 52
        }
      ]
    },
    {
      "cell_type": "code",
      "metadata": {
        "colab": {
          "base_uri": "https://localhost:8080/"
        },
        "id": "q26dJn4jXtS6",
        "outputId": "9a19ae45-ebce-45ce-f2e4-506fb959adfc"
      },
      "source": [
        "meyveler[\"kivi\"] = 5\n",
        "meyveler"
      ],
      "execution_count": null,
      "outputs": [
        {
          "output_type": "execute_result",
          "data": {
            "text/plain": [
              "{'armut': 3, 'elma': 1, 'kivi': 5}"
            ]
          },
          "metadata": {
            "tags": []
          },
          "execution_count": 53
        }
      ]
    },
    {
      "cell_type": "code",
      "metadata": {
        "colab": {
          "base_uri": "https://localhost:8080/"
        },
        "id": "r3PcPR7dXtXG",
        "outputId": "865a5295-d5d8-4c1e-8273-a680ded2ab71"
      },
      "source": [
        "meyveler[\"elma\"] = 9\n",
        "meyveler"
      ],
      "execution_count": null,
      "outputs": [
        {
          "output_type": "execute_result",
          "data": {
            "text/plain": [
              "{'armut': 3, 'elma': 9, 'kivi': 5}"
            ]
          },
          "metadata": {
            "tags": []
          },
          "execution_count": 54
        }
      ]
    },
    {
      "cell_type": "code",
      "metadata": {
        "id": "AHNdMNMKXtbv"
      },
      "source": [
        "cisimler = {\"cisim1\" : \"mouse\", \"cisim2\" : \"havlu\"} "
      ],
      "execution_count": null,
      "outputs": []
    },
    {
      "cell_type": "code",
      "metadata": {
        "colab": {
          "base_uri": "https://localhost:8080/"
        },
        "id": "SQHvh4LcXtrW",
        "outputId": "e1b483d9-b919-47f4-f535-f3f905bc5af4"
      },
      "source": [
        "cisimler"
      ],
      "execution_count": null,
      "outputs": [
        {
          "output_type": "execute_result",
          "data": {
            "text/plain": [
              "{'cisim1': 'mouse', 'cisim2': 'havlu'}"
            ]
          },
          "metadata": {
            "tags": []
          },
          "execution_count": 61
        }
      ]
    },
    {
      "cell_type": "code",
      "metadata": {
        "colab": {
          "base_uri": "https://localhost:8080/"
        },
        "id": "4VIyV8ksXtwE",
        "outputId": "0b9baea9-407b-4739-c8d2-a9ec4145abc1"
      },
      "source": [
        "cisimler[\"cisim1\"] += \" klavye\"\n",
        "cisimler"
      ],
      "execution_count": null,
      "outputs": [
        {
          "output_type": "execute_result",
          "data": {
            "text/plain": [
              "{'cisim1': 'mouse klavye', 'cisim2': 'havlu'}"
            ]
          },
          "metadata": {
            "tags": []
          },
          "execution_count": 62
        }
      ]
    },
    {
      "cell_type": "code",
      "metadata": {
        "id": "rPo-j4ugXt0k"
      },
      "source": [
        "dict_by_dict = {'animal':'dog',\n",
        "\t\t\t'planet': 'Neptun',\n",
        "\t\t\t'number': 40,\n",
        "\t\t\t'pi':3.14,\n",
        "\t\t\t'is_good': True}"
      ],
      "execution_count": null,
      "outputs": []
    },
    {
      "cell_type": "code",
      "metadata": {
        "colab": {
          "base_uri": "https://localhost:8080/"
        },
        "id": "eFpjOvcEXt6f",
        "outputId": "9a0851c7-9579-4326-c1e5-32cd29d4b9fe"
      },
      "source": [
        "type(dict_by_dict.items())"
      ],
      "execution_count": null,
      "outputs": [
        {
          "output_type": "execute_result",
          "data": {
            "text/plain": [
              "dict_items"
            ]
          },
          "metadata": {
            "tags": []
          },
          "execution_count": 65
        }
      ]
    },
    {
      "cell_type": "code",
      "metadata": {
        "colab": {
          "base_uri": "https://localhost:8080/"
        },
        "id": "7AYSKjqoXuDT",
        "outputId": "b24d52a0-492f-45ad-f0ec-45344747fb45"
      },
      "source": [
        "list(dict_by_dict.items())"
      ],
      "execution_count": null,
      "outputs": [
        {
          "output_type": "execute_result",
          "data": {
            "text/plain": [
              "[('animal', 'dog'),\n",
              " ('planet', 'Neptun'),\n",
              " ('number', 40),\n",
              " ('pi', 3.14),\n",
              " ('is_good', True)]"
            ]
          },
          "metadata": {
            "tags": []
          },
          "execution_count": 67
        }
      ]
    },
    {
      "cell_type": "code",
      "metadata": {
        "colab": {
          "base_uri": "https://localhost:8080/"
        },
        "id": "QfbxyZcKc8uW",
        "outputId": "78d36499-c539-4d55-820f-857f17bcb2f9"
      },
      "source": [
        "list(dict_by_dict.values())"
      ],
      "execution_count": null,
      "outputs": [
        {
          "output_type": "execute_result",
          "data": {
            "text/plain": [
              "['dog', 'Neptun', 40, 3.14, True]"
            ]
          },
          "metadata": {
            "tags": []
          },
          "execution_count": 68
        }
      ]
    },
    {
      "cell_type": "code",
      "metadata": {
        "colab": {
          "base_uri": "https://localhost:8080/"
        },
        "id": "j42-HP-JdBZ2",
        "outputId": "991b77d6-5bad-440e-aa36-48d2c4782d6a"
      },
      "source": [
        "family"
      ],
      "execution_count": null,
      "outputs": [
        {
          "output_type": "execute_result",
          "data": {
            "text/plain": [
              "{'daughter': 'kübra', 'father': 'nevzat', 'mother': 'fatma', 'son': 'mert'}"
            ]
          },
          "metadata": {
            "tags": []
          },
          "execution_count": 69
        }
      ]
    },
    {
      "cell_type": "code",
      "metadata": {
        "colab": {
          "base_uri": "https://localhost:8080/"
        },
        "id": "wRZ_e_r0f7bK",
        "outputId": "cbfa6ebd-e25c-4431-ada9-861fbb666b16"
      },
      "source": [
        "list(family.items())"
      ],
      "execution_count": null,
      "outputs": [
        {
          "output_type": "execute_result",
          "data": {
            "text/plain": [
              "[('father', 'nevzat'),\n",
              " ('mother', 'fatma'),\n",
              " ('daughter', 'kübra'),\n",
              " ('son', 'mert')]"
            ]
          },
          "metadata": {
            "tags": []
          },
          "execution_count": 72
        }
      ]
    },
    {
      "cell_type": "code",
      "metadata": {
        "colab": {
          "base_uri": "https://localhost:8080/"
        },
        "id": "8xmC3mcrgFxH",
        "outputId": "771ef05b-7ebb-426e-d585-1b7829a2ec0e"
      },
      "source": [
        "list(family.keys())"
      ],
      "execution_count": null,
      "outputs": [
        {
          "output_type": "execute_result",
          "data": {
            "text/plain": [
              "['father', 'mother', 'daughter', 'son']"
            ]
          },
          "metadata": {
            "tags": []
          },
          "execution_count": 73
        }
      ]
    },
    {
      "cell_type": "code",
      "metadata": {
        "colab": {
          "base_uri": "https://localhost:8080/"
        },
        "id": "VJJN8ObegLOX",
        "outputId": "79b9e73e-086e-4c85-8030-6cd3a912b478"
      },
      "source": [
        "list(family.values())"
      ],
      "execution_count": null,
      "outputs": [
        {
          "output_type": "execute_result",
          "data": {
            "text/plain": [
              "['nevzat', 'fatma', 'kübra', 'mert']"
            ]
          },
          "metadata": {
            "tags": []
          },
          "execution_count": 74
        }
      ]
    },
    {
      "cell_type": "code",
      "metadata": {
        "colab": {
          "base_uri": "https://localhost:8080/"
        },
        "id": "Jg1S0WpjgMDn",
        "outputId": "a6e6f085-0162-4f8e-86bc-c85343306261"
      },
      "source": [
        "dict_by_dict = {'animal':'dog',\n",
        "\t\t\t'planet': 'Neptun',\n",
        "\t\t\t'number': 40,\n",
        "\t\t\t'pi':3.14,\n",
        "\t\t\t'is_good': True}\n",
        "dict_by_dict.update({\"is_bad\" : False, 3 : \"üç\"})\n",
        "print(dict_by_dict) ^#update veri ekler."
      ],
      "execution_count": null,
      "outputs": [
        {
          "output_type": "stream",
          "text": [
            "{'animal': 'dog', 'planet': 'Neptun', 'number': 40, 'pi': 3.14, 'is_good': True, 'is_bad': False, 3: 'üç'}\n"
          ],
          "name": "stdout"
        }
      ]
    },
    {
      "cell_type": "code",
      "metadata": {
        "colab": {
          "base_uri": "https://localhost:8080/"
        },
        "id": "qJggimOggbaM",
        "outputId": "fca52e3a-c354-453e-c48e-358da97233c4"
      },
      "source": [
        "family"
      ],
      "execution_count": null,
      "outputs": [
        {
          "output_type": "execute_result",
          "data": {
            "text/plain": [
              "{'daughter': 'kübra', 'father': 'nevzat', 'mother': 'fatma', 'son': 'mert'}"
            ]
          },
          "metadata": {
            "tags": []
          },
          "execution_count": 77
        }
      ]
    },
    {
      "cell_type": "code",
      "metadata": {
        "colab": {
          "base_uri": "https://localhost:8080/"
        },
        "id": "iQGeedGogitT",
        "outputId": "0b818b84-55e8-41eb-ae16-33a2c5085ba5"
      },
      "source": [
        "family.update({\"son2\" : \"burak\"})\n",
        "family"
      ],
      "execution_count": null,
      "outputs": [
        {
          "output_type": "execute_result",
          "data": {
            "text/plain": [
              "{'daughter': 'kübra',\n",
              " 'father': 'nevzat',\n",
              " 'mother': 'fatma',\n",
              " 'son': 'mert',\n",
              " 'son2': 'burak'}"
            ]
          },
          "metadata": {
            "tags": []
          },
          "execution_count": 78
        }
      ]
    },
    {
      "cell_type": "code",
      "metadata": {
        "colab": {
          "base_uri": "https://localhost:8080/"
        },
        "id": "oPcSsqXjgiyV",
        "outputId": "1c8f8690-c25b-497e-9507-f20946ca7bec"
      },
      "source": [
        "dict_by_dict = {'animal':'dog',\n",
        "\t\t\t'planet': 'Neptun',\n",
        "\t\t\t'number': 40,\n",
        "\t\t\t'pi':3.14,\n",
        "\t\t\t'is_good': True}\n",
        "del dict_by_dict[\"animal\"]\n",
        "print(dict_by_dict) #del veriyi siler."
      ],
      "execution_count": null,
      "outputs": [
        {
          "output_type": "stream",
          "text": [
            "{'planet': 'Neptun', 'number': 40, 'pi': 3.14, 'is_good': True}\n"
          ],
          "name": "stdout"
        }
      ]
    },
    {
      "cell_type": "code",
      "metadata": {
        "id": "5od0xT7Tgi20"
      },
      "source": [
        "# The Formula Syntax is: del dictionary_name[\"key\"]"
      ],
      "execution_count": null,
      "outputs": []
    },
    {
      "cell_type": "code",
      "metadata": {
        "colab": {
          "base_uri": "https://localhost:8080/"
        },
        "id": "0Qe4bfxDgi9v",
        "outputId": "38f54b92-1a52-4f24-d5e6-c7bca1d377d6"
      },
      "source": [
        "family"
      ],
      "execution_count": null,
      "outputs": [
        {
          "output_type": "execute_result",
          "data": {
            "text/plain": [
              "{'daughter': 'kübra',\n",
              " 'father': 'nevzat',\n",
              " 'mother': 'fatma',\n",
              " 'son': 'mert',\n",
              " 'son2': 'burak'}"
            ]
          },
          "metadata": {
            "tags": []
          },
          "execution_count": 82
        }
      ]
    },
    {
      "cell_type": "code",
      "metadata": {
        "id": "S_eeQ2yAgjCR"
      },
      "source": [
        "del family[\"mother\"]\n",
        "del family[\"daughter\"]"
      ],
      "execution_count": null,
      "outputs": []
    },
    {
      "cell_type": "code",
      "metadata": {
        "colab": {
          "base_uri": "https://localhost:8080/"
        },
        "id": "60kOyi9lgjGr",
        "outputId": "35da67d6-c425-4e3c-cef8-3166b5dbb6f9"
      },
      "source": [
        "family"
      ],
      "execution_count": null,
      "outputs": [
        {
          "output_type": "execute_result",
          "data": {
            "text/plain": [
              "{'father': 'nevzat', 'son': 'mert', 'son2': 'burak'}"
            ]
          },
          "metadata": {
            "tags": []
          },
          "execution_count": 84
        }
      ]
    },
    {
      "cell_type": "code",
      "metadata": {
        "colab": {
          "base_uri": "https://localhost:8080/"
        },
        "id": "wr3TfLPCgjK-",
        "outputId": "4ccd8b55-ce3f-427d-f145-372ada941a76"
      },
      "source": [
        "del family[\"son\"], family [\"son2\"]\n",
        "family"
      ],
      "execution_count": null,
      "outputs": [
        {
          "output_type": "execute_result",
          "data": {
            "text/plain": [
              "{'father': 'nevzat'}"
            ]
          },
          "metadata": {
            "tags": []
          },
          "execution_count": 85
        }
      ]
    },
    {
      "cell_type": "code",
      "metadata": {
        "colab": {
          "base_uri": "https://localhost:8080/"
        },
        "id": "Hc6EXrZPgjPt",
        "outputId": "59777d48-1aaf-4632-d0f6-276fd56c5669"
      },
      "source": [
        "clarusway = [\"ali\", \"veli\", \"deli\"]\n",
        "\n",
        "\"zeka küpü\" in clarusway"
      ],
      "execution_count": null,
      "outputs": [
        {
          "output_type": "execute_result",
          "data": {
            "text/plain": [
              "False"
            ]
          },
          "metadata": {
            "tags": []
          },
          "execution_count": 86
        }
      ]
    },
    {
      "cell_type": "code",
      "metadata": {
        "colab": {
          "base_uri": "https://localhost:8080/"
        },
        "id": "_M3pwWpGgjUL",
        "outputId": "2b28c72a-48a0-4b5c-8e0f-16b4388c39dd"
      },
      "source": [
        "\"deli\" in clarusway"
      ],
      "execution_count": null,
      "outputs": [
        {
          "output_type": "execute_result",
          "data": {
            "text/plain": [
              "True"
            ]
          },
          "metadata": {
            "tags": []
          },
          "execution_count": 87
        }
      ]
    },
    {
      "cell_type": "code",
      "metadata": {
        "colab": {
          "base_uri": "https://localhost:8080/"
        },
        "id": "Ou-sUutegjYy",
        "outputId": "197e9552-c82c-40a3-c372-6f64e6357ec0"
      },
      "source": [
        "dict_by_dict"
      ],
      "execution_count": null,
      "outputs": [
        {
          "output_type": "execute_result",
          "data": {
            "text/plain": [
              "{'is_good': True, 'number': 40, 'pi': 3.14, 'planet': 'Neptun'}"
            ]
          },
          "metadata": {
            "tags": []
          },
          "execution_count": 88
        }
      ]
    },
    {
      "cell_type": "code",
      "metadata": {
        "colab": {
          "base_uri": "https://localhost:8080/"
        },
        "id": "Slp4mFVfgjdc",
        "outputId": "9b611598-6d43-4839-9fe4-b5b043fccbb5"
      },
      "source": [
        "\"Neptun\" in dict_by_dict #key de aradığı için false çıkar"
      ],
      "execution_count": null,
      "outputs": [
        {
          "output_type": "execute_result",
          "data": {
            "text/plain": [
              "False"
            ]
          },
          "metadata": {
            "tags": []
          },
          "execution_count": 92
        }
      ]
    },
    {
      "cell_type": "code",
      "metadata": {
        "colab": {
          "base_uri": "https://localhost:8080/"
        },
        "id": "1Kt-iAX9gjiW",
        "outputId": "4558f45d-2803-451d-8922-455e6f1a4710"
      },
      "source": [
        "\"Neptun\" in dict_by_dict.values()"
      ],
      "execution_count": null,
      "outputs": [
        {
          "output_type": "execute_result",
          "data": {
            "text/plain": [
              "True"
            ]
          },
          "metadata": {
            "tags": []
          },
          "execution_count": 91
        }
      ]
    },
    {
      "cell_type": "code",
      "metadata": {
        "colab": {
          "base_uri": "https://localhost:8080/"
        },
        "id": "gQR4D3uAgjnF",
        "outputId": "a0d66ef5-b6ac-4481-82bc-55159a170e36"
      },
      "source": [
        "\"pi\" in dict_by_dict "
      ],
      "execution_count": null,
      "outputs": [
        {
          "output_type": "execute_result",
          "data": {
            "text/plain": [
              "True"
            ]
          },
          "metadata": {
            "tags": []
          },
          "execution_count": 93
        }
      ]
    },
    {
      "cell_type": "code",
      "metadata": {
        "colab": {
          "base_uri": "https://localhost:8080/"
        },
        "id": "t6LtbU7Ngjr0",
        "outputId": "dc8d0df5-714e-4bfc-de96-a0cf2800e7bd"
      },
      "source": [
        "\"Neptun\" not in dict_by_dict"
      ],
      "execution_count": null,
      "outputs": [
        {
          "output_type": "execute_result",
          "data": {
            "text/plain": [
              "True"
            ]
          },
          "metadata": {
            "tags": []
          },
          "execution_count": 94
        }
      ]
    },
    {
      "cell_type": "code",
      "metadata": {
        "id": "7QuEl0IIgjwf"
      },
      "source": [
        "school_records={\n",
        "\t'personal_info':\n",
        "\t\t{'kid':{'tom':{'class':'intermediate', 'age':10},\n",
        "\t\t\t'sue':{'class':'elemantary', 'age':8}\n",
        "\t\t\t},\n",
        "\t\t'teen':{'joseph':{'class':'college', 'age':19},\n",
        "\t\t\t'marry':{'class':'high school', 'age':16}\n",
        "\t\t\t},\n",
        "\t\t},\n",
        "\t'grades_info':\n",
        "\t\t{'kid':{'tom':{'math':88, 'speech':69},\n",
        "\t\t\t'sue':{'math':90, 'speech':81}\n",
        "\t\t\t},\n",
        "\t\t'teen':{'joseph':{'coding':80, 'math':89},\n",
        "\t\t\t'marry':{'coding':70, 'math':96}\n",
        "\t\t\t},\n",
        "\t\t}\n",
        "}\n",
        "\n",
        "school_records={\n",
        "    \"personal_info\":\n",
        "        {\"kid\":{\"tom\": {\"class\": \"intermediate\", \"age\": 10},\n",
        "                \"sue\": {\"class\": \"elementary\", \"age\": 8}\n",
        "               },\n",
        "         \"teen\":{\"joseph\":{\"class\": \"college\", \"age\": 19},\n",
        "                 \"marry\":{\"class\": \"high school\", \"age\": 16}\n",
        "               },               \n",
        "        },\n",
        "        \n",
        "    \"grades_info\":\n",
        "        {\"kid\":{\"tom\": {\"math\": 88, \"speech\": 69},\n",
        "                \"sue\": {\"math\": 90, \"speech\": 81}\n",
        "               },\n",
        "         \"teen\":{\"joseph\":{\"coding\": 80, \"math\": 89},\n",
        "                 \"marry\":{\"coding\": 70, \"math\": 96}\n",
        "               },               \n",
        "        },        \n",
        "}"
      ],
      "execution_count": null,
      "outputs": []
    },
    {
      "cell_type": "code",
      "metadata": {
        "colab": {
          "base_uri": "https://localhost:8080/"
        },
        "id": "ZUCMJlrIiMR-",
        "outputId": "7f7b9291-cc06-4b12-ce69-6d36b9c1ba84"
      },
      "source": [
        "school_records"
      ],
      "execution_count": null,
      "outputs": [
        {
          "output_type": "execute_result",
          "data": {
            "text/plain": [
              "{'grades_info': {'kid': {'sue': {'math': 90, 'speech': 81},\n",
              "   'tom': {'math': 88, 'speech': 69}},\n",
              "  'teen': {'joseph': {'coding': 80, 'math': 89},\n",
              "   'marry': {'coding': 70, 'math': 96}}},\n",
              " 'personal_info': {'kid': {'sue': {'age': 8, 'class': 'elementary'},\n",
              "   'tom': {'age': 10, 'class': 'intermediate'}},\n",
              "  'teen': {'joseph': {'age': 19, 'class': 'college'},\n",
              "   'marry': {'age': 16, 'class': 'high school'}}}}"
            ]
          },
          "metadata": {
            "tags": []
          },
          "execution_count": 97
        }
      ]
    },
    {
      "cell_type": "code",
      "metadata": {
        "colab": {
          "base_uri": "https://localhost:8080/"
        },
        "id": "MvbIv-wYiMXs",
        "outputId": "afb89631-721d-46cd-e06b-73caf1354235"
      },
      "source": [
        "school_records[\"personal_info\"]"
      ],
      "execution_count": null,
      "outputs": [
        {
          "output_type": "execute_result",
          "data": {
            "text/plain": [
              "{'kid': {'sue': {'age': 8, 'class': 'elementary'},\n",
              "  'tom': {'age': 10, 'class': 'intermediate'}},\n",
              " 'teen': {'joseph': {'age': 19, 'class': 'college'},\n",
              "  'marry': {'age': 16, 'class': 'high school'}}}"
            ]
          },
          "metadata": {
            "tags": []
          },
          "execution_count": 98
        }
      ]
    },
    {
      "cell_type": "code",
      "metadata": {
        "colab": {
          "base_uri": "https://localhost:8080/"
        },
        "id": "yYhGwZGUiMeL",
        "outputId": "a9154905-da43-4db6-86c6-5f434c853d4f"
      },
      "source": [
        "school_records[\"personal_info\"].keys()"
      ],
      "execution_count": null,
      "outputs": [
        {
          "output_type": "execute_result",
          "data": {
            "text/plain": [
              "dict_keys(['kid', 'teen'])"
            ]
          },
          "metadata": {
            "tags": []
          },
          "execution_count": 99
        }
      ]
    },
    {
      "cell_type": "code",
      "metadata": {
        "colab": {
          "base_uri": "https://localhost:8080/"
        },
        "id": "5PT_yGqziMj3",
        "outputId": "b6e1888a-04d3-4147-bba2-76a82b7a6aaf"
      },
      "source": [
        "school_records[\"personal_info\"][\"teen\"]"
      ],
      "execution_count": null,
      "outputs": [
        {
          "output_type": "execute_result",
          "data": {
            "text/plain": [
              "{'joseph': {'age': 19, 'class': 'college'},\n",
              " 'marry': {'age': 16, 'class': 'high school'}}"
            ]
          },
          "metadata": {
            "tags": []
          },
          "execution_count": 100
        }
      ]
    },
    {
      "cell_type": "code",
      "metadata": {
        "colab": {
          "base_uri": "https://localhost:8080/"
        },
        "id": "4mCeCAEgiMpN",
        "outputId": "8df87864-e5fd-4193-bc4b-3b3b056ef181"
      },
      "source": [
        "school_records[\"personal_info\"][\"teen\"].keys()"
      ],
      "execution_count": null,
      "outputs": [
        {
          "output_type": "execute_result",
          "data": {
            "text/plain": [
              "dict_keys(['joseph', 'marry'])"
            ]
          },
          "metadata": {
            "tags": []
          },
          "execution_count": 102
        }
      ]
    },
    {
      "cell_type": "code",
      "metadata": {
        "colab": {
          "base_uri": "https://localhost:8080/"
        },
        "id": "SqsMkm-9iMtr",
        "outputId": "01a5bcad-826d-4cf6-c663-000e7080b705"
      },
      "source": [
        "school_records[\"personal_info\"][\"teen\"][\"marry\"]"
      ],
      "execution_count": null,
      "outputs": [
        {
          "output_type": "execute_result",
          "data": {
            "text/plain": [
              "{'age': 16, 'class': 'high school'}"
            ]
          },
          "metadata": {
            "tags": []
          },
          "execution_count": 103
        }
      ]
    },
    {
      "cell_type": "code",
      "metadata": {
        "colab": {
          "base_uri": "https://localhost:8080/"
        },
        "id": "l11sYEGKl3fs",
        "outputId": "2eb67eba-1d94-4616-c5e1-b5ec4466f006"
      },
      "source": [
        "school_records[\"personal_info\"][\"teen\"][\"marry\"].keys()"
      ],
      "execution_count": null,
      "outputs": [
        {
          "output_type": "execute_result",
          "data": {
            "text/plain": [
              "dict_keys(['class', 'age'])"
            ]
          },
          "metadata": {
            "tags": []
          },
          "execution_count": 104
        }
      ]
    },
    {
      "cell_type": "code",
      "metadata": {
        "colab": {
          "base_uri": "https://localhost:8080/"
        },
        "id": "l3_hqq0Il53S",
        "outputId": "78ec4819-3e71-4721-9daa-63485fc92cfa"
      },
      "source": [
        "school_records[\"personal_info\"][\"teen\"][\"marry\"][\"age\"]"
      ],
      "execution_count": null,
      "outputs": [
        {
          "output_type": "execute_result",
          "data": {
            "text/plain": [
              "16"
            ]
          },
          "metadata": {
            "tags": []
          },
          "execution_count": 105
        }
      ]
    },
    {
      "cell_type": "code",
      "metadata": {
        "colab": {
          "base_uri": "https://localhost:8080/"
        },
        "id": "dfEKHUJol8yq",
        "outputId": "5299feef-3606-451c-c2bf-43a100e5d65a"
      },
      "source": [
        "school_records[\"grades_info\"][\"teen\"][\"joseph\"][\"math\"]"
      ],
      "execution_count": null,
      "outputs": [
        {
          "output_type": "execute_result",
          "data": {
            "text/plain": [
              "89"
            ]
          },
          "metadata": {
            "tags": []
          },
          "execution_count": 106
        }
      ]
    },
    {
      "cell_type": "code",
      "metadata": {
        "colab": {
          "base_uri": "https://localhost:8080/"
        },
        "id": "ch7PK6DqmUpR",
        "outputId": "9b151f98-1598-44a4-ac3d-f1665f43840b"
      },
      "source": [
        "print(school_records[\"grades_info\"][\"teen\"][\"joseph\"])"
      ],
      "execution_count": null,
      "outputs": [
        {
          "output_type": "stream",
          "text": [
            "{'coding': 80, 'math': 89}\n"
          ],
          "name": "stdout"
        }
      ]
    },
    {
      "cell_type": "code",
      "metadata": {
        "colab": {
          "base_uri": "https://localhost:8080/"
        },
        "id": "M5015xwKm5O2",
        "outputId": "20856520-d082-4662-9dc1-1571775ebf0c"
      },
      "source": [
        "print(list(school_records[\"grades_info\"][\"teen\"][\"joseph\"].items()))"
      ],
      "execution_count": null,
      "outputs": [
        {
          "output_type": "stream",
          "text": [
            "[('coding', 80), ('math', 89)]\n"
          ],
          "name": "stdout"
        }
      ]
    },
    {
      "cell_type": "code",
      "metadata": {
        "id": "MpmZQwmlnYVN"
      },
      "source": [
        "para = 1000"
      ],
      "execution_count": null,
      "outputs": []
    },
    {
      "cell_type": "code",
      "metadata": {
        "id": "QGN5Oi-SoezJ"
      },
      "source": [
        "para = para + para * 0.07 #pazartesi"
      ],
      "execution_count": null,
      "outputs": []
    },
    {
      "cell_type": "code",
      "metadata": {
        "colab": {
          "base_uri": "https://localhost:8080/"
        },
        "id": "M_ac1aIvomjw",
        "outputId": "89096e44-4f0d-40c7-e5eb-880cbb5396b4"
      },
      "source": [
        "para"
      ],
      "execution_count": null,
      "outputs": [
        {
          "output_type": "execute_result",
          "data": {
            "text/plain": [
              "1070.0"
            ]
          },
          "metadata": {
            "tags": []
          },
          "execution_count": 114
        }
      ]
    },
    {
      "cell_type": "code",
      "metadata": {
        "id": "pmaYzDmFonNf"
      },
      "source": [
        "para = para + para * 0.07 #salı"
      ],
      "execution_count": null,
      "outputs": []
    },
    {
      "cell_type": "code",
      "metadata": {
        "colab": {
          "base_uri": "https://localhost:8080/"
        },
        "id": "xQO5nFElotKA",
        "outputId": "08baa735-4ce7-47ae-d16b-e0f1b509f12b"
      },
      "source": [
        "para"
      ],
      "execution_count": null,
      "outputs": [
        {
          "output_type": "execute_result",
          "data": {
            "text/plain": [
              "1144.9"
            ]
          },
          "metadata": {
            "tags": []
          },
          "execution_count": 116
        }
      ]
    },
    {
      "cell_type": "code",
      "metadata": {
        "id": "fwe1bjt7ottL"
      },
      "source": [
        "para = para + para * 0.07 #çarşamba\n",
        "para = para + para * 0.07 #perşembe\n",
        "para = para + para * 0.07 #cuma\n",
        "para = para + para * 0.07 #cumatesi\n",
        "para = para + para * 0.07 #pazar"
      ],
      "execution_count": null,
      "outputs": []
    },
    {
      "cell_type": "code",
      "metadata": {
        "colab": {
          "base_uri": "https://localhost:8080/"
        },
        "id": "dT2cBDQPo2QO",
        "outputId": "b1cba260-511b-4fc9-b2e7-db8f71c86562"
      },
      "source": [
        "para"
      ],
      "execution_count": null,
      "outputs": [
        {
          "output_type": "execute_result",
          "data": {
            "text/plain": [
              "1605.78147647843"
            ]
          },
          "metadata": {
            "tags": []
          },
          "execution_count": 118
        }
      ]
    },
    {
      "cell_type": "code",
      "metadata": {
        "id": "Xo8dubMro25-"
      },
      "source": [
        "money = 1000"
      ],
      "execution_count": null,
      "outputs": []
    },
    {
      "cell_type": "code",
      "metadata": {
        "colab": {
          "base_uri": "https://localhost:8080/"
        },
        "id": "gVsTeTXWp3D0",
        "outputId": "b8dcde8c-3895-4831-badf-88e4a08e4ac0"
      },
      "source": [
        "money = money * 1.07 ** 7\n",
        "money"
      ],
      "execution_count": null,
      "outputs": [
        {
          "output_type": "execute_result",
          "data": {
            "text/plain": [
              "1605.7814764784307"
            ]
          },
          "metadata": {
            "tags": []
          },
          "execution_count": 121
        }
      ]
    },
    {
      "cell_type": "code",
      "metadata": {
        "id": "hQ4U1YBwp6LD"
      },
      "source": [
        "samanlık = [\"yumurta\", \"saman\", \"inek\", \"iğne\", \"tavuk\", \"yaba\", \"eşarp\", \"iğne\"]"
      ],
      "execution_count": null,
      "outputs": []
    },
    {
      "cell_type": "code",
      "metadata": {
        "colab": {
          "base_uri": "https://localhost:8080/"
        },
        "id": "_Dk-e2GpqwZw",
        "outputId": "9a858f09-6305-4fec-8c18-a1898e60141d"
      },
      "source": [
        "print(f\"iğne {samanlık.index('iğne')} numaralı indextedir\")"
      ],
      "execution_count": null,
      "outputs": [
        {
          "output_type": "stream",
          "text": [
            "iğne 3 numaralı indextedir\n"
          ],
          "name": "stdout"
        }
      ]
    },
    {
      "cell_type": "code",
      "metadata": {
        "id": "kK5WhR4zrH9u"
      },
      "source": [
        "student_ages = {\"Harry\": 29,\n",
        "                \"Clark\": 32,\n",
        "                \"Peter\": 22,\n",
        "                \"Bruce\": 36\n",
        "                }"
      ],
      "execution_count": null,
      "outputs": []
    },
    {
      "cell_type": "code",
      "metadata": {
        "colab": {
          "base_uri": "https://localhost:8080/"
        },
        "id": "pjm9MuasYQ0n",
        "outputId": "e5673240-e3bf-46b8-e726-adf4bef1e0c1"
      },
      "source": [
        "student_ages[\"Clark\"]"
      ],
      "execution_count": null,
      "outputs": [
        {
          "output_type": "execute_result",
          "data": {
            "text/plain": [
              "32"
            ]
          },
          "metadata": {
            "tags": []
          },
          "execution_count": 2
        }
      ]
    },
    {
      "cell_type": "code",
      "metadata": {
        "id": "1W_2ZjiMYX3q"
      },
      "source": [
        "empty_set = set()"
      ],
      "execution_count": null,
      "outputs": []
    },
    {
      "cell_type": "code",
      "metadata": {
        "colab": {
          "base_uri": "https://localhost:8080/"
        },
        "id": "GJxPKyvgZQ6P",
        "outputId": "ac962cb3-033d-4188-ffbf-d9aa4201d810"
      },
      "source": [
        "print(type(empty_set))"
      ],
      "execution_count": null,
      "outputs": [
        {
          "output_type": "stream",
          "text": [
            "<class 'set'>\n"
          ],
          "name": "stdout"
        }
      ]
    },
    {
      "cell_type": "code",
      "metadata": {
        "colab": {
          "base_uri": "https://localhost:8080/"
        },
        "id": "EMaGrFu6ZX8F",
        "outputId": "8bfe7f11-6f80-44f6-d860-0bcf0eb75913"
      },
      "source": [
        "colorset = {\"purple\", \"orange\", \"red\", \"darkblue\", \"yellow\", \"red\"}\n",
        "print(colorset)"
      ],
      "execution_count": null,
      "outputs": [
        {
          "output_type": "stream",
          "text": [
            "{'purple', 'orange', 'red', 'darkblue', 'yellow'}\n"
          ],
          "name": "stdout"
        }
      ]
    },
    {
      "cell_type": "code",
      "metadata": {
        "colab": {
          "base_uri": "https://localhost:8080/"
        },
        "id": "ROocrQ7FZvnt",
        "outputId": "2bffc2dd-2545-4f80-8c6e-d46a170773de"
      },
      "source": [
        "a = set(\"abracadabra\")\n",
        "b = set(\"alacazam\")\n",
        "\n",
        "print(a.difference(b))\n",
        "print(a - b)"
      ],
      "execution_count": null,
      "outputs": [
        {
          "output_type": "stream",
          "text": [
            "{'d', 'b', 'r'}\n",
            "{'d', 'b', 'r'}\n"
          ],
          "name": "stdout"
        }
      ]
    },
    {
      "cell_type": "code",
      "metadata": {
        "colab": {
          "base_uri": "https://localhost:8080/"
        },
        "id": "owILN1KtakJJ",
        "outputId": "ff491a9b-d2ed-4a0c-d8d6-bb02f65b98c2"
      },
      "source": [
        "a = set(\"abracadabra\")\n",
        "b = set(\"alacazam\")\n",
        "\n",
        "print(a.union(b))\n",
        "print(a | b)"
      ],
      "execution_count": null,
      "outputs": [
        {
          "output_type": "stream",
          "text": [
            "{'b', 'z', 'l', 'a', 'm', 'd', 'r', 'c'}\n",
            "{'b', 'z', 'l', 'a', 'm', 'd', 'r', 'c'}\n"
          ],
          "name": "stdout"
        }
      ]
    },
    {
      "cell_type": "code",
      "metadata": {
        "colab": {
          "base_uri": "https://localhost:8080/"
        },
        "id": "_iyEBj3DasJJ",
        "outputId": "70b356ed-51dd-4a65-b8f8-74e54e0c9b84"
      },
      "source": [
        "a = set(\"abracadabra\")\n",
        "b = set(\"alacazam\")\n",
        "\n",
        "print(a.intersection(b))\n",
        "print(a & b)"
      ],
      "execution_count": null,
      "outputs": [
        {
          "output_type": "stream",
          "text": [
            "{'a', 'c'}\n",
            "{'a', 'c'}\n"
          ],
          "name": "stdout"
        }
      ]
    },
    {
      "cell_type": "code",
      "metadata": {
        "colab": {
          "base_uri": "https://localhost:8080/"
        },
        "id": "HQEH9ckda4S4",
        "outputId": "c8365bce-10f8-44fa-9f83-1dcacf88cefc"
      },
      "source": [
        "a = set(\"abracadabra\")\n",
        "a.remove(\"c\")\n",
        "a"
      ],
      "execution_count": null,
      "outputs": [
        {
          "output_type": "execute_result",
          "data": {
            "text/plain": [
              "{'a', 'b', 'd', 'r'}"
            ]
          },
          "metadata": {
            "tags": []
          },
          "execution_count": 12
        }
      ]
    },
    {
      "cell_type": "code",
      "metadata": {
        "colab": {
          "base_uri": "https://localhost:8080/"
        },
        "id": "WsKo4G5ua_p8",
        "outputId": "d7a60acc-e2f3-43d0-d3bc-68d8ce726ce0"
      },
      "source": [
        "a = set(\"abracadabra\")\n",
        "a.add(\"c\")\n",
        "a"
      ],
      "execution_count": null,
      "outputs": [
        {
          "output_type": "execute_result",
          "data": {
            "text/plain": [
              "{'a', 'b', 'c', 'd', 'r'}"
            ]
          },
          "metadata": {
            "tags": []
          },
          "execution_count": 13
        }
      ]
    },
    {
      "cell_type": "code",
      "metadata": {
        "colab": {
          "base_uri": "https://localhost:8080/"
        },
        "id": "iU-4ig_9bITn",
        "outputId": "d5f26404-ef34-44e9-ce9e-0518964543c0"
      },
      "source": [
        "len(a)"
      ],
      "execution_count": null,
      "outputs": [
        {
          "output_type": "execute_result",
          "data": {
            "text/plain": [
              "5"
            ]
          },
          "metadata": {
            "tags": []
          },
          "execution_count": 14
        }
      ]
    },
    {
      "cell_type": "code",
      "metadata": {
        "colab": {
          "base_uri": "https://localhost:8080/"
        },
        "id": "l6Gt2o64bMhU",
        "outputId": "75227d46-1b05-44cf-9903-bd6a898453be"
      },
      "source": [
        "a in a"
      ],
      "execution_count": null,
      "outputs": [
        {
          "output_type": "execute_result",
          "data": {
            "text/plain": [
              "False"
            ]
          },
          "metadata": {
            "tags": []
          },
          "execution_count": 15
        }
      ]
    },
    {
      "cell_type": "code",
      "metadata": {
        "colab": {
          "base_uri": "https://localhost:8080/"
        },
        "id": "NUzxX_LcbXeu",
        "outputId": "1d99badf-ecf6-46bd-e7b1-db6bf7d936e8"
      },
      "source": [
        "a not in b"
      ],
      "execution_count": null,
      "outputs": [
        {
          "output_type": "execute_result",
          "data": {
            "text/plain": [
              "True"
            ]
          },
          "metadata": {
            "tags": []
          },
          "execution_count": 18
        }
      ]
    },
    {
      "cell_type": "code",
      "metadata": {
        "colab": {
          "base_uri": "https://localhost:8080/"
        },
        "id": "gBsp62webbrW",
        "outputId": "8c6a75c6-97f9-4c08-d22b-9e1c1add9307"
      },
      "source": [
        "print(len(set('listen to the voice of enlisted')))"
      ],
      "execution_count": null,
      "outputs": [
        {
          "output_type": "stream",
          "text": [
            "13\n"
          ],
          "name": "stdout"
        }
      ]
    },
    {
      "cell_type": "code",
      "metadata": {
        "id": "ywaq3wYVbv1l"
      },
      "source": [
        "if False:\n",
        "  print(\"it is false\")"
      ],
      "execution_count": null,
      "outputs": []
    },
    {
      "cell_type": "code",
      "metadata": {
        "colab": {
          "base_uri": "https://localhost:8080/"
        },
        "id": "BHD60CfOcgNq",
        "outputId": "7a85af30-b348-409a-902b-aaaad255faf8"
      },
      "source": [
        "if True:\n",
        "  print(\"it is True\")"
      ],
      "execution_count": null,
      "outputs": [
        {
          "output_type": "stream",
          "text": [
            "it is True\n"
          ],
          "name": "stdout"
        }
      ]
    },
    {
      "cell_type": "code",
      "metadata": {
        "colab": {
          "base_uri": "https://localhost:8080/"
        },
        "id": "QZOCRNC8cnLy",
        "outputId": "9ee4b91a-b20c-4927-ae2a-a1bbaf62a076"
      },
      "source": [
        "empty_seat = 14\n",
        "\n",
        "if empty_seat > 3:  # in this case, 14>3=True, so the body will execute\n",
        "    print('there is still seat to sit')\n"
      ],
      "execution_count": null,
      "outputs": [
        {
          "output_type": "stream",
          "text": [
            "there is still seat to sit\n"
          ],
          "name": "stdout"
        }
      ]
    },
    {
      "cell_type": "code",
      "metadata": {
        "id": "Ok6WpMdgc5gI"
      },
      "source": [
        "basket = [\"apple\", \"peach\", \"blackberry\"]\n",
        "fruit = \".....\""
      ],
      "execution_count": null,
      "outputs": []
    },
    {
      "cell_type": "code",
      "metadata": {
        "colab": {
          "base_uri": "https://localhost:8080/"
        },
        "id": "_hTmHZdafoJb",
        "outputId": "5a3c68c0-f684-40df-9ad4-c0fa2cedc82a"
      },
      "source": [
        "if fruit not in basket :\n",
        "  print(\"I can have a little\")\n",
        "else :\n",
        "  print(\"I have already\")"
      ],
      "execution_count": null,
      "outputs": [
        {
          "output_type": "stream",
          "text": [
            "I can have a little\n"
          ],
          "name": "stdout"
        }
      ]
    },
    {
      "cell_type": "code",
      "metadata": {
        "id": "b_bWtuPshE-y"
      },
      "source": [
        "number = 23"
      ],
      "execution_count": null,
      "outputs": []
    },
    {
      "cell_type": "code",
      "metadata": {
        "colab": {
          "base_uri": "https://localhost:8080/"
        },
        "id": "YRrEI-1ahzbe",
        "outputId": "932c5735-12ec-4090-8b4d-c25f16e08b81"
      },
      "source": [
        "if number >= 10 :\n",
        "  print(\"'The number is equal or greater than 10'\")\n",
        "else :\n",
        "  print(\"The number is less than 10\")"
      ],
      "execution_count": null,
      "outputs": [
        {
          "output_type": "stream",
          "text": [
            "'The number is equal or greater than 10'\n"
          ],
          "name": "stdout"
        }
      ]
    },
    {
      "cell_type": "code",
      "metadata": {
        "colab": {
          "base_uri": "https://localhost:8080/"
        },
        "id": "Blncd7F_kh95",
        "outputId": "313ea246-296d-4d58-af90-a5635db2cf21"
      },
      "source": [
        "score = int(input(\"Enter your score :\"))\n",
        "\n",
        "if score >= 90:\n",
        "  if score >= 95:\n",
        "    Score_letter=\"A+\"\n",
        "  else:\n",
        "    Score_letter=\"A\"\n",
        "elif score >= 80:\n",
        "  if score >= 85:\n",
        "    Score_letter=\"B+\"\n",
        "  else:\n",
        "      Score_letter=\"B\"\n",
        "else:\n",
        "  Score_letter=\"bellow B\"\n",
        "print(\"Your degree: %s\" % Score_letter)"
      ],
      "execution_count": null,
      "outputs": [
        {
          "output_type": "stream",
          "text": [
            "Enter your score :75\n",
            "Your degree: bellow B\n"
          ],
          "name": "stdout"
        }
      ]
    },
    {
      "cell_type": "code",
      "metadata": {
        "colab": {
          "base_uri": "https://localhost:8080/"
        },
        "id": "HDHkHUKBmMje",
        "outputId": "356fde27-2b52-4ae6-856d-532d8cc3daa6"
      },
      "source": [
        "set_1 = {\"red\", \"blue\", \"pink\", \"red\"}\n",
        "print(set_1)"
      ],
      "execution_count": null,
      "outputs": [
        {
          "output_type": "stream",
          "text": [
            "{'red', 'blue', 'pink'}\n"
          ],
          "name": "stdout"
        }
      ]
    },
    {
      "cell_type": "code",
      "metadata": {
        "colab": {
          "base_uri": "https://localhost:8080/"
        },
        "id": "Dc6EPlt2ulae",
        "outputId": "81479cec-765f-47a8-b410-187e85b8141e"
      },
      "source": [
        "letter = \"a b c d e f g h i j k l m n o p r s t x v y z\".split()\n",
        "print(letter)"
      ],
      "execution_count": null,
      "outputs": [
        {
          "output_type": "stream",
          "text": [
            "['a', 'b', 'c', 'd', 'e', 'f', 'g', 'h', 'i', 'j', 'k', 'l', 'm', 'n', 'o', 'p', 'r', 's', 't', 'x', 'v', 'y', 'z']\n"
          ],
          "name": "stdout"
        }
      ]
    },
    {
      "cell_type": "code",
      "metadata": {
        "colab": {
          "base_uri": "https://localhost:8080/"
        },
        "id": "HX2j7iB8vjeq",
        "outputId": "f813ddb7-0d47-4e8e-c6d6-9bd3f0eca1cb"
      },
      "source": [
        "print(set(letter))"
      ],
      "execution_count": null,
      "outputs": [
        {
          "output_type": "stream",
          "text": [
            "{'o', 'e', 'y', 'a', 'c', 's', 'p', 'r', 'k', 'f', 'h', 'm', 'i', 'g', 'n', 'b', 't', 'z', 'l', 'j', 'd', 'v', 'x'}\n"
          ],
          "name": "stdout"
        }
      ]
    },
    {
      "cell_type": "code",
      "metadata": {
        "colab": {
          "base_uri": "https://localhost:8080/"
        },
        "id": "57N48oDCvoqJ",
        "outputId": "b2ae8f16-8055-4fe5-ce8a-4b2dec9f2bde"
      },
      "source": [
        "test = {1, \"bir\", 1.0}\n",
        "len(test)"
      ],
      "execution_count": null,
      "outputs": [
        {
          "output_type": "execute_result",
          "data": {
            "text/plain": [
              "2"
            ]
          },
          "metadata": {
            "tags": []
          },
          "execution_count": 55
        }
      ]
    },
    {
      "cell_type": "code",
      "metadata": {
        "colab": {
          "base_uri": "https://localhost:8080/"
        },
        "id": "PxuKCezFwDql",
        "outputId": "f3a89aa0-5101-4042-ec20-9d6e91f5d9eb"
      },
      "source": [
        "1 == 1.0"
      ],
      "execution_count": null,
      "outputs": [
        {
          "output_type": "execute_result",
          "data": {
            "text/plain": [
              "True"
            ]
          },
          "metadata": {
            "tags": []
          },
          "execution_count": 56
        }
      ]
    },
    {
      "cell_type": "code",
      "metadata": {
        "colab": {
          "base_uri": "https://localhost:8080/"
        },
        "id": "o68BS-qKwiWr",
        "outputId": "e43fe99f-4600-403f-9c7f-850418d8c354"
      },
      "source": [
        "a = {'carnation', 'orchid', 'rose', 'violet'} \n",
        "b = {'rose', 'orchid', 'rose', 'violet', 'carnation'}\n",
        "a == b"
      ],
      "execution_count": null,
      "outputs": [
        {
          "output_type": "execute_result",
          "data": {
            "text/plain": [
              "True"
            ]
          },
          "metadata": {
            "tags": []
          },
          "execution_count": 59
        }
      ]
    },
    {
      "cell_type": "code",
      "metadata": {
        "id": "3uYL3_4gxVGJ"
      },
      "source": [
        "date = \"12/07/2021\""
      ],
      "execution_count": null,
      "outputs": []
    },
    {
      "cell_type": "code",
      "metadata": {
        "colab": {
          "base_uri": "https://localhost:8080/"
        },
        "id": "2FqSqT7qzvjc",
        "outputId": "82ce1c80-811c-42a1-b9f8-e74cb1993d41"
      },
      "source": [
        "set(date)"
      ],
      "execution_count": null,
      "outputs": [
        {
          "output_type": "execute_result",
          "data": {
            "text/plain": [
              "{'/', '0', '1', '2', '7'}"
            ]
          },
          "metadata": {
            "tags": []
          },
          "execution_count": 61
        }
      ]
    },
    {
      "cell_type": "code",
      "metadata": {
        "colab": {
          "base_uri": "https://localhost:8080/"
        },
        "id": "Aag9FW4-zw_Z",
        "outputId": "63fe5e55-edef-4833-c847-bf04af317de6"
      },
      "source": [
        "given_list = [1, 2, 3, 3, 3, 3, 4, 4, 5, 5]\n",
        "unique = set(given_list)\n",
        "print(unique)"
      ],
      "execution_count": null,
      "outputs": [
        {
          "output_type": "stream",
          "text": [
            "{1, 2, 3, 4, 5}\n"
          ],
          "name": "stdout"
        }
      ]
    },
    {
      "cell_type": "code",
      "metadata": {
        "colab": {
          "base_uri": "https://localhost:8080/",
          "height": 171
        },
        "id": "yoRq2de20rqc",
        "outputId": "5e50e073-127d-45d9-c666-846e0a7a6fdf"
      },
      "source": [
        "test = {given_list}"
      ],
      "execution_count": null,
      "outputs": [
        {
          "output_type": "error",
          "ename": "TypeError",
          "evalue": "ignored",
          "traceback": [
            "\u001b[0;31m---------------------------------------------------------------------------\u001b[0m",
            "\u001b[0;31mTypeError\u001b[0m                                 Traceback (most recent call last)",
            "\u001b[0;32m<ipython-input-63-8e940cf7b92c>\u001b[0m in \u001b[0;36m<module>\u001b[0;34m()\u001b[0m\n\u001b[0;32m----> 1\u001b[0;31m \u001b[0mtest\u001b[0m \u001b[0;34m=\u001b[0m \u001b[0;34m{\u001b[0m\u001b[0mgiven_list\u001b[0m\u001b[0;34m}\u001b[0m\u001b[0;34m\u001b[0m\u001b[0;34m\u001b[0m\u001b[0m\n\u001b[0m",
            "\u001b[0;31mTypeError\u001b[0m: unhashable type: 'list'"
          ]
        }
      ]
    },
    {
      "cell_type": "code",
      "metadata": {
        "colab": {
          "base_uri": "https://localhost:8080/"
        },
        "id": "bEdoT16204NL",
        "outputId": "97a148a0-f078-4262-e2d7-4bab101909b2"
      },
      "source": [
        "test = {1, 2, 3, 3, 3, 3, 4, 4, 5, 5}\n",
        "test"
      ],
      "execution_count": null,
      "outputs": [
        {
          "output_type": "execute_result",
          "data": {
            "text/plain": [
              "{1, 2, 3, 4, 5}"
            ]
          },
          "metadata": {
            "tags": []
          },
          "execution_count": 64
        }
      ]
    },
    {
      "cell_type": "code",
      "metadata": {
        "colab": {
          "base_uri": "https://localhost:8080/"
        },
        "id": "Yx5Wz3SM1FS3",
        "outputId": "eecd5807-b522-42a6-f89c-0ed79114bbec"
      },
      "source": [
        "nz_capt = set(\"wellington\")\n",
        "usa_capt = set(\"washington\")\n",
        "\n",
        "print(nz_capt)\n",
        "print(usa_capt)"
      ],
      "execution_count": null,
      "outputs": [
        {
          "output_type": "stream",
          "text": [
            "{'o', 'e', 't', 'l', 'w', 'i', 'g', 'n'}\n",
            "{'n', 'o', 'h', 't', 'w', 'a', 'i', 'g', 's'}\n"
          ],
          "name": "stdout"
        }
      ]
    },
    {
      "cell_type": "code",
      "metadata": {
        "colab": {
          "base_uri": "https://localhost:8080/"
        },
        "id": "SgGbUGIX-M_w",
        "outputId": "ab19fc20-015f-4c9c-ba3f-060d36a68a29"
      },
      "source": [
        "print(nz_capt & (usa_capt)) #kesişim"
      ],
      "execution_count": null,
      "outputs": [
        {
          "output_type": "stream",
          "text": [
            "{'o', 't', 'w', 'i', 'g', 'n'}\n"
          ],
          "name": "stdout"
        }
      ]
    },
    {
      "cell_type": "code",
      "metadata": {
        "colab": {
          "base_uri": "https://localhost:8080/"
        },
        "id": "j_F3_iKC-jlG",
        "outputId": "31fb310e-9f00-4a19-b365-2d577456b9ce"
      },
      "source": [
        "print(nz_capt | (usa_capt))# birleşim"
      ],
      "execution_count": null,
      "outputs": [
        {
          "output_type": "stream",
          "text": [
            "{'o', 'h', 'e', 't', 'l', 'w', 'a', 's', 'i', 'g', 'n'}\n"
          ],
          "name": "stdout"
        }
      ]
    },
    {
      "cell_type": "code",
      "metadata": {
        "colab": {
          "base_uri": "https://localhost:8080/"
        },
        "id": "RnIVTDZe-4Fe",
        "outputId": "5a546456-569c-4d93-d821-6617b3da042f"
      },
      "source": [
        "print(nz_capt & (usa_capt)) # fark"
      ],
      "execution_count": null,
      "outputs": [
        {
          "output_type": "stream",
          "text": [
            "{'o', 't', 'w', 'i', 'g', 'n'}\n"
          ],
          "name": "stdout"
        }
      ]
    },
    {
      "cell_type": "code",
      "metadata": {
        "colab": {
          "base_uri": "https://localhost:8080/"
        },
        "id": "ohxkIwAw-7Je",
        "outputId": "43e733bc-0db1-40f0-c71a-efdfb5008825"
      },
      "source": [
        "if 1 :\n",
        "  print(\"bu çalışır\")"
      ],
      "execution_count": null,
      "outputs": [
        {
          "output_type": "stream",
          "text": [
            "bu çalışır\n"
          ],
          "name": "stdout"
        }
      ]
    },
    {
      "cell_type": "code",
      "metadata": {
        "id": "-IdBS5iAB5gC"
      },
      "source": [
        "minced = True\n",
        "bread = True\n",
        "#green\n",
        "lettuce =True\n",
        "onion = True\n",
        "grocer = True"
      ],
      "execution_count": null,
      "outputs": []
    },
    {
      "cell_type": "code",
      "metadata": {
        "id": "vvopi3PVDLMW"
      },
      "source": [
        "hamburger = (minced and grocer and bread) and (lettuce or onion)"
      ],
      "execution_count": null,
      "outputs": []
    },
    {
      "cell_type": "code",
      "metadata": {
        "colab": {
          "base_uri": "https://localhost:8080/"
        },
        "id": "6wqCdIPfDhrB",
        "outputId": "31cbbc78-41d8-4219-a9a9-a46f5dbd374e"
      },
      "source": [
        "if hamburger :\n",
        "  print(\"Bon Appetit\")"
      ],
      "execution_count": null,
      "outputs": [
        {
          "output_type": "stream",
          "text": [
            "Bon Appetit\n"
          ],
          "name": "stdout"
        }
      ]
    },
    {
      "cell_type": "code",
      "metadata": {
        "colab": {
          "base_uri": "https://localhost:8080/"
        },
        "id": "00Fuo0s9Dmbc",
        "outputId": "752987d6-583d-4543-99a7-97e79c6983c0"
      },
      "source": [
        "\"2\" < \"39\" # ASCI koduna göre "
      ],
      "execution_count": null,
      "outputs": [
        {
          "output_type": "execute_result",
          "data": {
            "text/plain": [
              "True"
            ]
          },
          "metadata": {
            "tags": []
          },
          "execution_count": 83
        }
      ]
    },
    {
      "cell_type": "code",
      "metadata": {
        "colab": {
          "base_uri": "https://localhost:8080/"
        },
        "id": "Mw-WJh-jJ2DF",
        "outputId": "865c6009-6eb2-4c79-c3c8-142fb03ab832"
      },
      "source": [
        "\"4\" < \"39\""
      ],
      "execution_count": null,
      "outputs": [
        {
          "output_type": "execute_result",
          "data": {
            "text/plain": [
              "False"
            ]
          },
          "metadata": {
            "tags": []
          },
          "execution_count": 84
        }
      ]
    },
    {
      "cell_type": "code",
      "metadata": {
        "id": "sADRyjmsJ9ZU"
      },
      "source": [
        "a = set(\"TWELVE PLUS ONE\")\n",
        "b = set(\"ELEVEN PLUS TWO\")"
      ],
      "execution_count": null,
      "outputs": []
    },
    {
      "cell_type": "code",
      "metadata": {
        "colab": {
          "base_uri": "https://localhost:8080/"
        },
        "id": "XKpOcy1WMk5a",
        "outputId": "c7518c05-b887-4e4e-ca9a-55ec0bfb1d6c"
      },
      "source": [
        "print(a)\n",
        "print(b)"
      ],
      "execution_count": null,
      "outputs": [
        {
          "output_type": "stream",
          "text": [
            "{'L', 'T', ' ', 'E', 'O', 'S', 'P', 'U', 'W', 'V', 'N'}\n",
            "{'L', ' ', 'T', 'E', 'O', 'S', 'P', 'U', 'W', 'V', 'N'}\n"
          ],
          "name": "stdout"
        }
      ]
    },
    {
      "cell_type": "code",
      "metadata": {
        "colab": {
          "base_uri": "https://localhost:8080/"
        },
        "id": "fkGBibyBMrQS",
        "outputId": "54c79ce2-66ea-4c07-de5c-b447cb80dbf2"
      },
      "source": [
        "if a == b :\n",
        "  print(\"We are the same\");"
      ],
      "execution_count": null,
      "outputs": [
        {
          "output_type": "stream",
          "text": [
            "We are the same\n"
          ],
          "name": "stdout"
        }
      ]
    },
    {
      "cell_type": "code",
      "metadata": {
        "colab": {
          "base_uri": "https://localhost:8080/"
        },
        "id": "sEd8-TsdOyPK",
        "outputId": "58907ad5-9065-408c-cbdf-d3293421a759"
      },
      "source": [
        "convert = input(\"Enter yes or no : \").title().strip == \"Yes\" #tittle baş harf duyarlılığı için koyulur #strip boşlıkları kaldırır. "
      ],
      "execution_count": null,
      "outputs": [
        {
          "output_type": "stream",
          "text": [
            "Enter yes or no : yes\n"
          ],
          "name": "stdout"
        }
      ]
    },
    {
      "cell_type": "code",
      "metadata": {
        "colab": {
          "base_uri": "https://localhost:8080/"
        },
        "id": "VmIRUZO_QD06",
        "outputId": "a66da579-e5a4-4374-ae23-03d3d0967600"
      },
      "source": [
        "print(type(convert))\n",
        "print(convert)"
      ],
      "execution_count": null,
      "outputs": [
        {
          "output_type": "stream",
          "text": [
            "<class 'bool'>\n",
            "False\n"
          ],
          "name": "stdout"
        }
      ]
    },
    {
      "cell_type": "code",
      "metadata": {
        "colab": {
          "base_uri": "https://localhost:8080/"
        },
        "id": "fJhTz3zyQPh8",
        "outputId": "0677e9fd-7dde-476a-9622-ed113f512990"
      },
      "source": [
        "print(\"You entered\", convert)"
      ],
      "execution_count": null,
      "outputs": [
        {
          "output_type": "stream",
          "text": [
            "You entered False\n"
          ],
          "name": "stdout"
        }
      ]
    },
    {
      "cell_type": "code",
      "metadata": {
        "id": "IcrGJwpsQWsk"
      },
      "source": [
        "lamp = (\"Red\", \"Yellow\", \"Green\")"
      ],
      "execution_count": null,
      "outputs": []
    },
    {
      "cell_type": "code",
      "metadata": {
        "colab": {
          "base_uri": "https://localhost:8080/"
        },
        "id": "EMp9pJdtRe_U",
        "outputId": "2a2f496f-ab50-41b5-bd8e-7b355361155f"
      },
      "source": [
        "lamp = input(\"Enter a code\")"
      ],
      "execution_count": null,
      "outputs": [
        {
          "output_type": "stream",
          "text": [
            "Enter a codeYellow\n"
          ],
          "name": "stdout"
        }
      ]
    },
    {
      "cell_type": "code",
      "metadata": {
        "colab": {
          "base_uri": "https://localhost:8080/"
        },
        "id": "2CqvcCZYQ6tS",
        "outputId": "3f042467-cacd-4f0b-a9e4-4fc94fa00ed7"
      },
      "source": [
        "if lamp == \"Green\" :\n",
        "  print(\"Go\")\n",
        "else :\n",
        "  print(\"Stop\")"
      ],
      "execution_count": null,
      "outputs": [
        {
          "output_type": "stream",
          "text": [
            "Stop\n"
          ],
          "name": "stdout"
        }
      ]
    },
    {
      "cell_type": "code",
      "metadata": {
        "colab": {
          "base_uri": "https://localhost:8080/"
        },
        "id": "XKU5kbzyRH2R",
        "outputId": "35dea8df-4f10-4d15-8b0d-7b1ded1c7c07"
      },
      "source": [
        "task1 = int(input(\"Enter a Number : \")) # Sıfır Girilmeyecek\n",
        "if task1 > 0: \n",
        "  print(\"Girmiş olduğunuz sayı ({}) Pozitiftir\".format(task1))\n",
        "else :\n",
        "  print(\"Girmiş olduğunzu sayı ({}) Negatiftir.\".format(task1))"
      ],
      "execution_count": null,
      "outputs": [
        {
          "output_type": "stream",
          "text": [
            "Enter a Number : -1\n",
            "Girmiş olduğunzu sayı (-1) Negatiftir.\n"
          ],
          "name": "stdout"
        }
      ]
    },
    {
      "cell_type": "code",
      "metadata": {
        "id": "x9RgsuYJTUDp",
        "colab": {
          "base_uri": "https://localhost:8080/"
        },
        "outputId": "1e409545-753a-4318-94a3-cfb932edfe3f"
      },
      "source": [
        "a = float(input(\"Enter the first Number : \"))\n",
        "b = float(input(\"Enter the second Number : \"))\n",
        "if a > b: \n",
        "  larger = a\n",
        "else :\n",
        "  larger = b\n",
        "print(\"The Larger Number is :\", larger)"
      ],
      "execution_count": null,
      "outputs": [
        {
          "output_type": "stream",
          "text": [
            "Enter the first Number : 6.1\n",
            "Enter the second Number : 6\n",
            "The Larger Number is : 6.1\n"
          ],
          "name": "stdout"
        }
      ]
    },
    {
      "cell_type": "code",
      "metadata": {
        "colab": {
          "base_uri": "https://localhost:8080/"
        },
        "id": "afuxzJp7K7Of",
        "outputId": "be0c507b-d07e-4d03-964f-212d614fa875"
      },
      "source": [
        "bool_value = False #True\n",
        "\n",
        "if bool_value :\n",
        "  print(\"Yes\")\n",
        "else:\n",
        "  print(\"No\")"
      ],
      "execution_count": null,
      "outputs": [
        {
          "output_type": "stream",
          "text": [
            "No\n"
          ],
          "name": "stdout"
        }
      ]
    },
    {
      "cell_type": "code",
      "metadata": {
        "colab": {
          "base_uri": "https://localhost:8080/"
        },
        "id": "IW3sDaK7NXq_",
        "outputId": "b64098e2-d423-4836-feec-06874b797640"
      },
      "source": [
        "x = int(input(\"Enter first number : \"))\n",
        "y = int(input(\"Enter second number : \"))\n",
        "z = int(input(\"Enter third number : \"))\n",
        "\n",
        "if (x > y) and (x > z) :\n",
        "  largest = x\n",
        "elif (y > x) and (y > z) :\n",
        "  largest = y\n",
        "else :\n",
        "  largest = z\n",
        "print(\"The Larger Number is :\", largest)"
      ],
      "execution_count": null,
      "outputs": [
        {
          "output_type": "stream",
          "text": [
            "Enter first number : 3\n",
            "Enter second number : 5\n",
            "Enter third number : 4\n",
            "The Larger Number is : 5\n"
          ],
          "name": "stdout"
        }
      ]
    },
    {
      "cell_type": "code",
      "metadata": {
        "colab": {
          "base_uri": "https://localhost:8080/"
        },
        "id": "fMXtIiFkNX0A",
        "outputId": "ed79d019-d6d3-4eef-d156-ddb2420b6e97"
      },
      "source": [
        "x = 7\n",
        "\n",
        "if x == 3 :\n",
        "  print(\"üç\")\n",
        "\n",
        "elif x == 4 :\n",
        "  print(\"dört\")\n",
        "  \n",
        "elif x == 5 :\n",
        "  print(\"beş\")\n",
        "\n",
        "else :\n",
        "  print(\"sonsuz\")\n",
        "\n",
        "print(\"kod sonu geldi.\")"
      ],
      "execution_count": null,
      "outputs": [
        {
          "output_type": "stream",
          "text": [
            "sonsuz\n",
            "kod sonu geldi.\n"
          ],
          "name": "stdout"
        }
      ]
    },
    {
      "cell_type": "code",
      "metadata": {
        "id": "6bHeaSfUNX8h"
      },
      "source": [
        "items = (10, 20)"
      ],
      "execution_count": null,
      "outputs": []
    },
    {
      "cell_type": "code",
      "metadata": {
        "id": "Myb_0AKTNYDl"
      },
      "source": [
        "x, y = items"
      ],
      "execution_count": null,
      "outputs": []
    },
    {
      "cell_type": "code",
      "metadata": {
        "colab": {
          "base_uri": "https://localhost:8080/"
        },
        "id": "uyQDcoT4L03I",
        "outputId": "1a9bf6c6-4a4b-472f-92c7-70a54e45a56f"
      },
      "source": [
        "x"
      ],
      "execution_count": null,
      "outputs": [
        {
          "output_type": "execute_result",
          "data": {
            "text/plain": [
              "10"
            ]
          },
          "metadata": {
            "tags": []
          },
          "execution_count": 29
        }
      ]
    },
    {
      "cell_type": "code",
      "metadata": {
        "colab": {
          "base_uri": "https://localhost:8080/"
        },
        "id": "CYSJV7puL08p",
        "outputId": "9b422066-d764-413b-e5cb-f0124a348872"
      },
      "source": [
        "y"
      ],
      "execution_count": null,
      "outputs": [
        {
          "output_type": "execute_result",
          "data": {
            "text/plain": [
              "20"
            ]
          },
          "metadata": {
            "tags": []
          },
          "execution_count": 30
        }
      ]
    },
    {
      "cell_type": "code",
      "metadata": {
        "id": "viV2vOHJL1LK"
      },
      "source": [
        "a,_,b,_ = (10,20,30,40) # almak istemedğimiz değerler yerine _ kullanırız."
      ],
      "execution_count": null,
      "outputs": []
    },
    {
      "cell_type": "code",
      "metadata": {
        "colab": {
          "base_uri": "https://localhost:8080/"
        },
        "id": "TqXnpGh_L1Ql",
        "outputId": "f6692058-ca3a-4c24-8091-471f37fac4e0"
      },
      "source": [
        "a"
      ],
      "execution_count": null,
      "outputs": [
        {
          "output_type": "execute_result",
          "data": {
            "text/plain": [
              "10"
            ]
          },
          "metadata": {
            "tags": []
          },
          "execution_count": 34
        }
      ]
    },
    {
      "cell_type": "code",
      "metadata": {
        "colab": {
          "base_uri": "https://localhost:8080/"
        },
        "id": "BCXqykU_L1Xc",
        "outputId": "d48f824b-6601-434e-8673-5828a94c36cf"
      },
      "source": [
        "b"
      ],
      "execution_count": null,
      "outputs": [
        {
          "output_type": "execute_result",
          "data": {
            "text/plain": [
              "30"
            ]
          },
          "metadata": {
            "tags": []
          },
          "execution_count": 35
        }
      ]
    },
    {
      "cell_type": "code",
      "metadata": {
        "colab": {
          "base_uri": "https://localhost:8080/"
        },
        "id": "zVOV_sCuL1c4",
        "outputId": "3abf545a-70c9-4b8f-bb3e-29220d921cda"
      },
      "source": [
        "print(a,b,_)"
      ],
      "execution_count": null,
      "outputs": [
        {
          "output_type": "stream",
          "text": [
            "10 30 40\n"
          ],
          "name": "stdout"
        }
      ]
    },
    {
      "cell_type": "code",
      "metadata": {
        "id": "05peZKisbdW4"
      },
      "source": [
        "x, y, *_ = (11,22,33,44,55,66,77)"
      ],
      "execution_count": null,
      "outputs": []
    },
    {
      "cell_type": "code",
      "metadata": {
        "colab": {
          "base_uri": "https://localhost:8080/"
        },
        "id": "ZQjlgeTpbdcp",
        "outputId": "a9f765d5-88dc-4149-e438-32920f6dd2fe"
      },
      "source": [
        "x"
      ],
      "execution_count": null,
      "outputs": [
        {
          "output_type": "execute_result",
          "data": {
            "text/plain": [
              "11"
            ]
          },
          "metadata": {
            "tags": []
          },
          "execution_count": 43
        }
      ]
    },
    {
      "cell_type": "code",
      "metadata": {
        "colab": {
          "base_uri": "https://localhost:8080/"
        },
        "id": "3OfxFMjPbdi3",
        "outputId": "0c1e9ffb-6ad0-4366-d5b2-405f6b7af9cb"
      },
      "source": [
        "y"
      ],
      "execution_count": null,
      "outputs": [
        {
          "output_type": "execute_result",
          "data": {
            "text/plain": [
              "22"
            ]
          },
          "metadata": {
            "tags": []
          },
          "execution_count": 44
        }
      ]
    },
    {
      "cell_type": "code",
      "metadata": {
        "colab": {
          "base_uri": "https://localhost:8080/"
        },
        "id": "Wm6fyzlKbdrW",
        "outputId": "68a844a2-7465-480f-f491-59bb3a03f088"
      },
      "source": [
        "_ "
      ],
      "execution_count": null,
      "outputs": [
        {
          "output_type": "execute_result",
          "data": {
            "text/plain": [
              "[33, 44, 55, 66, 77]"
            ]
          },
          "metadata": {
            "tags": []
          },
          "execution_count": 47
        }
      ]
    },
    {
      "cell_type": "code",
      "metadata": {
        "id": "1dcLargPbd0C"
      },
      "source": [
        "x, y, *z, t= (11,22,33,44,55,66,77)"
      ],
      "execution_count": null,
      "outputs": []
    },
    {
      "cell_type": "code",
      "metadata": {
        "colab": {
          "base_uri": "https://localhost:8080/"
        },
        "id": "e4AXPOJjbd6a",
        "outputId": "1e2ace7f-d878-4d0c-88e9-09a57fb08ff5"
      },
      "source": [
        "print(x, y, z, t)"
      ],
      "execution_count": null,
      "outputs": [
        {
          "output_type": "stream",
          "text": [
            "11 22 [33, 44, 55, 66] 77\n"
          ],
          "name": "stdout"
        }
      ]
    },
    {
      "cell_type": "code",
      "metadata": {
        "id": "vnS5qCd9beAn"
      },
      "source": [
        "x, y, *_, t = (11,22,33,44,55,66,77)"
      ],
      "execution_count": null,
      "outputs": []
    },
    {
      "cell_type": "code",
      "metadata": {
        "colab": {
          "base_uri": "https://localhost:8080/"
        },
        "id": "K9ElC4-LbeHA",
        "outputId": "850d1617-16bb-4597-a0e7-ced5e7197f5c"
      },
      "source": [
        "print(x, y, t)"
      ],
      "execution_count": null,
      "outputs": [
        {
          "output_type": "stream",
          "text": [
            "11 22 77\n"
          ],
          "name": "stdout"
        }
      ]
    },
    {
      "cell_type": "code",
      "metadata": {
        "colab": {
          "base_uri": "https://localhost:8080/"
        },
        "id": "twyC-hx1bePF",
        "outputId": "cfd21eef-629e-4cbf-a1d7-527b1583518c"
      },
      "source": [
        "max(1,2,3)"
      ],
      "execution_count": null,
      "outputs": [
        {
          "output_type": "execute_result",
          "data": {
            "text/plain": [
              "3"
            ]
          },
          "metadata": {
            "tags": []
          },
          "execution_count": 53
        }
      ]
    },
    {
      "cell_type": "code",
      "metadata": {
        "id": "aien56iZbeVY"
      },
      "source": [
        "empty = []"
      ],
      "execution_count": null,
      "outputs": []
    },
    {
      "cell_type": "code",
      "metadata": {
        "colab": {
          "base_uri": "https://localhost:8080/"
        },
        "id": "9-Lc7UeMbecY",
        "outputId": "34edc849-e1e7-441c-b25d-0950e7809b2b"
      },
      "source": [
        "max(empty, default=True) #default'u döndürür."
      ],
      "execution_count": null,
      "outputs": [
        {
          "output_type": "execute_result",
          "data": {
            "text/plain": [
              "True"
            ]
          },
          "metadata": {
            "tags": []
          },
          "execution_count": 55
        }
      ]
    },
    {
      "cell_type": "code",
      "metadata": {
        "id": "X0GULRlzbejq"
      },
      "source": [
        "seq = [1,1,1,1,1,2,2,2,3,3,4,4]"
      ],
      "execution_count": null,
      "outputs": []
    },
    {
      "cell_type": "code",
      "metadata": {
        "colab": {
          "base_uri": "https://localhost:8080/"
        },
        "id": "V2SzEDqqbesR",
        "outputId": "57714095-7e8c-4e77-c5f1-3c173af622ca"
      },
      "source": [
        "max(seq)"
      ],
      "execution_count": null,
      "outputs": [
        {
          "output_type": "execute_result",
          "data": {
            "text/plain": [
              "4"
            ]
          },
          "metadata": {
            "tags": []
          },
          "execution_count": 63
        }
      ]
    },
    {
      "cell_type": "code",
      "metadata": {
        "colab": {
          "base_uri": "https://localhost:8080/"
        },
        "id": "HtF6XQZYbe46",
        "outputId": "7dd7bb90-ad28-4a1d-cfc1-1bb3cffa7ce4"
      },
      "source": [
        "seq.count(4)"
      ],
      "execution_count": null,
      "outputs": [
        {
          "output_type": "execute_result",
          "data": {
            "text/plain": [
              "2"
            ]
          },
          "metadata": {
            "tags": []
          },
          "execution_count": 64
        }
      ]
    },
    {
      "cell_type": "code",
      "metadata": {
        "colab": {
          "base_uri": "https://localhost:8080/"
        },
        "id": "WFODGtlzbe-_",
        "outputId": "2ffe33a7-6fea-4ce2-f4be-fb7341b9c883"
      },
      "source": [
        "seq.count(max(seq))"
      ],
      "execution_count": null,
      "outputs": [
        {
          "output_type": "execute_result",
          "data": {
            "text/plain": [
              "2"
            ]
          },
          "metadata": {
            "tags": []
          },
          "execution_count": 65
        }
      ]
    },
    {
      "cell_type": "code",
      "metadata": {
        "colab": {
          "base_uri": "https://localhost:8080/"
        },
        "id": "kqzVtDIibfFe",
        "outputId": "1110c5c4-c47a-461e-9abc-231b21c26d16"
      },
      "source": [
        "seq.count(1)"
      ],
      "execution_count": null,
      "outputs": [
        {
          "output_type": "execute_result",
          "data": {
            "text/plain": [
              "5"
            ]
          },
          "metadata": {
            "tags": []
          },
          "execution_count": 67
        }
      ]
    },
    {
      "cell_type": "code",
      "metadata": {
        "id": "YPptzDcdbfL-"
      },
      "source": [
        "a = max(seq, key = seq.count)"
      ],
      "execution_count": null,
      "outputs": []
    },
    {
      "cell_type": "code",
      "metadata": {
        "id": "pCyeDOdWbfSO"
      },
      "source": [
        "#Fonksiyon () ile çağırılır."
      ],
      "execution_count": null,
      "outputs": []
    },
    {
      "cell_type": "code",
      "metadata": {
        "id": "RfEpho-LL1uT"
      },
      "source": [
        "b = seq.count(max(seq, key = seq.count))"
      ],
      "execution_count": null,
      "outputs": []
    },
    {
      "cell_type": "code",
      "metadata": {
        "colab": {
          "base_uri": "https://localhost:8080/"
        },
        "id": "UDwzRIULa666",
        "outputId": "7c823f74-f679-4f0a-a7d3-45f2bc36aee0"
      },
      "source": [
        "print(\"En çok tekrar eden {} sayısıdır ve {} kere tekrar etöiştir\".format (a,b))"
      ],
      "execution_count": null,
      "outputs": [
        {
          "output_type": "stream",
          "text": [
            "En çok tekrar eden 1 sayısıdır ve 5 kere tekrar etöiştir\n"
          ],
          "name": "stdout"
        }
      ]
    },
    {
      "cell_type": "code",
      "metadata": {
        "id": "ibSCoWXPa7Bb"
      },
      "source": [
        "left = {\"q\", \"w\", \"e\", \"r\", \"t\", \"a\", \"s\", \"d\", \"f\", \"g\", \"z\", \"x\", \"c\", \"v\", \"b\"}\n",
        "right = {\"y\", \"u\", \"i\", \"o\", \"p\", \"h\", \"j\", \"k\", \"l\", \"n\", \"m\"}\n",
        "word = \"clarusway\""
      ],
      "execution_count": null,
      "outputs": []
    },
    {
      "cell_type": "code",
      "metadata": {
        "colab": {
          "base_uri": "https://localhost:8080/"
        },
        "id": "MXvlU3d7a7Hn",
        "outputId": "2a9f5b20-0594-41ec-bd2d-21a58f6ca34a"
      },
      "source": [
        "set_word = set(word)\n",
        "set_word"
      ],
      "execution_count": null,
      "outputs": [
        {
          "output_type": "execute_result",
          "data": {
            "text/plain": [
              "{'a', 'c', 'l', 'r', 's', 'u', 'w', 'y'}"
            ]
          },
          "metadata": {
            "tags": []
          },
          "execution_count": 83
        }
      ]
    },
    {
      "cell_type": "code",
      "metadata": {
        "colab": {
          "base_uri": "https://localhost:8080/"
        },
        "id": "r0vyl3HGa7Ph",
        "outputId": "19d22708-b36e-499e-bd4f-5896fb538afe"
      },
      "source": [
        "left_bool = bool(set_word - left)\n",
        "left_bool"
      ],
      "execution_count": null,
      "outputs": [
        {
          "output_type": "execute_result",
          "data": {
            "text/plain": [
              "True"
            ]
          },
          "metadata": {
            "tags": []
          },
          "execution_count": 84
        }
      ]
    },
    {
      "cell_type": "code",
      "metadata": {
        "colab": {
          "base_uri": "https://localhost:8080/"
        },
        "id": "DpRna5Aqa7YV",
        "outputId": "8f9cf077-be5d-46d6-e1fe-6640c672d8d6"
      },
      "source": [
        "set_word - right"
      ],
      "execution_count": null,
      "outputs": [
        {
          "output_type": "execute_result",
          "data": {
            "text/plain": [
              "{'a', 'c', 'r', 's', 'w'}"
            ]
          },
          "metadata": {
            "tags": []
          },
          "execution_count": 85
        }
      ]
    },
    {
      "cell_type": "code",
      "metadata": {
        "colab": {
          "base_uri": "https://localhost:8080/"
        },
        "id": "8uwJkztfa7fe",
        "outputId": "430e7e3c-59c4-48be-a7d9-091e6c8aed1e"
      },
      "source": [
        "right_bool = bool(set_word - right)\n",
        "left_bool and right_bool"
      ],
      "execution_count": null,
      "outputs": [
        {
          "output_type": "execute_result",
          "data": {
            "text/plain": [
              "True"
            ]
          },
          "metadata": {
            "tags": []
          },
          "execution_count": 86
        }
      ]
    },
    {
      "cell_type": "markdown",
      "metadata": {
        "id": "dVii2EaKvnDh"
      },
      "source": [
        ""
      ]
    },
    {
      "cell_type": "code",
      "metadata": {
        "id": "D3ESAP4Ma9tP"
      },
      "source": [
        "x = input(\"Please enter your name\")"
      ],
      "execution_count": null,
      "outputs": []
    },
    {
      "cell_type": "code",
      "metadata": {
        "id": "3gMx3UcOa9zn",
        "colab": {
          "base_uri": "https://localhost:8080/"
        },
        "outputId": "cf5a1527-5676-4407-a91c-96eb58dfffc4"
      },
      "source": [
        "x = \"Burak\"\n",
        "y = input(\"Please enter your name : \").title().strip()\n",
        "if x == y:\n",
        "    print(\"Hello, Burak! The password is : W@12\",)\n",
        "else :\n",
        "    print( \"Hello, {} See you later.\".format(y))"
      ],
      "execution_count": null,
      "outputs": [
        {
          "output_type": "stream",
          "text": [
            "Please enter your name : bURAK\n",
            "Hello, Burak! The password is : W@12\n"
          ],
          "name": "stdout"
        }
      ]
    },
    {
      "cell_type": "code",
      "metadata": {
        "id": "j-fsbV0Ta97g",
        "colab": {
          "base_uri": "https://localhost:8080/"
        },
        "outputId": "bf0b67df-39fa-493e-e7e0-9251ae26445f"
      },
      "source": [
        "num = int(input(\"Enter a number: \"))\n",
        "\n",
        "# initialize sum\n",
        "sum = 0\n",
        "\n",
        "# find the sum of the cube of each digit\n",
        "temp = num\n",
        "while temp > 0:\n",
        "   digit = temp % 10\n",
        "   sum += digit ** 3\n",
        "   temp //= 10\n",
        "\n",
        "# display the result\n",
        "if num == sum:\n",
        "   print(num, \"is an Armstrong number\")\n",
        "else:\n",
        "   print(num, \"is not an Armstrong number\")\n"
      ],
      "execution_count": null,
      "outputs": [
        {
          "output_type": "stream",
          "text": [
            "Enter a number: 407\n",
            "407 is an Armstrong number\n"
          ],
          "name": "stdout"
        }
      ]
    },
    {
      "cell_type": "code",
      "metadata": {
        "id": "fjRx0pFMa-Oo",
        "colab": {
          "base_uri": "https://localhost:8080/"
        },
        "outputId": "c95da2f1-d585-4739-b953-e2f2bec381dc"
      },
      "source": [
        "num = int(input(\"Enter a number: \"))\n",
        "y = len(str(num))\n",
        "sum = 0\n",
        "while num > 0:\n",
        "   digit = num % 10\n",
        "   sum += digit ** y\n",
        "   num //= 10\n",
        "if num == sum:\n",
        "   print(num, \"is an Armstrong number\")\n",
        "else:\n",
        "   print(num, \"is not an Armstrong number\")"
      ],
      "execution_count": null,
      "outputs": [
        {
          "output_type": "stream",
          "text": [
            "Enter a number: 371\n",
            "0 is not an Armstrong number\n"
          ],
          "name": "stdout"
        }
      ]
    },
    {
      "cell_type": "code",
      "metadata": {
        "id": "MUXABL-wa-U3",
        "colab": {
          "base_uri": "https://localhost:8080/"
        },
        "outputId": "35ba4996-6de2-4412-9c53-984383cd2365"
      },
      "source": [
        "number = 0\n",
        "\n",
        "while number < 6:\n",
        "  print(number)\n",
        "  number += 1\n",
        "print(\"now, number is bigger or equal to 6\")"
      ],
      "execution_count": null,
      "outputs": [
        {
          "output_type": "stream",
          "text": [
            "0\n",
            "1\n",
            "2\n",
            "3\n",
            "4\n",
            "5\n",
            "now, number is bigger or equal to 6\n"
          ],
          "name": "stdout"
        }
      ]
    },
    {
      "cell_type": "code",
      "metadata": {
        "id": "37RtGXo9uIMu",
        "colab": {
          "base_uri": "https://localhost:8080/"
        },
        "outputId": "64ec9241-ff50-4962-92c4-83fad46e6224"
      },
      "source": [
        "age = input(\"Please enter your age in correct format:\")\n",
        "\n",
        "while not age.isdigit() :\n",
        "  print(\"You enter incorrect.! Write out correct format.\")\n",
        "  age = input(\"Please enter your age in correct format:\")\n",
        "print(\"Your age is : \", age)\n"
      ],
      "execution_count": null,
      "outputs": [
        {
          "output_type": "stream",
          "text": [
            "Please enter your age in correct format:22\n",
            "Your age is :  22\n"
          ],
          "name": "stdout"
        }
      ]
    },
    {
      "cell_type": "code",
      "metadata": {
        "id": "T_1HQQWVuISr",
        "colab": {
          "base_uri": "https://localhost:8080/"
        },
        "outputId": "e4dc0e0e-ef41-4866-ed3f-7455e23eec36"
      },
      "source": [
        "while 0 :\n",
        "  print(\"bir\")\n",
        "print(\"iki\")"
      ],
      "execution_count": null,
      "outputs": [
        {
          "output_type": "stream",
          "text": [
            "iki\n"
          ],
          "name": "stdout"
        }
      ]
    },
    {
      "cell_type": "code",
      "metadata": {
        "id": "JjHCfghmuIaI",
        "colab": {
          "base_uri": "https://localhost:8080/"
        },
        "outputId": "329c7544-53b1-4c26-865b-3f8f8544f545"
      },
      "source": [
        "while[] :\n",
        "  print(\"while\")\n",
        "print(\"outside of while\")"
      ],
      "execution_count": null,
      "outputs": [
        {
          "output_type": "stream",
          "text": [
            "outside of while\n"
          ],
          "name": "stdout"
        }
      ]
    },
    {
      "cell_type": "code",
      "metadata": {
        "id": "cuuHPyhauIh4",
        "colab": {
          "base_uri": "https://localhost:8080/"
        },
        "outputId": "037f7f6d-d57a-42e7-8773-1aba67ea3f89"
      },
      "source": [
        "\"-16\" .isdigit()"
      ],
      "execution_count": null,
      "outputs": [
        {
          "output_type": "execute_result",
          "data": {
            "text/plain": [
              "False"
            ]
          },
          "metadata": {
            "tags": []
          },
          "execution_count": 6
        }
      ]
    },
    {
      "cell_type": "code",
      "metadata": {
        "colab": {
          "base_uri": "https://localhost:8080/"
        },
        "id": "3noiFgs32_9C",
        "outputId": "b6da8539-62ed-4cc9-908a-276b31569d4e"
      },
      "source": [
        "\"123456789\".isdigit()"
      ],
      "execution_count": null,
      "outputs": [
        {
          "output_type": "execute_result",
          "data": {
            "text/plain": [
              "True"
            ]
          },
          "metadata": {
            "tags": []
          },
          "execution_count": 8
        }
      ]
    },
    {
      "cell_type": "code",
      "metadata": {
        "colab": {
          "base_uri": "https://localhost:8080/"
        },
        "id": "ASKCCwY63ADF",
        "outputId": "b96c05cd-1e13-48cf-b6cb-5ec70dff944c"
      },
      "source": [
        "answer = 28\n",
        "\n",
        "question = \"What a two-digit number am I thinking of?\"\n",
        "print(\"Let's play the quessing game!\")\n",
        "\n",
        "while True:\n",
        "  guess = int(input(question))\n",
        "\n",
        "  if guess < answer:\n",
        "    print(\"Little higher\")\n",
        "  elif guess > answer:\n",
        "    print(\"Little lower\")\n",
        "  else: #guess == answer\n",
        "    print(\"Are you a MINDREADER!!!\")\n",
        "    break"
      ],
      "execution_count": null,
      "outputs": [
        {
          "output_type": "stream",
          "text": [
            "Let's play the quessing game!\n",
            "What a two-digit number am I thinking of?26\n",
            "Little higher\n",
            "What a two-digit number am I thinking of?29\n",
            "Little lower\n",
            "What a two-digit number am I thinking of?28\n",
            "Are you a MINDREADER!!!\n"
          ],
          "name": "stdout"
        }
      ]
    },
    {
      "cell_type": "code",
      "metadata": {
        "colab": {
          "base_uri": "https://localhost:8080/"
        },
        "id": "upNovEaH3AKB",
        "outputId": "ec5aba05-1818-4069-ff59-ffb6d470e413"
      },
      "source": [
        "sentence = input(\"give me a sentence :\")\n",
        "words = sentence.split()\n",
        "i = 0\n",
        "longest = 0\n",
        "while i < len(words) :\n",
        "    if len(words[i]) > longest :\n",
        "        longest = len(words[i])\n",
        "    i += 1\n",
        "print(\"the lengt of the longest word is :\", longest)"
      ],
      "execution_count": null,
      "outputs": [
        {
          "output_type": "stream",
          "text": [
            "give me a sentence :cekoslavakyalılastıramadıklarımızdanmısınız\n",
            "the lengt of the longest word is : 43\n"
          ],
          "name": "stdout"
        }
      ]
    },
    {
      "cell_type": "code",
      "metadata": {
        "id": "OzrNkq3-3ARv"
      },
      "source": [
        "cekoslavakyalılastıramadıklarımızdanmısınız"
      ],
      "execution_count": null,
      "outputs": []
    },
    {
      "cell_type": "code",
      "metadata": {
        "colab": {
          "base_uri": "https://localhost:8080/"
        },
        "id": "bIFWwmfg3AXt",
        "outputId": "3d31fe6e-ade0-4904-88ef-5ea43c1fe812"
      },
      "source": [
        "sentence = input(\"give me a sentence without any punctuation :\")\n",
        "\n",
        "words = sentence.split()\n",
        "i = 0\n",
        "longest = 0\n",
        "\n",
        "while i < len(words) : \n",
        "  if len(words[i]) > longest : \n",
        "    longest = len(words[i])\n",
        "  i += 1\n",
        "\n",
        "print(\"the length of the longest wordi is :\", longest)"
      ],
      "execution_count": null,
      "outputs": [
        {
          "output_type": "stream",
          "text": [
            "give me a sentence without any punctuation :clarusway is the best\n",
            "the length of the longest wordi is : 9\n"
          ],
          "name": "stdout"
        }
      ]
    },
    {
      "cell_type": "code",
      "metadata": {
        "colab": {
          "base_uri": "https://localhost:8080/"
        },
        "id": "M5sXSKgw3A1n",
        "outputId": "bec8e48e-74c0-4baa-f868-4db22bd0de67"
      },
      "source": [
        "for i in [1, 2, 3, 4, 5] :\n",
        "  print(i)"
      ],
      "execution_count": null,
      "outputs": [
        {
          "output_type": "stream",
          "text": [
            "1\n",
            "2\n",
            "3\n",
            "4\n",
            "5\n"
          ],
          "name": "stdout"
        }
      ]
    },
    {
      "cell_type": "code",
      "metadata": {
        "colab": {
          "base_uri": "https://localhost:8080/"
        },
        "id": "5ZDW2dLC3A89",
        "outputId": "0bd303e8-d088-400e-c9dd-f15b57024fdd"
      },
      "source": [
        "seasons = [\"spring\", \"summer\", \"autumn\", \"winter\"]\n",
        "\n",
        "for season in seasons :\n",
        "  print(season)"
      ],
      "execution_count": null,
      "outputs": [
        {
          "output_type": "stream",
          "text": [
            "spring\n",
            "summer\n",
            "autumn\n",
            "winter\n"
          ],
          "name": "stdout"
        }
      ]
    },
    {
      "cell_type": "code",
      "metadata": {
        "colab": {
          "base_uri": "https://localhost:8080/"
        },
        "id": "eEPtCIl13BDV",
        "outputId": "15308a20-5200-410d-8ea4-ebb612885fa6"
      },
      "source": [
        "names = [\"Ahmed\", \"Aisha\", \"Adam\", \"Joseph\", \"Gabriel\"]\n",
        "for i in names:\n",
        "  print(\"Hello\", i)\n",
        "\n"
      ],
      "execution_count": null,
      "outputs": [
        {
          "output_type": "stream",
          "text": [
            "Hello Ahmed\n",
            "Hello Aisha\n",
            "Hello Adam\n",
            "Hello Joseph\n",
            "Hello Gabriel\n"
          ],
          "name": "stdout"
        }
      ]
    },
    {
      "cell_type": "code",
      "metadata": {
        "colab": {
          "base_uri": "https://localhost:8080/"
        },
        "id": "k-HBc6no3BPf",
        "outputId": "90389b06-b256-4cbd-b4a2-7c1a592d6ff4"
      },
      "source": [
        "numbers = list()\n",
        "\n",
        "for i in range(1,6):\n",
        "  numbers.append(i)\n",
        "print(numbers)"
      ],
      "execution_count": null,
      "outputs": [
        {
          "output_type": "stream",
          "text": [
            "[1, 2, 3, 4, 5]\n"
          ],
          "name": "stdout"
        }
      ]
    },
    {
      "cell_type": "code",
      "metadata": {
        "colab": {
          "base_uri": "https://localhost:8080/"
        },
        "id": "0x2DhBTp3BV3",
        "outputId": "b73e7ca3-fa19-4de5-ad80-6f7c22c5fc35"
      },
      "source": [
        "list(range(4,-4,-1))"
      ],
      "execution_count": null,
      "outputs": [
        {
          "output_type": "execute_result",
          "data": {
            "text/plain": [
              "[4, 3, 2, 1, 0, -1, -2, -3]"
            ]
          },
          "metadata": {
            "tags": []
          },
          "execution_count": 42
        }
      ]
    },
    {
      "cell_type": "code",
      "metadata": {
        "colab": {
          "base_uri": "https://localhost:8080/"
        },
        "id": "i-e-x5bz3Bb5",
        "outputId": "1d8852f4-c335-400f-9f15-f5a0fabde7dd"
      },
      "source": [
        "course = \"clarusway\"\n",
        "\n",
        "for i in course:\n",
        "  print(i)\n"
      ],
      "execution_count": null,
      "outputs": [
        {
          "output_type": "stream",
          "text": [
            "c\n",
            "l\n",
            "a\n",
            "r\n",
            "u\n",
            "s\n",
            "w\n",
            "a\n",
            "y\n"
          ],
          "name": "stdout"
        }
      ]
    },
    {
      "cell_type": "code",
      "metadata": {
        "colab": {
          "base_uri": "https://localhost:8080/"
        },
        "id": "2Dz23G9V3BiE",
        "outputId": "f345b77b-9e1a-41f4-de3e-fbde96fff306"
      },
      "source": [
        "word = \"Clarusway\"\n",
        "\n",
        "for i in word :\n",
        "  print(i, end = \"-\")"
      ],
      "execution_count": null,
      "outputs": [
        {
          "output_type": "stream",
          "text": [
            "C-l-a-r-u-s-w-a-y-"
          ],
          "name": "stdout"
        }
      ]
    },
    {
      "cell_type": "code",
      "metadata": {
        "colab": {
          "base_uri": "https://localhost:8080/"
        },
        "id": "vNUXkVCD3BoN",
        "outputId": "38dbf19a-2b00-46ad-ae75-5db5b7fb8a26"
      },
      "source": [
        "count = 0\n",
        "for i in word :\n",
        "  count += 1\n",
        "  if count < len(word) :\n",
        "    i = i + \"-\"\n",
        "  print(i, end = \"\")"
      ],
      "execution_count": null,
      "outputs": [
        {
          "output_type": "stream",
          "text": [
            "C-l-a-r-u-s-w-a-y"
          ],
          "name": "stdout"
        }
      ]
    },
    {
      "cell_type": "code",
      "metadata": {
        "colab": {
          "base_uri": "https://localhost:8080/"
        },
        "id": "zrSaGgso3BuG",
        "outputId": "24d522eb-d7a5-427b-c20e-2b615f7c948e"
      },
      "source": [
        "user = {\n",
        "    \"name\" : \"Daniel\",\n",
        "    \"surname\" : \"Smith\",\n",
        "    \"age\" : 3\n",
        "}\n",
        "for key, value in user.items():\n",
        "  print(key, \":\", value)"
      ],
      "execution_count": null,
      "outputs": [
        {
          "output_type": "stream",
          "text": [
            "name : Daniel\n",
            "surname : Smith\n",
            "age : 3\n"
          ],
          "name": "stdout"
        }
      ]
    },
    {
      "cell_type": "code",
      "metadata": {
        "colab": {
          "base_uri": "https://localhost:8080/"
        },
        "id": "3Orf4iiBOAqG",
        "outputId": "ff0a5e4f-6252-45e8-e41f-1eb2bd8a5a93"
      },
      "source": [
        "nmbr = int(input(\"enter a number between 1-10\"))\n",
        "\n",
        "for i in range(11):\n",
        "  print(\"{}x{} = \".format(nmbr, i), nmbr * i)"
      ],
      "execution_count": null,
      "outputs": [
        {
          "output_type": "stream",
          "text": [
            "enter a number between 1-105\n",
            "5x0 =  0\n",
            "5x1 =  5\n",
            "5x2 =  10\n",
            "5x3 =  15\n",
            "5x4 =  20\n",
            "5x5 =  25\n",
            "5x6 =  30\n",
            "5x7 =  35\n",
            "5x8 =  40\n",
            "5x9 =  45\n",
            "5x10 =  50\n"
          ],
          "name": "stdout"
        }
      ]
    },
    {
      "cell_type": "code",
      "metadata": {
        "colab": {
          "base_uri": "https://localhost:8080/"
        },
        "id": "Z_WnMohWOAwS",
        "outputId": "8a12956d-161e-4d0a-ee80-6500234124a4"
      },
      "source": [
        "for i in range(1,10):\n",
        "    print(str(i) * i)"
      ],
      "execution_count": null,
      "outputs": [
        {
          "output_type": "stream",
          "text": [
            "1\n",
            "22\n",
            "333\n",
            "4444\n",
            "55555\n",
            "666666\n",
            "7777777\n",
            "88888888\n",
            "999999999\n"
          ],
          "name": "stdout"
        }
      ]
    },
    {
      "cell_type": "code",
      "metadata": {
        "colab": {
          "base_uri": "https://localhost:8080/"
        },
        "id": "O8g_wf7QOA32",
        "outputId": "75e7adbf-7f78-4bbe-efb0-0a53debb9772"
      },
      "source": [
        "text = [\"one\", \"two\", \"three\", \"four\", \"five\"]\n",
        "numbers = [1, 2, 3, 4, 5]\n",
        "for x, y in zip(text, numbers):\n",
        "  print(x, \":\", y)"
      ],
      "execution_count": null,
      "outputs": [
        {
          "output_type": "stream",
          "text": [
            "one : 1\n",
            "two : 2\n",
            "three : 3\n",
            "four : 4\n",
            "five : 5\n"
          ],
          "name": "stdout"
        }
      ]
    },
    {
      "cell_type": "code",
      "metadata": {
        "colab": {
          "base_uri": "https://localhost:8080/"
        },
        "id": "QKH-hbe6OA9q",
        "outputId": "69efc378-2f61-4374-d8b7-06b0b4085a9c"
      },
      "source": [
        "even = []\n",
        "odd = []\n",
        "for i in range(1,10):\n",
        "  if i % 2 == 0:\n",
        "    even.append(i)\n",
        "  else:\n",
        "     odd.append(i)\n",
        "print(even)\n",
        "print(odd)"
      ],
      "execution_count": null,
      "outputs": [
        {
          "output_type": "stream",
          "text": [
            "[2, 4, 6, 8]\n",
            "[1, 3, 5, 7, 9]\n"
          ],
          "name": "stdout"
        }
      ]
    },
    {
      "cell_type": "code",
      "metadata": {
        "id": "bJHJKyrdOBDu",
        "colab": {
          "base_uri": "https://localhost:8080/"
        },
        "outputId": "75bfed23-fef7-40cb-9fdb-9bf7ba06f354"
      },
      "source": [
        "def Fibonacci(n):\n",
        "  fib = [0,1]\n",
        "  for i in range(2, n):\n",
        "    fib.append(fib[i-1] + fib[i-2])\n",
        "    if fib[-1] ==55:\n",
        "      print(fib.index(55))\n",
        "      break\n",
        "    return fib\n",
        "print(Fibonacci(15))"
      ],
      "execution_count": null,
      "outputs": [
        {
          "output_type": "stream",
          "text": [
            "[0, 1, 1]\n"
          ],
          "name": "stdout"
        }
      ]
    },
    {
      "cell_type": "code",
      "metadata": {
        "id": "dZ4tBcg7OBJb"
      },
      "source": [
        ""
      ],
      "execution_count": null,
      "outputs": []
    },
    {
      "cell_type": "code",
      "metadata": {
        "id": "3s1ylcD7OBPT"
      },
      "source": [
        ""
      ],
      "execution_count": null,
      "outputs": []
    },
    {
      "cell_type": "code",
      "metadata": {
        "id": "ghXNC8JWOBU_"
      },
      "source": [
        ""
      ],
      "execution_count": null,
      "outputs": []
    },
    {
      "cell_type": "code",
      "metadata": {
        "id": "78ACBCjsOBat"
      },
      "source": [
        ""
      ],
      "execution_count": null,
      "outputs": []
    },
    {
      "cell_type": "code",
      "metadata": {
        "id": "8gXFiyOPOBgh"
      },
      "source": [
        ""
      ],
      "execution_count": null,
      "outputs": []
    },
    {
      "cell_type": "code",
      "metadata": {
        "id": "QJrEMHZoOBmT"
      },
      "source": [
        ""
      ],
      "execution_count": null,
      "outputs": []
    },
    {
      "cell_type": "code",
      "metadata": {
        "id": "8BDCG9bROBsF"
      },
      "source": [
        ""
      ],
      "execution_count": null,
      "outputs": []
    },
    {
      "cell_type": "code",
      "metadata": {
        "id": "m-D2HUehOBze"
      },
      "source": [
        ""
      ],
      "execution_count": null,
      "outputs": []
    },
    {
      "cell_type": "code",
      "metadata": {
        "id": "v3CG1di-OB5i"
      },
      "source": [
        ""
      ],
      "execution_count": null,
      "outputs": []
    },
    {
      "cell_type": "code",
      "metadata": {
        "id": "z6KahMA_OB_O"
      },
      "source": [
        ""
      ],
      "execution_count": null,
      "outputs": []
    },
    {
      "cell_type": "code",
      "metadata": {
        "id": "H1snx81FOCFC"
      },
      "source": [
        ""
      ],
      "execution_count": null,
      "outputs": []
    },
    {
      "cell_type": "code",
      "metadata": {
        "id": "lzk_U1DUOCKz"
      },
      "source": [
        ""
      ],
      "execution_count": null,
      "outputs": []
    },
    {
      "cell_type": "code",
      "metadata": {
        "id": "XeHO3S-7OCQv"
      },
      "source": [
        ""
      ],
      "execution_count": null,
      "outputs": []
    },
    {
      "cell_type": "code",
      "metadata": {
        "id": "v0K4PIpOOCWo"
      },
      "source": [
        ""
      ],
      "execution_count": null,
      "outputs": []
    },
    {
      "cell_type": "code",
      "metadata": {
        "id": "A9hFud6HOCca"
      },
      "source": [
        ""
      ],
      "execution_count": null,
      "outputs": []
    },
    {
      "cell_type": "code",
      "metadata": {
        "id": "EWtn-9uc3B0N"
      },
      "source": [
        ""
      ],
      "execution_count": null,
      "outputs": []
    },
    {
      "cell_type": "code",
      "metadata": {
        "id": "vgsmOwxK3B6I"
      },
      "source": [
        ""
      ],
      "execution_count": null,
      "outputs": []
    },
    {
      "cell_type": "code",
      "metadata": {
        "id": "wEp4Uux43CAR"
      },
      "source": [
        ""
      ],
      "execution_count": null,
      "outputs": []
    },
    {
      "cell_type": "code",
      "metadata": {
        "id": "LR2tMokg3CGb"
      },
      "source": [
        ""
      ],
      "execution_count": null,
      "outputs": []
    },
    {
      "cell_type": "code",
      "metadata": {
        "id": "KzBiFReAuInz"
      },
      "source": [
        ""
      ],
      "execution_count": null,
      "outputs": []
    },
    {
      "cell_type": "code",
      "metadata": {
        "id": "rlWKmME6uItz"
      },
      "source": [
        ""
      ],
      "execution_count": null,
      "outputs": []
    },
    {
      "cell_type": "code",
      "metadata": {
        "id": "fOI94f5LuIzy"
      },
      "source": [
        ""
      ],
      "execution_count": null,
      "outputs": []
    },
    {
      "cell_type": "code",
      "metadata": {
        "id": "J8xHD56SuI6m"
      },
      "source": [
        ""
      ],
      "execution_count": null,
      "outputs": []
    },
    {
      "cell_type": "code",
      "metadata": {
        "id": "Vgl7LigsuJCc"
      },
      "source": [
        ""
      ],
      "execution_count": null,
      "outputs": []
    },
    {
      "cell_type": "code",
      "metadata": {
        "id": "zHH_YroMuJJT"
      },
      "source": [
        ""
      ],
      "execution_count": null,
      "outputs": []
    },
    {
      "cell_type": "code",
      "metadata": {
        "id": "7rXvIHG7uJPo"
      },
      "source": [
        ""
      ],
      "execution_count": null,
      "outputs": []
    },
    {
      "cell_type": "code",
      "metadata": {
        "id": "Axwd-2C_uJVk"
      },
      "source": [
        ""
      ],
      "execution_count": null,
      "outputs": []
    },
    {
      "cell_type": "code",
      "metadata": {
        "id": "6pvrEGi0uJbr"
      },
      "source": [
        ""
      ],
      "execution_count": null,
      "outputs": []
    },
    {
      "cell_type": "code",
      "metadata": {
        "id": "nukCRO-EuJiC"
      },
      "source": [
        ""
      ],
      "execution_count": null,
      "outputs": []
    },
    {
      "cell_type": "code",
      "metadata": {
        "id": "_W1rVfzuuJpP"
      },
      "source": [
        ""
      ],
      "execution_count": null,
      "outputs": []
    },
    {
      "cell_type": "code",
      "metadata": {
        "id": "jwc-WCeXuJvX"
      },
      "source": [
        ""
      ],
      "execution_count": null,
      "outputs": []
    },
    {
      "cell_type": "code",
      "metadata": {
        "id": "YKro9qZOuJ2y"
      },
      "source": [
        ""
      ],
      "execution_count": null,
      "outputs": []
    },
    {
      "cell_type": "code",
      "metadata": {
        "id": "MVIP4RmluJ88"
      },
      "source": [
        ""
      ],
      "execution_count": null,
      "outputs": []
    },
    {
      "cell_type": "code",
      "metadata": {
        "id": "pHV7ECx4uKCo"
      },
      "source": [
        ""
      ],
      "execution_count": null,
      "outputs": []
    },
    {
      "cell_type": "code",
      "metadata": {
        "id": "PmExSd2TuKIW"
      },
      "source": [
        ""
      ],
      "execution_count": null,
      "outputs": []
    },
    {
      "cell_type": "code",
      "metadata": {
        "id": "j0KLjpZwuKOB"
      },
      "source": [
        ""
      ],
      "execution_count": null,
      "outputs": []
    },
    {
      "cell_type": "code",
      "metadata": {
        "id": "JHRG9DBMuKTl"
      },
      "source": [
        ""
      ],
      "execution_count": null,
      "outputs": []
    },
    {
      "cell_type": "code",
      "metadata": {
        "id": "6Qubjokaa-bA"
      },
      "source": [
        ""
      ],
      "execution_count": null,
      "outputs": []
    },
    {
      "cell_type": "code",
      "metadata": {
        "id": "bInbDDofa-gz"
      },
      "source": [
        ""
      ],
      "execution_count": null,
      "outputs": []
    },
    {
      "cell_type": "code",
      "metadata": {
        "id": "p7lWN8OQa-mX"
      },
      "source": [
        ""
      ],
      "execution_count": null,
      "outputs": []
    },
    {
      "cell_type": "code",
      "metadata": {
        "id": "tOoE4fuza-sC"
      },
      "source": [
        ""
      ],
      "execution_count": null,
      "outputs": []
    }
  ]
}