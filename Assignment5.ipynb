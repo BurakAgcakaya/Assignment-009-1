{
  "nbformat": 4,
  "nbformat_minor": 0,
  "metadata": {
    "colab": {
      "name": "Untitled14.ipynb",
      "provenance": [],
      "authorship_tag": "ABX9TyOVcm3fBbUwroBgb2k7WN+5",
      "include_colab_link": true
    },
    "kernelspec": {
      "name": "python3",
      "display_name": "Python 3"
    },
    "language_info": {
      "name": "python"
    }
  },
  "cells": [
    {
      "cell_type": "markdown",
      "metadata": {
        "id": "view-in-github",
        "colab_type": "text"
      },
      "source": [
        "<a href=\"https://colab.research.google.com/github/BurakAgcakaya/Assignment-009-1/blob/master/Assignment5.ipynb\" target=\"_parent\"><img src=\"https://colab.research.google.com/assets/colab-badge.svg\" alt=\"Open In Colab\"/></a>"
      ]
    },
    {
      "cell_type": "code",
      "metadata": {
        "colab": {
          "base_uri": "https://localhost:8080/"
        },
        "id": "CLS41XLU5bNC",
        "outputId": "1e4162ed-5242-40a6-a323-bb4726b9b5df"
      },
      "source": [
        "def Fibonacci(n): \n",
        "    fib = [0,1]\n",
        "    for i in range(2, n):\n",
        "        fib.append(fib[i-1] + fib[i-2])\n",
        "        if fib[-1] ==55:\n",
        "            print(fib.index(55), \"uncu indexte hedef sayıya ulaştınız..\")\n",
        "            break\n",
        "    return fib\n",
        "print(Fibonacci(15))"
      ],
      "execution_count": 1,
      "outputs": [
        {
          "output_type": "stream",
          "text": [
            "10 uncu indexte hedef sayıya ulaştınız..\n",
            "[0, 1, 1, 2, 3, 5, 8, 13, 21, 34, 55]\n"
          ],
          "name": "stdout"
        }
      ]
    },
    {
      "cell_type": "code",
      "metadata": {
        "id": "aycyL9zK5ip9"
      },
      "source": [
        ""
      ],
      "execution_count": null,
      "outputs": []
    }
  ]
}