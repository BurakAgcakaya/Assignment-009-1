{
  "nbformat": 4,
  "nbformat_minor": 0,
  "metadata": {
    "colab": {
      "name": "Untitled12.ipynb",
      "provenance": [],
      "authorship_tag": "ABX9TyOhwgnJXHM8+rapSO9wKJlq",
      "include_colab_link": true
    },
    "kernelspec": {
      "name": "python3",
      "display_name": "Python 3"
    },
    "language_info": {
      "name": "python"
    }
  },
  "cells": [
    {
      "cell_type": "markdown",
      "metadata": {
        "id": "view-in-github",
        "colab_type": "text"
      },
      "source": [
        "<a href=\"https://colab.research.google.com/github/BurakAgcakaya/Assignment-009-1/blob/master/Untitled12.ipynb\" target=\"_parent\"><img src=\"https://colab.research.google.com/assets/colab-badge.svg\" alt=\"Open In Colab\"/></a>"
      ]
    },
    {
      "cell_type": "code",
      "metadata": {
        "colab": {
          "base_uri": "https://localhost:8080/"
        },
        "id": "IvoHRQO20FXd",
        "outputId": "b2a86b47-7cd4-4c46-ee59-9af5d91d3c71"
      },
      "source": [
        "sayı = int(input(\"Please enter your number :\"))\n",
        "asal = True\n",
        "if sayı <= 1:\n",
        "  asal = False\n",
        "for i in range (2, sayı):\n",
        "  if (sayı % i == 0) :\n",
        "    asal = False\n",
        "    break\n",
        "if asal:\n",
        "  print(\"girilen sayı asaldır\")\n",
        "else:\n",
        "  print(\"sayı asal değildir\")"
      ],
      "execution_count": 1,
      "outputs": [
        {
          "output_type": "stream",
          "text": [
            "Please enter your number :19\n",
            "girilen sayı asaldır\n"
          ],
          "name": "stdout"
        }
      ]
    },
    {
      "cell_type": "code",
      "metadata": {
        "id": "Kq5ug9UO0oOF"
      },
      "source": [
        ""
      ],
      "execution_count": null,
      "outputs": []
    }
  ]
}